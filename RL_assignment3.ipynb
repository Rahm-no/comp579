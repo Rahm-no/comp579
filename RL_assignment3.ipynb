{
  "nbformat": 4,
  "nbformat_minor": 0,
  "metadata": {
    "colab": {
      "provenance": [],
      "toc_visible": true,
      "collapsed_sections": [
        "fXJEVSvZiwX-"
      ]
    },
    "kernelspec": {
      "name": "python3",
      "display_name": "Python 3"
    },
    "language_info": {
      "name": "python"
    }
  },
  "cells": [
    {
      "cell_type": "markdown",
      "source": [
        "## Assignment 3 Done by: Rahma Nouaji ( 261126792 ) , Sarah Bellemare(261128271) & Aidan Goldfarb ( 261087814) "
      ],
      "metadata": {
        "id": "QKqKiFuq1wUR"
      }
    },
    {
      "cell_type": "markdown",
      "source": [
        "# Imports"
      ],
      "metadata": {
        "id": "sRckVs0OQ_gB"
      }
    },
    {
      "cell_type": "code",
      "execution_count": 1,
      "metadata": {
        "id": "Xg04_SYvDyf_"
      },
      "outputs": [],
      "source": [
        "from sklearn.linear_model import LogisticRegression\n",
        "from sklearn.model_selection import train_test_split\n",
        "\n",
        "import collections\n",
        "import gym\n",
        "import numpy as np\n",
        "import statistics\n",
        "import tensorflow as tf\n",
        "from tensorflow import keras\n",
        "import tqdm,random\n",
        "from tqdm import tqdm\n",
        "\n",
        "from matplotlib import pyplot as plt\n"
      ]
    },
    {
      "cell_type": "code",
      "source": [
        "!pip install gymnasium"
      ],
      "metadata": {
        "colab": {
          "base_uri": "https://localhost:8080/"
        },
        "id": "1vs4eJzNv-nV",
        "outputId": "0d7e5fef-ffb7-44da-a165-68545442c563"
      },
      "execution_count": 2,
      "outputs": [
        {
          "output_type": "stream",
          "name": "stderr",
          "text": [
            "/usr/local/lib/python3.9/dist-packages/ipykernel/ipkernel.py:283: DeprecationWarning: `should_run_async` will not call `transform_cell` automatically in the future. Please pass the result to `transformed_cell` argument and any exception that happen during thetransform in `preprocessing_exc_tuple` in IPython 7.17 and above.\n",
            "  and should_run_async(code)\n"
          ]
        },
        {
          "output_type": "stream",
          "name": "stdout",
          "text": [
            "Looking in indexes: https://pypi.org/simple, https://us-python.pkg.dev/colab-wheels/public/simple/\n",
            "Collecting gymnasium\n",
            "  Downloading gymnasium-0.28.1-py3-none-any.whl (925 kB)\n",
            "\u001b[2K     \u001b[90m━━━━━━━━━━━━━━━━━━━━━━━━━━━━━━━━━━━━━━━\u001b[0m \u001b[32m925.5/925.5 KB\u001b[0m \u001b[31m7.6 MB/s\u001b[0m eta \u001b[36m0:00:00\u001b[0m\n",
            "\u001b[?25hRequirement already satisfied: importlib-metadata>=4.8.0 in /usr/local/lib/python3.9/dist-packages (from gymnasium) (6.1.0)\n",
            "Requirement already satisfied: cloudpickle>=1.2.0 in /usr/local/lib/python3.9/dist-packages (from gymnasium) (2.2.1)\n",
            "Collecting jax-jumpy>=1.0.0\n",
            "  Downloading jax_jumpy-1.0.0-py3-none-any.whl (20 kB)\n",
            "Requirement already satisfied: typing-extensions>=4.3.0 in /usr/local/lib/python3.9/dist-packages (from gymnasium) (4.5.0)\n",
            "Requirement already satisfied: numpy>=1.21.0 in /usr/local/lib/python3.9/dist-packages (from gymnasium) (1.22.4)\n",
            "Collecting farama-notifications>=0.0.1\n",
            "  Downloading Farama_Notifications-0.0.4-py3-none-any.whl (2.5 kB)\n",
            "Requirement already satisfied: zipp>=0.5 in /usr/local/lib/python3.9/dist-packages (from importlib-metadata>=4.8.0->gymnasium) (3.15.0)\n",
            "Installing collected packages: farama-notifications, jax-jumpy, gymnasium\n",
            "Successfully installed farama-notifications-0.0.4 gymnasium-0.28.1 jax-jumpy-1.0.0\n"
          ]
        }
      ]
    },
    {
      "cell_type": "code",
      "source": [
        "from  tqdm import tqdm \n",
        "import numpy as np \n",
        "import gymnasium \n",
        "import matplotlib.pyplot as plt\n",
        "\n",
        "env = gymnasium.make('CartPole-v1')"
      ],
      "metadata": {
        "id": "R6xEaxx6vjYF"
      },
      "execution_count": 3,
      "outputs": []
    },
    {
      "cell_type": "markdown",
      "source": [
        "# Data collection"
      ],
      "metadata": {
        "id": "KxPCqVsoN363"
      }
    },
    {
      "cell_type": "markdown",
      "source": [
        "## Expert Agent data collection from q learning algorithm"
      ],
      "metadata": {
        "id": "MI81VmZV5cjY"
      }
    },
    {
      "cell_type": "code",
      "source": [
        "class StateDiscretizer:\n",
        "   def __init__(self, num_bins, lower_bounds, upper_bounds):\n",
        "        self.num_bins = num_bins\n",
        "        self.lower_bounds = lower_bounds\n",
        "        self.upper_bounds = upper_bounds\n",
        "        self.bins = [\n",
        "            np.linspace(lower, upper, num_bins + 1)[1:] \n",
        "            for (lower, upper) in zip(lower_bounds, upper_bounds)\n",
        "             ]\n",
        "        self.num_features = self(lower_bounds).shape[0]\n",
        "\n",
        "   def __call__ (self, x):\n",
        "        x = np.clip(x, self.lower_bounds, self.upper_bounds)\n",
        "        idx = [np.digitize(x_i, b_i, right=True) for (x_i, b_i) in zip(x, self.bins)]\n",
        "        one_hots = [np.eye(self.num_bins)[i] for i in idx]\n",
        "        return np.concatenate(one_hots)\n"
      ],
      "metadata": {
        "id": "vNfiqJnYttPZ",
        "colab": {
          "base_uri": "https://localhost:8080/"
        },
        "outputId": "78c3be3e-e83a-4ae3-a04f-12595af081ab"
      },
      "execution_count": 4,
      "outputs": [
        {
          "output_type": "stream",
          "name": "stderr",
          "text": [
            "/usr/local/lib/python3.9/dist-packages/ipykernel/ipkernel.py:283: DeprecationWarning: `should_run_async` will not call `transform_cell` automatically in the future. Please pass the result to `transformed_cell` argument and any exception that happen during thetransform in `preprocessing_exc_tuple` in IPython 7.17 and above.\n",
            "  and should_run_async(code)\n"
          ]
        }
      ]
    },
    {
      "cell_type": "code",
      "source": [
        "lower_bounds = env.observation_space.low\n",
        "upper_bounds = env.observation_space.high\n",
        "lower_bounds[1]=-3.\n",
        "lower_bounds[-1]=-3.\n",
        "upper_bounds[1]=3.\n",
        "upper_bounds[-1]=3.\n",
        "phi = StateDiscretizer(10,lower_bounds,upper_bounds)"
      ],
      "metadata": {
        "id": "f_1nRx3V4-aG"
      },
      "execution_count": 5,
      "outputs": []
    },
    {
      "cell_type": "code",
      "source": [
        "\n",
        "\n",
        "\n",
        "def q_value(state, weights):\n",
        "    return phi(state).dot(weights)\n",
        "\n",
        "def policy(state, weights, epsilon):\n",
        "    if np.random.uniform() <= epsilon:\n",
        "        return np.random.choice(env.action_space.n)\n",
        "    else:\n",
        "        q_values = q_value(state, weights) \n",
        "        return np.argmax(q_values)\n"
      ],
      "metadata": {
        "id": "Xfm8YWX94-aG"
      },
      "execution_count": 6,
      "outputs": []
    },
    {
      "cell_type": "code",
      "source": [
        "phi(upper_bounds).shape"
      ],
      "metadata": {
        "colab": {
          "base_uri": "https://localhost:8080/"
        },
        "outputId": "00c00bd7-f2d9-499c-d935-315eeea63e25",
        "id": "KeFH851y4-aG"
      },
      "execution_count": null,
      "outputs": [
        {
          "output_type": "execute_result",
          "data": {
            "text/plain": [
              "(40,)"
            ]
          },
          "metadata": {},
          "execution_count": 8
        }
      ]
    },
    {
      "cell_type": "code",
      "source": [
        "weights = np.random.uniform(low=-0.001, high=0.001, size=(phi.num_features,env.action_space.n))\n"
      ],
      "metadata": {
        "id": "hkLuwYrP4-aH"
      },
      "execution_count": 7,
      "outputs": []
    },
    {
      "cell_type": "code",
      "source": [
        "\n",
        "lr = 1/16\n",
        "\n",
        "gamma = 0.99\n",
        "\n",
        "epsilon = 0.1\n",
        "runs = 10\n",
        "num_actions= env.action_space.n\n",
        "episodes = 1000\n",
        "episode_rewards = np.zeros((runs, episodes))\n",
        "for run in range(runs):  \n",
        "  weights = np.random.uniform(low=-0.001, high=0.001, size=(phi.num_features,num_actions))\n",
        "    \n",
        "  for i_episode in tqdm(np.arange(episodes)):\n",
        "        state,_ = env.reset()\n",
        "        \n",
        "        total_reward = 0\n",
        "        done= False\n",
        "    \n",
        "        while not done:\n",
        "             \n",
        "            action = policy(state, weights,epsilon)\n",
        "            next_state, reward, done,d2, _ = env.step(action)\n",
        "         \n",
        "          \n",
        "            q_next = np.max(q_value(next_state, weights)) \n",
        "            target = reward + gamma *(1. - done)* q_next\n",
        "            error =  q_value(state, weights)[action] - target\n",
        "\n",
        "            \n",
        "            \n",
        "            delta =  error * phi(state)\n",
        "            weights[:,action] -= lr *  delta\n",
        "\n",
        "            state = next_state\n",
        "            total_reward += reward\n",
        "            \n",
        "        episode_rewards[run, i_episode] = total_reward\n",
        "     \n",
        "\n"
      ],
      "metadata": {
        "colab": {
          "base_uri": "https://localhost:8080/"
        },
        "outputId": "9b81ca91-97a4-4182-fe36-2c3badf9aff3",
        "id": "-3ccELCz4-aH"
      },
      "execution_count": 13,
      "outputs": [
        {
          "output_type": "stream",
          "name": "stderr",
          "text": [
            "100%|██████████| 1000/1000 [00:38<00:00, 25.82it/s]\n",
            "100%|██████████| 1000/1000 [01:05<00:00, 15.31it/s]\n",
            "100%|██████████| 1000/1000 [00:34<00:00, 29.12it/s]\n",
            "100%|██████████| 1000/1000 [00:34<00:00, 29.21it/s]\n",
            "100%|██████████| 1000/1000 [00:35<00:00, 28.31it/s]\n",
            "100%|██████████| 1000/1000 [00:35<00:00, 28.51it/s]\n",
            "100%|██████████| 1000/1000 [00:34<00:00, 29.37it/s]\n",
            "100%|██████████| 1000/1000 [00:35<00:00, 28.12it/s]\n",
            "100%|██████████| 1000/1000 [00:35<00:00, 28.24it/s]\n",
            "100%|██████████| 1000/1000 [00:32<00:00, 30.94it/s]\n"
          ]
        }
      ]
    },
    {
      "cell_type": "code",
      "source": [
        "mean_rewards = np.mean(episode_rewards, axis=0)\n",
        "plt.plot(mean_rewards)\n",
        "# add x-axis label\n",
        "plt.xlabel('Episodes')\n",
        "\n",
        "# add y-axis label\n",
        "plt.ylabel('Average Reward')\n",
        "\n",
        "# add plot title\n",
        "plt.title('Average Rewards over Episodes')\n",
        "plt.show()"
      ],
      "metadata": {
        "colab": {
          "base_uri": "https://localhost:8080/",
          "height": 472
        },
        "outputId": "d98f4147-30b1-46ad-f42e-3a22515cbf96",
        "id": "SKrGSBUT4-aI"
      },
      "execution_count": 14,
      "outputs": [
        {
          "output_type": "display_data",
          "data": {
            "text/plain": [
              "<Figure size 640x480 with 1 Axes>"
            ],
            "image/png": "[encoded data removed]"
          },
          "metadata": {}
        }
      ]
    },
    {
      "cell_type": "code",
      "source": [
        "state,_ = env.reset()\n",
        "\n",
        "total_reward = 0\n",
        "done= False\n",
        "\n",
        "while not done:\n",
        "      action = policy(state, weights, 0)  # select action greedily\n",
        "      next_state, reward, done,d2, _ = env.step(action)\n",
        "    \n",
        "      state = next_state\n",
        "      total_reward += reward\n",
        "print('Testing average rewards for q learning algorithm',total_reward)"
      ],
      "metadata": {
        "colab": {
          "base_uri": "https://localhost:8080/"
        },
        "outputId": "bf0125b8-7917-4386-c071-3ae5c66129a8",
        "id": "ZAWynTez4-aJ"
      },
      "execution_count": 16,
      "outputs": [
        {
          "output_type": "stream",
          "name": "stdout",
          "text": [
            "Testing average rewards for q learning algorithm 176.0\n"
          ]
        }
      ]
    },
    {
      "cell_type": "code",
      "source": [
        "lr = 1/16\n",
        "\n",
        "gamma = 0.99\n",
        "\n",
        "epsilon = 0.1\n",
        "runs = 1\n",
        "num_actions= env.action_space.n\n",
        "expert_episodes = []\n",
        "episode_lengths = [100, 250, 500]\n",
        "expert_dataset100=[]\n",
        "expert_dataset250=[]\n",
        "expert_dataset500=[]\n",
        "for num_episodes in episode_lengths:\n",
        "  for run in range(runs):  \n",
        "    weights = np.random.uniform(low=-0.001, high=0.001, size=(phi.num_features,num_actions))\n",
        "\n",
        "    for i_episode in range(num_episodes):\n",
        "          state,_ = env.reset()\n",
        "\n",
        "          total_reward = 0\n",
        "          done= False\n",
        "          expert_episode = []\n",
        "\n",
        "          while not done:\n",
        "\n",
        "              action = policy(state, weights,epsilon)\n",
        "              next_state, reward, done,_, _ = env.step(action)\n",
        "\n",
        "\n",
        "              q_next = np.max(q_value(next_state, weights)) \n",
        "              target = reward + gamma *(1-done)* q_next\n",
        "              error =  q_value(state, weights)[action] - target\n",
        "\n",
        "\n",
        "\n",
        "              delta =  error * phi(state)\n",
        "              weights[:,action] -= lr *  delta\n",
        "\n",
        "              expert_episode.append((phi(state), action, reward,phi(next_state),done))\n",
        "              state = next_state\n",
        "              \n",
        "          if num_episodes==100:\n",
        "            expert_dataset100.append(expert_episode)\n",
        "          elif num_episodes ==250:\n",
        "            expert_dataset250.append(expert_episode)\n",
        "          else:\n",
        "            expert_dataset500.append(expert_episode)\n"
      ],
      "metadata": {
        "id": "fWx9BDQFI3EM"
      },
      "execution_count": 17,
      "outputs": []
    },
    {
      "cell_type": "markdown",
      "source": [
        "## Data collected uniformly random "
      ],
      "metadata": {
        "id": "3Q-W5y3F-RP3"
      }
    },
    {
      "cell_type": "code",
      "source": [
        "num_episodes = 100 \n",
        "episode_length = 200 # Change this to the desired episode length\n",
        "random_dataset100 = []\n",
        "\n",
        "for i in range(num_episodes):\n",
        "    state,_ = env.reset()\n",
        "    episode_data = []\n",
        "    \n",
        "    for t in range(episode_length):\n",
        "        action = env.action_space.sample() # Randomly select an action\n",
        "        next_state, reward, done, info,_ = env.step(action)\n",
        "        \n",
        "        episode_data.append((phi(state), action,reward,phi(next_state),done))\n",
        "        state = next_state\n",
        "        \n",
        "        if done:\n",
        "            break\n",
        "    \n",
        "    random_dataset100.append(episode_data)\n"
      ],
      "metadata": {
        "id": "EC5tBWunMtOe"
      },
      "execution_count": 18,
      "outputs": []
    },
    {
      "cell_type": "code",
      "source": [
        "num_episodes = 250 \n",
        "episode_length = 200 \n",
        "random_dataset250 = []\n",
        "\n",
        "for i in range(num_episodes):\n",
        "    state,_ = env.reset()\n",
        "    episode_data = []\n",
        "    done = False\n",
        "    while not done:\n",
        "        action = env.action_space.sample() # Randomly select an action\n",
        "        next_state, reward, done, info,_ = env.step(action)\n",
        "        \n",
        "        episode_data.append((phi(state), action,reward,phi(next_state),done))\n",
        "        state = next_state\n",
        "        \n",
        "        \n",
        "    \n",
        "    random_dataset250.append(episode_data)"
      ],
      "metadata": {
        "id": "2Dw81JWaNU5-"
      },
      "execution_count": 19,
      "outputs": []
    },
    {
      "cell_type": "code",
      "source": [
        "num_episodes = 500 \n",
        "episode_length = 200 \n",
        "random_dataset500 = []\n",
        "\n",
        "for i in range(num_episodes):\n",
        "    state,_ = env.reset()\n",
        "    episode_data = []\n",
        "    \n",
        "    for t in range(episode_length):\n",
        "        action = env.action_space.sample() # Randomly select an action\n",
        "        next_state, reward, done, info,_ = env.step(action)\n",
        "        \n",
        "        episode_data.append((phi(state), action,reward,phi(next_state),done))\n",
        "        state = next_state\n",
        "        \n",
        "        if done:\n",
        "            break\n",
        "    \n",
        "    random_dataset500.append(episode_data)"
      ],
      "metadata": {
        "id": "hvGq0J2cPifL"
      },
      "execution_count": 20,
      "outputs": []
    },
    {
      "cell_type": "markdown",
      "source": [
        "## Mixed dataset "
      ],
      "metadata": {
        "id": "RFT-c1fMNwn3"
      }
    },
    {
      "cell_type": "code",
      "source": [
        "mixed_data100=random_dataset100[:50]+expert_dataset100[50:100]\n",
        "mixed_data250=random_dataset250[:125]+expert_dataset250[:125]\n",
        "mixed_data500 = random_dataset500[:250]+expert_dataset500[:250]\n",
        "\n"
      ],
      "metadata": {
        "id": "t4wuhAfobY_E"
      },
      "execution_count": 21,
      "outputs": []
    },
    {
      "cell_type": "markdown",
      "source": [
        "# Imitation learning: Logistic regression"
      ],
      "metadata": {
        "id": "pWX7gFNz-jtL"
      }
    },
    {
      "cell_type": "markdown",
      "source": [
        "## Random dataset"
      ],
      "metadata": {
        "id": "mYDTV8DiAJl9"
      }
    },
    {
      "cell_type": "markdown",
      "source": [
        "###Random dataset 100 episodes"
      ],
      "metadata": {
        "id": "3EsyoqRnANUU"
      }
    },
    {
      "cell_type": "markdown",
      "source": [
        "#### C=0.1"
      ],
      "metadata": {
        "id": "WqDrG5GRiH04"
      }
    },
    {
      "cell_type": "code",
      "source": [
        "X = np.vstack([np.hstack((t[0])) for episode in random_dataset100 for t in episode])\n",
        "y = np.hstack([t[1] for episode in random_dataset100 for t in episode])"
      ],
      "metadata": {
        "id": "ZKxh9lFzR0d-"
      },
      "execution_count": 68,
      "outputs": []
    },
    {
      "cell_type": "code",
      "source": [
        "\n",
        "clf = LogisticRegression(max_iter=1000, C=0.1).fit(X, y)"
      ],
      "metadata": {
        "id": "bVmid2bHRfl7"
      },
      "execution_count": 69,
      "outputs": []
    },
    {
      "cell_type": "code",
      "source": [
        "num_episodes = 100\n",
        "episode_length = 200\n",
        "\n",
        "returns = []\n",
        "\n",
        "for i in range(num_episodes):\n",
        "    state, _ = env.reset()\n",
        "    episode_return = 0\n",
        "    \n",
        "    for t in range(episode_length):\n",
        "        # Get the action from the policy estimator\n",
        "        action_probs = clf.predict_proba(phi(state).reshape(1, -1))\n",
        "        action = np.argmax(action_probs)\n",
        "        \n",
        "        # Take the action and get the next state and reward\n",
        "        next_state, reward, done, info, _ = env.step(action)\n",
        "        \n",
        "        # Update the episode return and current state\n",
        "        episode_return += reward\n",
        "        state = next_state\n",
        "        \n",
        "        if done:\n",
        "            break\n",
        "            \n",
        "    returns.append(episode_return)\n",
        "average_return_random100_C1=   sum(returns) / len(returns)\n",
        "# Print the average return over the 100 episodes\n",
        "print(\"Average Return: \", average_return_random100_C1)\n",
        "\n",
        "\n"
      ],
      "metadata": {
        "colab": {
          "base_uri": "https://localhost:8080/"
        },
        "id": "WySPhBRYTFMl",
        "outputId": "07e0e5f7-6404-4c3c-e47e-492ca6b5d7c0"
      },
      "execution_count": 70,
      "outputs": [
        {
          "output_type": "stream",
          "name": "stderr",
          "text": [
            "/usr/local/lib/python3.9/dist-packages/ipykernel/ipkernel.py:283: DeprecationWarning: `should_run_async` will not call `transform_cell` automatically in the future. Please pass the result to `transformed_cell` argument and any exception that happen during thetransform in `preprocessing_exc_tuple` in IPython 7.17 and above.\n",
            "  and should_run_async(code)\n"
          ]
        },
        {
          "output_type": "stream",
          "name": "stdout",
          "text": [
            "Average Return:  27.1\n"
          ]
        }
      ]
    },
    {
      "cell_type": "markdown",
      "source": [
        "#### C=0.01"
      ],
      "metadata": {
        "id": "fXJEVSvZiwX-"
      }
    },
    {
      "cell_type": "code",
      "source": [
        "X = np.vstack([np.hstack((t[0])) for episode in random_dataset100 for t in episode])\n",
        "y = np.hstack([t[1] for episode in random_dataset100 for t in episode])"
      ],
      "metadata": {
        "colab": {
          "base_uri": "https://localhost:8080/"
        },
        "id": "Ccy4EgxxiU09",
        "outputId": "160db93f-7abd-43d4-f212-b4a8d8606917"
      },
      "execution_count": 71,
      "outputs": [
        {
          "output_type": "stream",
          "name": "stderr",
          "text": [
            "/usr/local/lib/python3.9/dist-packages/ipykernel/ipkernel.py:283: DeprecationWarning: `should_run_async` will not call `transform_cell` automatically in the future. Please pass the result to `transformed_cell` argument and any exception that happen during thetransform in `preprocessing_exc_tuple` in IPython 7.17 and above.\n",
            "  and should_run_async(code)\n"
          ]
        }
      ]
    },
    {
      "cell_type": "code",
      "source": [
        "\n",
        "clf = LogisticRegression(max_iter=1000, C=0.01).fit(X, y)"
      ],
      "metadata": {
        "id": "m09mmf5GiU0-"
      },
      "execution_count": 72,
      "outputs": []
    },
    {
      "cell_type": "code",
      "source": [
        "num_episodes = 100\n",
        "episode_length = 200\n",
        "\n",
        "returns = []\n",
        "\n",
        "for i in range(num_episodes):\n",
        "    state, _ = env.reset()\n",
        "    episode_return = 0\n",
        "    \n",
        "    for t in range(episode_length):\n",
        "        # Get the action from the policy estimator\n",
        "        action_probs = clf.predict_proba(phi(state).reshape(1, -1))\n",
        "        action = np.argmax(action_probs)\n",
        "        \n",
        "        # Take the action and get the next state and reward\n",
        "        next_state, reward, done, info, _ = env.step(action)\n",
        "        \n",
        "        # Update the episode return and current state\n",
        "        episode_return += reward\n",
        "        state = next_state\n",
        "        \n",
        "        if done:\n",
        "            break\n",
        "            \n",
        "    returns.append(episode_return)\n",
        "average_return_random100_C01=   sum(returns) / len(returns)\n",
        "# Print the average return over the 100 episodes\n",
        "print(\"Average Return: \", average_return_random100_C01)\n",
        "\n",
        "\n"
      ],
      "metadata": {
        "colab": {
          "base_uri": "https://localhost:8080/"
        },
        "outputId": "7ed992d9-5454-48aa-b90f-a3bfa6ee473d",
        "id": "Sd2s3prmiU0-"
      },
      "execution_count": 73,
      "outputs": [
        {
          "output_type": "stream",
          "name": "stderr",
          "text": [
            "/usr/local/lib/python3.9/dist-packages/ipykernel/ipkernel.py:283: DeprecationWarning: `should_run_async` will not call `transform_cell` automatically in the future. Please pass the result to `transformed_cell` argument and any exception that happen during thetransform in `preprocessing_exc_tuple` in IPython 7.17 and above.\n",
            "  and should_run_async(code)\n"
          ]
        },
        {
          "output_type": "stream",
          "name": "stdout",
          "text": [
            "Average Return:  26.09\n"
          ]
        }
      ]
    },
    {
      "cell_type": "markdown",
      "source": [
        "### Random dataset 250 episodes"
      ],
      "metadata": {
        "id": "oTT4-W4zAjQD"
      }
    },
    {
      "cell_type": "markdown",
      "source": [
        "#### C=0.1"
      ],
      "metadata": {
        "id": "frpqUTnUi264"
      }
    },
    {
      "cell_type": "code",
      "source": [
        "X = np.vstack([np.hstack((t[0])) for episode in random_dataset250 for t in episode])\n",
        "y = np.hstack([t[1] for episode in random_dataset250 for t in episode])\n"
      ],
      "metadata": {
        "id": "UIwVVkQtVYEd",
        "colab": {
          "base_uri": "https://localhost:8080/"
        },
        "outputId": "94c77cdf-b4a3-4d1e-b6b3-e5c4ef4cf470"
      },
      "execution_count": 74,
      "outputs": [
        {
          "output_type": "stream",
          "name": "stderr",
          "text": [
            "/usr/local/lib/python3.9/dist-packages/ipykernel/ipkernel.py:283: DeprecationWarning: `should_run_async` will not call `transform_cell` automatically in the future. Please pass the result to `transformed_cell` argument and any exception that happen during thetransform in `preprocessing_exc_tuple` in IPython 7.17 and above.\n",
            "  and should_run_async(code)\n"
          ]
        }
      ]
    },
    {
      "cell_type": "code",
      "source": [
        "clf = LogisticRegression(max_iter=1000,C=0.1).fit(X, y)"
      ],
      "metadata": {
        "id": "_nt7B50OVgO2"
      },
      "execution_count": 75,
      "outputs": []
    },
    {
      "cell_type": "code",
      "source": [
        "num_episodes = 100\n",
        "episode_length = 200\n",
        "\n",
        "returns = []\n",
        "\n",
        "for i in range(num_episodes):\n",
        "    state, _ = env.reset()\n",
        "    episode_return = 0\n",
        "    done = False\n",
        "    while not done:\n",
        "        # Get the action from the policy estimator\n",
        "        action_probs = clf.predict_proba(phi(state).reshape(1, -1))\n",
        "        action = np.argmax(action_probs)\n",
        "        \n",
        "        # Take the action and get the next state and reward\n",
        "        next_state, reward, done, info, _ = env.step(action)\n",
        "        \n",
        "        # Update the episode return and current state\n",
        "        episode_return += reward\n",
        "        state = next_state\n",
        "        \n",
        "      \n",
        "            \n",
        "    returns.append(episode_return)\n",
        "average_return_random250_C1=   sum(returns) / len(returns)\n",
        "\n",
        "# Print the average return over the 100 episodes\n",
        "print(\"Average Return for random: \", average_return_random250_C1)\n",
        "\n"
      ],
      "metadata": {
        "colab": {
          "base_uri": "https://localhost:8080/"
        },
        "id": "kWS3a_hiVdZ-",
        "outputId": "eba44eb3-dcde-48a2-e39a-a68a97bc556e"
      },
      "execution_count": 76,
      "outputs": [
        {
          "output_type": "stream",
          "name": "stderr",
          "text": [
            "/usr/local/lib/python3.9/dist-packages/ipykernel/ipkernel.py:283: DeprecationWarning: `should_run_async` will not call `transform_cell` automatically in the future. Please pass the result to `transformed_cell` argument and any exception that happen during thetransform in `preprocessing_exc_tuple` in IPython 7.17 and above.\n",
            "  and should_run_async(code)\n"
          ]
        },
        {
          "output_type": "stream",
          "name": "stdout",
          "text": [
            "Average Return for random:  18.3\n"
          ]
        }
      ]
    },
    {
      "cell_type": "markdown",
      "source": [
        "#### C=0.01"
      ],
      "metadata": {
        "id": "XRhlsHeLi7Lj"
      }
    },
    {
      "cell_type": "code",
      "source": [
        "X = np.vstack([np.hstack((t[0])) for episode in random_dataset250 for t in episode])\n",
        "y = np.hstack([t[1] for episode in random_dataset250 for t in episode])\n"
      ],
      "metadata": {
        "colab": {
          "base_uri": "https://localhost:8080/"
        },
        "id": "VneDrvbhjAM8",
        "outputId": "b7811938-4feb-473f-b3c9-6c1d78d48972"
      },
      "execution_count": 77,
      "outputs": [
        {
          "output_type": "stream",
          "name": "stderr",
          "text": [
            "/usr/local/lib/python3.9/dist-packages/ipykernel/ipkernel.py:283: DeprecationWarning: `should_run_async` will not call `transform_cell` automatically in the future. Please pass the result to `transformed_cell` argument and any exception that happen during thetransform in `preprocessing_exc_tuple` in IPython 7.17 and above.\n",
            "  and should_run_async(code)\n"
          ]
        }
      ]
    },
    {
      "cell_type": "code",
      "source": [
        "clf = LogisticRegression(max_iter=1000,C=0.01).fit(X, y)"
      ],
      "metadata": {
        "id": "iAjhtNg5jAM8"
      },
      "execution_count": 78,
      "outputs": []
    },
    {
      "cell_type": "code",
      "source": [
        "num_episodes = 100\n",
        "episode_length = 200\n",
        "\n",
        "returns = []\n",
        "\n",
        "for i in range(num_episodes):\n",
        "    state, _ = env.reset()\n",
        "    episode_return = 0\n",
        "    done = False\n",
        "    while not done:\n",
        "        # Get the action from the policy estimator\n",
        "        action_probs = clf.predict_proba(phi(state).reshape(1, -1))\n",
        "        action = np.argmax(action_probs)\n",
        "        \n",
        "        # Take the action and get the next state and reward\n",
        "        next_state, reward, done, info, _ = env.step(action)\n",
        "        \n",
        "        # Update the episode return and current state\n",
        "        episode_return += reward\n",
        "        state = next_state\n",
        "        \n",
        "      \n",
        "            \n",
        "    returns.append(episode_return)\n",
        "average_return_random250_C01=   sum(returns) / len(returns)\n",
        "\n",
        "# Print the average return over the 100 episodes\n",
        "print(\"Average Return for random: \", average_return_random250_C01)\n",
        "\n"
      ],
      "metadata": {
        "colab": {
          "base_uri": "https://localhost:8080/"
        },
        "outputId": "9e6ceef6-1cc3-46a5-e409-c83be96f3d76",
        "id": "96ukABPgjAM8"
      },
      "execution_count": 79,
      "outputs": [
        {
          "output_type": "stream",
          "name": "stderr",
          "text": [
            "/usr/local/lib/python3.9/dist-packages/ipykernel/ipkernel.py:283: DeprecationWarning: `should_run_async` will not call `transform_cell` automatically in the future. Please pass the result to `transformed_cell` argument and any exception that happen during thetransform in `preprocessing_exc_tuple` in IPython 7.17 and above.\n",
            "  and should_run_async(code)\n"
          ]
        },
        {
          "output_type": "stream",
          "name": "stdout",
          "text": [
            "Average Return for random:  16.93\n"
          ]
        }
      ]
    },
    {
      "cell_type": "markdown",
      "source": [
        "### Random dataset 500 episodes"
      ],
      "metadata": {
        "id": "3aqh2YA7AyvP"
      }
    },
    {
      "cell_type": "markdown",
      "source": [
        "#### C=0.1"
      ],
      "metadata": {
        "id": "qOs-zXWUjI6H"
      }
    },
    {
      "cell_type": "code",
      "source": [
        "X = np.vstack([np.hstack((t[0])) for episode in random_dataset500 for t in episode])\n",
        "y = np.hstack([t[1] for episode in random_dataset500 for t in episode])"
      ],
      "metadata": {
        "id": "TCZskrtmVlSd",
        "colab": {
          "base_uri": "https://localhost:8080/"
        },
        "outputId": "bf9fecae-22ab-42d0-f23b-d23ec4f9db32"
      },
      "execution_count": 80,
      "outputs": [
        {
          "output_type": "stream",
          "name": "stderr",
          "text": [
            "/usr/local/lib/python3.9/dist-packages/ipykernel/ipkernel.py:283: DeprecationWarning: `should_run_async` will not call `transform_cell` automatically in the future. Please pass the result to `transformed_cell` argument and any exception that happen during thetransform in `preprocessing_exc_tuple` in IPython 7.17 and above.\n",
            "  and should_run_async(code)\n"
          ]
        }
      ]
    },
    {
      "cell_type": "code",
      "source": [
        "clf = LogisticRegression(max_iter=1000 ,C=0.1).fit(X, y)"
      ],
      "metadata": {
        "id": "9zYu5pAiVpIx"
      },
      "execution_count": 81,
      "outputs": []
    },
    {
      "cell_type": "code",
      "source": [
        "num_episodes = 100\n",
        "episode_length = 200\n",
        "\n",
        "returns = []\n",
        "\n",
        "for i in range(num_episodes):\n",
        "    state, _ = env.reset()\n",
        "    episode_return = 0\n",
        "    done= False\n",
        "    while not done:\n",
        "        # Get the action from the policy estimator\n",
        "        action_probs = clf.predict_proba(phi(state).reshape(1, -1))\n",
        "        action = np.argmax(action_probs)\n",
        "        \n",
        "        # Take the action and get the next state and reward\n",
        "        next_state, reward, done, info, _ = env.step(action)\n",
        "        \n",
        "        # Update the episode return and current state\n",
        "        episode_return += reward\n",
        "        state = next_state\n",
        "        \n",
        "     \n",
        "            \n",
        "    returns.append(episode_return)\n",
        "average_return_random500_C1 = sum(returns) / len(returns) \n",
        "# Print the average return over the 100 episodes\n",
        "print(\"Average Return for random: \", average_return_random500_C1)\n",
        "\n"
      ],
      "metadata": {
        "colab": {
          "base_uri": "https://localhost:8080/"
        },
        "outputId": "7437af63-1d59-4d5d-9daf-6b5ec24e10a1",
        "id": "cfhQiGyzVpIy"
      },
      "execution_count": 82,
      "outputs": [
        {
          "output_type": "stream",
          "name": "stderr",
          "text": [
            "/usr/local/lib/python3.9/dist-packages/ipykernel/ipkernel.py:283: DeprecationWarning: `should_run_async` will not call `transform_cell` automatically in the future. Please pass the result to `transformed_cell` argument and any exception that happen during thetransform in `preprocessing_exc_tuple` in IPython 7.17 and above.\n",
            "  and should_run_async(code)\n"
          ]
        },
        {
          "output_type": "stream",
          "name": "stdout",
          "text": [
            "Average Return for random:  94.72\n"
          ]
        }
      ]
    },
    {
      "cell_type": "markdown",
      "source": [
        "#### C=0.01"
      ],
      "metadata": {
        "id": "E7hcgFE1jaTL"
      }
    },
    {
      "cell_type": "code",
      "source": [
        "X = np.vstack([np.hstack((t[0])) for episode in random_dataset500 for t in episode])\n",
        "y = np.hstack([t[1] for episode in random_dataset500 for t in episode])"
      ],
      "metadata": {
        "colab": {
          "base_uri": "https://localhost:8080/"
        },
        "id": "-R1pBfeKjau6",
        "outputId": "cb356ba2-c7f0-4d22-a61a-e32535623a4d"
      },
      "execution_count": 83,
      "outputs": [
        {
          "output_type": "stream",
          "name": "stderr",
          "text": [
            "/usr/local/lib/python3.9/dist-packages/ipykernel/ipkernel.py:283: DeprecationWarning: `should_run_async` will not call `transform_cell` automatically in the future. Please pass the result to `transformed_cell` argument and any exception that happen during thetransform in `preprocessing_exc_tuple` in IPython 7.17 and above.\n",
            "  and should_run_async(code)\n"
          ]
        }
      ]
    },
    {
      "cell_type": "code",
      "source": [
        "clf = LogisticRegression(max_iter=1000 ,C=0.01).fit(X, y)"
      ],
      "metadata": {
        "id": "d2KO82Cnjau7"
      },
      "execution_count": 84,
      "outputs": []
    },
    {
      "cell_type": "code",
      "source": [
        "num_episodes = 100\n",
        "episode_length = 200\n",
        "\n",
        "returns = []\n",
        "\n",
        "for i in range(num_episodes):\n",
        "    state, _ = env.reset()\n",
        "    episode_return = 0\n",
        "    done= False\n",
        "    while not done:\n",
        "        # Get the action from the policy estimator\n",
        "        action_probs = clf.predict_proba(phi(state).reshape(1, -1))\n",
        "        action = np.argmax(action_probs)\n",
        "        \n",
        "        # Take the action and get the next state and reward\n",
        "        next_state, reward, done, info, _ = env.step(action)\n",
        "        \n",
        "        # Update the episode return and current state\n",
        "        episode_return += reward\n",
        "        state = next_state\n",
        "        \n",
        "     \n",
        "            \n",
        "    returns.append(episode_return)\n",
        "average_return_random500_C01 = sum(returns) / len(returns) \n",
        "# Print the average return over the 100 episodes\n",
        "print(\"Average Return for random: \", average_return_random500_C01)\n",
        "\n"
      ],
      "metadata": {
        "colab": {
          "base_uri": "https://localhost:8080/"
        },
        "outputId": "31030baa-73ba-4904-832a-c0251863b1c2",
        "id": "bv40KQLnjau7"
      },
      "execution_count": 85,
      "outputs": [
        {
          "output_type": "stream",
          "name": "stderr",
          "text": [
            "/usr/local/lib/python3.9/dist-packages/ipykernel/ipkernel.py:283: DeprecationWarning: `should_run_async` will not call `transform_cell` automatically in the future. Please pass the result to `transformed_cell` argument and any exception that happen during thetransform in `preprocessing_exc_tuple` in IPython 7.17 and above.\n",
            "  and should_run_async(code)\n"
          ]
        },
        {
          "output_type": "stream",
          "name": "stdout",
          "text": [
            "Average Return for random:  102.72\n"
          ]
        }
      ]
    },
    {
      "cell_type": "markdown",
      "source": [
        "## Expert dataset"
      ],
      "metadata": {
        "id": "PSgImImYBCYB"
      }
    },
    {
      "cell_type": "markdown",
      "source": [
        "### Expert dataset 100 episodes"
      ],
      "metadata": {
        "id": "VIE_LZXaBEut"
      }
    },
    {
      "cell_type": "markdown",
      "source": [
        "#### C=0.1"
      ],
      "metadata": {
        "id": "YeXeXwHZjqbN"
      }
    },
    {
      "cell_type": "code",
      "source": [
        "X = np.vstack([np.hstack((t[0])) for episode in expert_dataset100 for t in episode])\n",
        "y = np.hstack([t[1] for episode in expert_dataset100 for t in episode])\n",
        "# # shuffle the rows of X and y in the same order\n",
        "# shuffle_idx = np.random.permutation(X.shape[0])\n",
        "# X = X[shuffle_idx]\n",
        "# y = y[shuffle_idx]"
      ],
      "metadata": {
        "id": "Nyt0NFHRVpUz",
        "colab": {
          "base_uri": "https://localhost:8080/"
        },
        "outputId": "ba11c127-fa2e-4573-bb45-6f9327ef477e"
      },
      "execution_count": 86,
      "outputs": [
        {
          "output_type": "stream",
          "name": "stderr",
          "text": [
            "/usr/local/lib/python3.9/dist-packages/ipykernel/ipkernel.py:283: DeprecationWarning: `should_run_async` will not call `transform_cell` automatically in the future. Please pass the result to `transformed_cell` argument and any exception that happen during thetransform in `preprocessing_exc_tuple` in IPython 7.17 and above.\n",
            "  and should_run_async(code)\n"
          ]
        }
      ]
    },
    {
      "cell_type": "code",
      "source": [
        "clf = LogisticRegression(max_iter=1000, C=0.1).fit(X, y)\n",
        "num_episodes = 100\n",
        "episode_length = 200\n",
        "\n",
        "returns = []\n",
        "\n",
        "for i in range(num_episodes):\n",
        "    state, _ = env.reset()\n",
        "    episode_return = 0\n",
        "    done=False\n",
        "    while not done:\n",
        "        # Get the action from the policy estimator\n",
        "        action_probs = clf.predict_proba(phi(state).reshape(1, -1))\n",
        "        action = np.argmax(action_probs)\n",
        "        \n",
        "        # Take the action and get the next state and reward\n",
        "        next_state, reward, done, info, _ = env.step(action)\n",
        "        \n",
        "        # Update the episode return and current state\n",
        "        episode_return += reward\n",
        "        state = next_state\n",
        "        \n",
        "      \n",
        "            \n",
        "    returns.append(episode_return)\n",
        "average_return_expert100_C1 = sum(returns) / len(returns) \n",
        "\n",
        "# Print the average return over the 100 episodes\n",
        "print(\"Average Return for expert: \", average_return_expert100_C1)\n"
      ],
      "metadata": {
        "colab": {
          "base_uri": "https://localhost:8080/"
        },
        "id": "e7sh1v5WV30L",
        "outputId": "628fdfa1-7beb-4cb7-9b75-b8928722e66e"
      },
      "execution_count": 87,
      "outputs": [
        {
          "output_type": "stream",
          "name": "stdout",
          "text": [
            "Average Return for expert:  199.01\n"
          ]
        }
      ]
    },
    {
      "cell_type": "markdown",
      "source": [
        "#### C=0.01"
      ],
      "metadata": {
        "id": "Klg75Ajnj-N8"
      }
    },
    {
      "cell_type": "code",
      "source": [
        "X = np.vstack([np.hstack((t[0])) for episode in expert_dataset100 for t in episode])\n",
        "y = np.hstack([t[1] for episode in expert_dataset100 for t in episode])"
      ],
      "metadata": {
        "colab": {
          "base_uri": "https://localhost:8080/"
        },
        "id": "3n-NE3nvkFY5",
        "outputId": "b8d24575-af16-428c-a0c6-595e874ab656"
      },
      "execution_count": 88,
      "outputs": [
        {
          "output_type": "stream",
          "name": "stderr",
          "text": [
            "/usr/local/lib/python3.9/dist-packages/ipykernel/ipkernel.py:283: DeprecationWarning: `should_run_async` will not call `transform_cell` automatically in the future. Please pass the result to `transformed_cell` argument and any exception that happen during thetransform in `preprocessing_exc_tuple` in IPython 7.17 and above.\n",
            "  and should_run_async(code)\n"
          ]
        }
      ]
    },
    {
      "cell_type": "code",
      "source": [
        "clf = LogisticRegression(max_iter=1000, C=0.01).fit(X, y)\n",
        "num_episodes = 100\n",
        "episode_length = 200\n",
        "\n",
        "returns = []\n",
        "\n",
        "for i in range(num_episodes):\n",
        "    state, _ = env.reset()\n",
        "    episode_return = 0\n",
        "    done=False\n",
        "    while not done:\n",
        "        # Get the action from the policy estimator\n",
        "        action_probs = clf.predict_proba(phi(state).reshape(1, -1))\n",
        "        action = np.argmax(action_probs)\n",
        "        \n",
        "        # Take the action and get the next state and reward\n",
        "        next_state, reward, done, info, _ = env.step(action)\n",
        "        \n",
        "        # Update the episode return and current state\n",
        "        episode_return += reward\n",
        "        state = next_state\n",
        "        \n",
        "      \n",
        "            \n",
        "    returns.append(episode_return)\n",
        "average_return_expert100_C01 = sum(returns) / len(returns) \n",
        "\n",
        "# Print the average return over the 100 episodes\n",
        "print(\"Average Return for expert: \", average_return_expert100_C01)\n"
      ],
      "metadata": {
        "colab": {
          "base_uri": "https://localhost:8080/"
        },
        "outputId": "2f4be27e-cd4a-4d45-e6f9-424f4b35ea80",
        "id": "LNb0e9XvkFo0"
      },
      "execution_count": 89,
      "outputs": [
        {
          "output_type": "stream",
          "name": "stdout",
          "text": [
            "Average Return for expert:  197.61\n"
          ]
        }
      ]
    },
    {
      "cell_type": "markdown",
      "source": [
        "### Expert dataset 250 episodes"
      ],
      "metadata": {
        "id": "cPeTwIe_CUyI"
      }
    },
    {
      "cell_type": "markdown",
      "source": [
        "#### C=0.1"
      ],
      "metadata": {
        "id": "GrJ6WogNkR_K"
      }
    },
    {
      "cell_type": "code",
      "source": [
        "X = np.vstack([np.hstack((t[0])) for episode in expert_dataset250 for t in episode])\n",
        "y = np.hstack([t[1] for episode in expert_dataset250 for t in episode])\n",
        "# # shuffle the rows of X and y in the same order\n",
        "# shuffle_idx = np.random.permutation(X.shape[0])\n",
        "# X = X[shuffle_idx]\n",
        "# y = y[shuffle_idx]"
      ],
      "metadata": {
        "id": "npsPxk8IV9yt",
        "colab": {
          "base_uri": "https://localhost:8080/"
        },
        "outputId": "cd0f1100-83b1-4db4-cdbd-a2401160388d"
      },
      "execution_count": 90,
      "outputs": [
        {
          "output_type": "stream",
          "name": "stderr",
          "text": [
            "/usr/local/lib/python3.9/dist-packages/ipykernel/ipkernel.py:283: DeprecationWarning: `should_run_async` will not call `transform_cell` automatically in the future. Please pass the result to `transformed_cell` argument and any exception that happen during thetransform in `preprocessing_exc_tuple` in IPython 7.17 and above.\n",
            "  and should_run_async(code)\n"
          ]
        }
      ]
    },
    {
      "cell_type": "code",
      "source": [
        "clf = LogisticRegression(max_iter=1000,C=0.1).fit(X, y)\n",
        "num_episodes = 100\n",
        "episode_length = 200\n",
        "\n",
        "returns = []\n",
        "\n",
        "for i in range(num_episodes):\n",
        "    state, _ = env.reset()\n",
        "    episode_return = 0\n",
        "    done = False\n",
        "    while not done:\n",
        "        # Get the action from the policy estimator\n",
        "        action_probs = clf.predict_proba(phi(state).reshape(1, -1))\n",
        "        action = np.argmax(action_probs)\n",
        "        \n",
        "        # Take the action and get the next state and reward\n",
        "        next_state, reward, done, info, _ = env.step(action)\n",
        "        \n",
        "        # Update the episode return and current state\n",
        "        episode_return += reward\n",
        "        state = next_state\n",
        "\n",
        "            \n",
        "    returns.append(episode_return)\n",
        "average_return_expert250_C1 = sum(returns) / len(returns) \n",
        "\n",
        "# Print the average return over the 100 episodes\n",
        "print(\"Average Return for expert: \",average_return_expert250_C1)\n"
      ],
      "metadata": {
        "colab": {
          "base_uri": "https://localhost:8080/"
        },
        "outputId": "cedf6f52-897e-4d05-b215-323033362880",
        "id": "VBEJdrHyV9yu"
      },
      "execution_count": 91,
      "outputs": [
        {
          "output_type": "stream",
          "name": "stdout",
          "text": [
            "Average Return for expert:  196.63\n"
          ]
        }
      ]
    },
    {
      "cell_type": "code",
      "source": [],
      "metadata": {
        "colab": {
          "base_uri": "https://localhost:8080/"
        },
        "id": "chFABqxGl_EO",
        "outputId": "8d7354fc-9e42-4316-b9d0-3249624a4ef8"
      },
      "execution_count": 91,
      "outputs": [
        {
          "output_type": "stream",
          "name": "stderr",
          "text": [
            "/usr/local/lib/python3.9/dist-packages/ipykernel/ipkernel.py:283: DeprecationWarning: `should_run_async` will not call `transform_cell` automatically in the future. Please pass the result to `transformed_cell` argument and any exception that happen during thetransform in `preprocessing_exc_tuple` in IPython 7.17 and above.\n",
            "  and should_run_async(code)\n"
          ]
        }
      ]
    },
    {
      "cell_type": "markdown",
      "source": [
        "#### C=0.01"
      ],
      "metadata": {
        "id": "i6mnwUOql_R8"
      }
    },
    {
      "cell_type": "code",
      "source": [
        "X = np.vstack([np.hstack((t[0])) for episode in expert_dataset250 for t in episode])\n",
        "y = np.hstack([t[1] for episode in expert_dataset250 for t in episode])\n",
        "# # shuffle the rows of X and y in the same order\n",
        "# shuffle_idx = np.random.permutation(X.shape[0])\n",
        "# X = X[shuffle_idx]\n",
        "# y = y[shuffle_idx]"
      ],
      "metadata": {
        "id": "cRgk0Ez-l_R8"
      },
      "execution_count": 92,
      "outputs": []
    },
    {
      "cell_type": "code",
      "source": [
        "clf = LogisticRegression(max_iter=1000,C=0.01).fit(X, y)\n",
        "num_episodes = 100\n",
        "episode_length = 200\n",
        "\n",
        "returns = []\n",
        "\n",
        "for i in range(num_episodes):\n",
        "    state, _ = env.reset()\n",
        "    episode_return = 0\n",
        "    done = False\n",
        "    while not done:\n",
        "        # Get the action from the policy estimator\n",
        "        action_probs = clf.predict_proba(phi(state).reshape(1, -1))\n",
        "        action = np.argmax(action_probs)\n",
        "        \n",
        "        # Take the action and get the next state and reward\n",
        "        next_state, reward, done, info, _ = env.step(action)\n",
        "        \n",
        "        # Update the episode return and current state\n",
        "        episode_return += reward\n",
        "        state = next_state\n",
        "\n",
        "            \n",
        "    returns.append(episode_return)\n",
        "average_return_expert250_C01 = sum(returns) / len(returns) \n",
        "\n",
        "# Print the average return over the 100 episodes\n",
        "print(\"Average Return for expert: \",average_return_expert250_C01)\n"
      ],
      "metadata": {
        "colab": {
          "base_uri": "https://localhost:8080/"
        },
        "outputId": "00bab7d6-083d-4505-f963-84cbf945d83f",
        "id": "e6t1iIYHl_R8"
      },
      "execution_count": 93,
      "outputs": [
        {
          "output_type": "stream",
          "name": "stdout",
          "text": [
            "Average Return for expert:  196.68\n"
          ]
        }
      ]
    },
    {
      "cell_type": "markdown",
      "source": [
        "###  Expert dataset 500 episodes"
      ],
      "metadata": {
        "id": "-qmTfjpwkrNP"
      }
    },
    {
      "cell_type": "markdown",
      "source": [
        "#### C=0.1"
      ],
      "metadata": {
        "id": "xDJoKIwBlVgM"
      }
    },
    {
      "cell_type": "code",
      "source": [
        "X = np.vstack([np.hstack((t[0])) for episode in expert_dataset500 for t in episode])\n",
        "y = np.hstack([t[1] for episode in expert_dataset500 for t in episode])\n",
        "# shuffle the rows of X and y in the same order\n",
        "# shuffle_idx = np.random.permutation(X.shape[0])\n",
        "# X = X[shuffle_idx]\n",
        "# y = y[shuffle_idx]"
      ],
      "metadata": {
        "id": "sVR2H8NzWEhz",
        "colab": {
          "base_uri": "https://localhost:8080/"
        },
        "outputId": "a053a811-789a-4182-c1d3-f3b3f74ecdb3"
      },
      "execution_count": 94,
      "outputs": [
        {
          "output_type": "stream",
          "name": "stderr",
          "text": [
            "/usr/local/lib/python3.9/dist-packages/ipykernel/ipkernel.py:283: DeprecationWarning: `should_run_async` will not call `transform_cell` automatically in the future. Please pass the result to `transformed_cell` argument and any exception that happen during thetransform in `preprocessing_exc_tuple` in IPython 7.17 and above.\n",
            "  and should_run_async(code)\n"
          ]
        }
      ]
    },
    {
      "cell_type": "code",
      "source": [
        "clf = clf = LogisticRegression(max_iter=1000, C=0.1).fit(X, y)\n",
        "num_episodes = 100\n",
        "episode_length = 200\n",
        "\n",
        "returns = []\n",
        "\n",
        "for i in range(num_episodes):\n",
        "    state, _ = env.reset()\n",
        "    episode_return = 0\n",
        "    \n",
        "    done = False\n",
        "    while not done:\n",
        "        # Get the action from the policy estimator\n",
        "        action_probs = clf.predict_proba(phi(state).reshape(1, -1))\n",
        "        action = np.argmax(action_probs)\n",
        "        \n",
        "        # Take the action and get the next state and reward\n",
        "        next_state, reward, done, info, _ = env.step(action)\n",
        "        \n",
        "        # Update the episode return and current state\n",
        "        episode_return += reward\n",
        "        state = next_state\n",
        "        \n",
        "        \n",
        "            \n",
        "    returns.append(episode_return)\n",
        "average_return_expert500_C1  = sum(returns) / len(returns)\n",
        "# Print the average return over the 100 episodes\n",
        "print(\"Average Return for expert: \", sum(returns) / len(returns))"
      ],
      "metadata": {
        "colab": {
          "base_uri": "https://localhost:8080/"
        },
        "id": "1QCyhswOWIMv",
        "outputId": "07bfb059-66d7-4e50-9ca0-09e935351052"
      },
      "execution_count": 95,
      "outputs": [
        {
          "output_type": "stream",
          "name": "stdout",
          "text": [
            "Average Return for expert:  199.4\n"
          ]
        }
      ]
    },
    {
      "cell_type": "code",
      "source": [],
      "metadata": {
        "colab": {
          "base_uri": "https://localhost:8080/"
        },
        "id": "WSvSRrudllaD",
        "outputId": "1fff288d-4530-44dd-e54f-1268a5eab623"
      },
      "execution_count": 95,
      "outputs": [
        {
          "output_type": "stream",
          "name": "stderr",
          "text": [
            "/usr/local/lib/python3.9/dist-packages/ipykernel/ipkernel.py:283: DeprecationWarning: `should_run_async` will not call `transform_cell` automatically in the future. Please pass the result to `transformed_cell` argument and any exception that happen during thetransform in `preprocessing_exc_tuple` in IPython 7.17 and above.\n",
            "  and should_run_async(code)\n"
          ]
        }
      ]
    },
    {
      "cell_type": "markdown",
      "source": [
        "#### C=0.01"
      ],
      "metadata": {
        "id": "C363Nysnlmzy"
      }
    },
    {
      "cell_type": "code",
      "source": [
        "X = np.vstack([np.hstack((t[0])) for episode in expert_dataset500 for t in episode])\n",
        "y = np.hstack([t[1] for episode in expert_dataset500 for t in episode])\n",
        "# shuffle the rows of X and y in the same order\n",
        "# shuffle_idx = np.random.permutation(X.shape[0])\n",
        "# X = X[shuffle_idx]\n",
        "# y = y[shuffle_idx]"
      ],
      "metadata": {
        "id": "QlOY9OQVlmA1"
      },
      "execution_count": 96,
      "outputs": []
    },
    {
      "cell_type": "code",
      "source": [
        "clf = LogisticRegression(max_iter=1000, C=0.01).fit(X, y)\n",
        "num_episodes = 100\n",
        "episode_length = 200\n",
        "\n",
        "returns = []\n",
        "\n",
        "for i in range(num_episodes):\n",
        "    state, _ = env.reset()\n",
        "    episode_return = 0\n",
        "    \n",
        "    done = False\n",
        "    while not done:\n",
        "        # Get the action from the policy estimator\n",
        "        action_probs = clf.predict_proba(phi(state).reshape(1, -1))\n",
        "        action = np.argmax(action_probs)\n",
        "        \n",
        "        # Take the action and get the next state and reward\n",
        "        next_state, reward, done, info, _ = env.step(action)\n",
        "        \n",
        "        # Update the episode return and current state\n",
        "        episode_return += reward\n",
        "        state = next_state\n",
        "        \n",
        "        \n",
        "            \n",
        "    returns.append(episode_return)\n",
        "average_return_expert500_C01  = sum(returns) / len(returns)\n",
        "# Print the average return over the 100 episodes\n",
        "print(\"Average Return for expert: \", sum(returns) / len(returns))"
      ],
      "metadata": {
        "colab": {
          "base_uri": "https://localhost:8080/"
        },
        "outputId": "1f0e18d9-f5c9-4575-a086-f91929e50ec4",
        "id": "EE4jV369lmA2"
      },
      "execution_count": 97,
      "outputs": [
        {
          "output_type": "stream",
          "name": "stdout",
          "text": [
            "Average Return for expert:  204.05\n"
          ]
        }
      ]
    },
    {
      "cell_type": "markdown",
      "source": [
        "## Mixed dataset"
      ],
      "metadata": {
        "id": "6qMM-FsKFZTE"
      }
    },
    {
      "cell_type": "markdown",
      "source": [
        "###  Mixed dataset 100 episodes"
      ],
      "metadata": {
        "id": "PKIKjo7OFjNs"
      }
    },
    {
      "cell_type": "markdown",
      "source": [
        "#### C=0.1"
      ],
      "metadata": {
        "id": "6AdGns11mOHY"
      }
    },
    {
      "cell_type": "code",
      "source": [
        "X = np.vstack([np.hstack((t[0])) for episode in mixed_data100 for t in episode])\n",
        "y = np.hstack([t[1] for episode in mixed_data100 for t in episode])\n",
        "# shuffle_idx = np.random.permutation(X.shape[0])\n",
        "# X = X[shuffle_idx]\n",
        "# y = y[shuffle_idx]"
      ],
      "metadata": {
        "id": "q8DBT10VbmfI",
        "colab": {
          "base_uri": "https://localhost:8080/"
        },
        "outputId": "01c7786a-d60a-4e19-eec9-b87b049b7ee0"
      },
      "execution_count": 98,
      "outputs": [
        {
          "output_type": "stream",
          "name": "stderr",
          "text": [
            "/usr/local/lib/python3.9/dist-packages/ipykernel/ipkernel.py:283: DeprecationWarning: `should_run_async` will not call `transform_cell` automatically in the future. Please pass the result to `transformed_cell` argument and any exception that happen during thetransform in `preprocessing_exc_tuple` in IPython 7.17 and above.\n",
            "  and should_run_async(code)\n"
          ]
        }
      ]
    },
    {
      "cell_type": "code",
      "source": [
        "clf = LogisticRegression(max_iter=1000,C=0.1).fit(X, y)\n",
        "num_episodes = 100\n",
        "episode_length = 200\n",
        "\n",
        "returns = []\n",
        "\n",
        "for i in range(num_episodes):\n",
        "    state, _ = env.reset()\n",
        "    episode_return = 0\n",
        "    done = False\n",
        "    while not done:\n",
        "        # Get the action from the policy estimator\n",
        "        action_probs = clf.predict_proba(phi(state).reshape(1, -1))\n",
        "        action = np.argmax(action_probs)\n",
        "        \n",
        "        # Take the action and get the next state and reward\n",
        "        next_state, reward, done, info, _ = env.step(action)\n",
        "        \n",
        "        # Update the episode return and current state\n",
        "        episode_return += reward\n",
        "        state = next_state\n",
        "        \n",
        "     \n",
        "    returns.append(episode_return)\n",
        "average_return_mixed100_C1  = sum(returns) / len(returns)\n",
        "    \n",
        "# Print the average return over the 100 episodes\n",
        "print(\"Average Return for mixed: \", sum(returns) / len(returns))"
      ],
      "metadata": {
        "colab": {
          "base_uri": "https://localhost:8080/"
        },
        "outputId": "04c67168-b19a-43e3-e144-089d65728ea6",
        "id": "kFu6Q85qbmfI"
      },
      "execution_count": 99,
      "outputs": [
        {
          "output_type": "stream",
          "name": "stdout",
          "text": [
            "Average Return for mixed:  199.49\n"
          ]
        }
      ]
    },
    {
      "cell_type": "markdown",
      "source": [
        "#### C=0.01"
      ],
      "metadata": {
        "id": "MwVxPNeBmQ7A"
      }
    },
    {
      "cell_type": "code",
      "source": [
        "X = np.vstack([np.hstack((t[0])) for episode in mixed_data100 for t in episode])\n",
        "y = np.hstack([t[1] for episode in mixed_data100 for t in episode])\n",
        "# shuffle_idx = np.random.permutation(X.shape[0])\n",
        "# X = X[shuffle_idx]\n",
        "# y = y[shuffle_idx]"
      ],
      "metadata": {
        "colab": {
          "base_uri": "https://localhost:8080/"
        },
        "outputId": "36f80d2e-0503-4bac-fb82-5d28d0e6df6f",
        "id": "bC8rRgmhmU5Y"
      },
      "execution_count": 100,
      "outputs": [
        {
          "output_type": "stream",
          "name": "stderr",
          "text": [
            "/usr/local/lib/python3.9/dist-packages/ipykernel/ipkernel.py:283: DeprecationWarning: `should_run_async` will not call `transform_cell` automatically in the future. Please pass the result to `transformed_cell` argument and any exception that happen during thetransform in `preprocessing_exc_tuple` in IPython 7.17 and above.\n",
            "  and should_run_async(code)\n"
          ]
        }
      ]
    },
    {
      "cell_type": "code",
      "source": [
        "clf = LogisticRegression(max_iter=1000,C=0.01).fit(X, y)\n",
        "num_episodes = 100\n",
        "episode_length = 200\n",
        "\n",
        "returns = []\n",
        "\n",
        "for i in range(num_episodes):\n",
        "    state, _ = env.reset()\n",
        "    episode_return = 0\n",
        "    done = False\n",
        "    while not done:\n",
        "        # Get the action from the policy estimator\n",
        "        action_probs = clf.predict_proba(phi(state).reshape(1, -1))\n",
        "        action = np.argmax(action_probs)\n",
        "        \n",
        "        # Take the action and get the next state and reward\n",
        "        next_state, reward, done, info, _ = env.step(action)\n",
        "        \n",
        "        # Update the episode return and current state\n",
        "        episode_return += reward\n",
        "        state = next_state\n",
        "        \n",
        "     \n",
        "    returns.append(episode_return)\n",
        "average_return_mixed100_C01  = sum(returns) / len(returns)\n",
        "    \n",
        "# Print the average return over the 100 episodes\n",
        "print(\"Average Return for mixed: \", sum(returns) / len(returns))"
      ],
      "metadata": {
        "colab": {
          "base_uri": "https://localhost:8080/"
        },
        "outputId": "d0232aaf-c748-4502-dc97-e5b271c5eb27",
        "id": "q1u7i9Y6mU5Y"
      },
      "execution_count": 101,
      "outputs": [
        {
          "output_type": "stream",
          "name": "stdout",
          "text": [
            "Average Return for mixed:  193.88\n"
          ]
        }
      ]
    },
    {
      "cell_type": "markdown",
      "source": [
        "###  Mixed dataset 250 episodes"
      ],
      "metadata": {
        "id": "9ro6FmuJmjkk"
      }
    },
    {
      "cell_type": "markdown",
      "source": [
        "#### C=0.1"
      ],
      "metadata": {
        "id": "NypFModAmjkk"
      }
    },
    {
      "cell_type": "code",
      "source": [
        "X = np.vstack([np.hstack((t[0])) for episode in mixed_data250 for t in episode])\n",
        "y = np.hstack([t[1] for episode in mixed_data250 for t in episode])\n",
        "# shuffle_idx = np.random.permutation(X.shape[0])\n",
        "# X = X[shuffle_idx]\n",
        "# y = y[shuffle_idx]"
      ],
      "metadata": {
        "id": "pIyRvHrAfPno",
        "colab": {
          "base_uri": "https://localhost:8080/"
        },
        "outputId": "1d9a10ee-5a25-43c4-f7d6-92fc0d3e4a5f"
      },
      "execution_count": 102,
      "outputs": [
        {
          "output_type": "stream",
          "name": "stderr",
          "text": [
            "/usr/local/lib/python3.9/dist-packages/ipykernel/ipkernel.py:283: DeprecationWarning: `should_run_async` will not call `transform_cell` automatically in the future. Please pass the result to `transformed_cell` argument and any exception that happen during thetransform in `preprocessing_exc_tuple` in IPython 7.17 and above.\n",
            "  and should_run_async(code)\n"
          ]
        }
      ]
    },
    {
      "cell_type": "code",
      "source": [
        "clf = LogisticRegression(max_iter=1000,C=0.1).fit(X, y)\n",
        "num_episodes = 100\n",
        "episode_length = 200\n",
        "\n",
        "returns = []\n",
        "\n",
        "for i in range(num_episodes):\n",
        "    state, _ = env.reset()\n",
        "    episode_return = 0\n",
        "    \n",
        "    for t in range(episode_length):\n",
        "        # Get the action from the policy estimator\n",
        "        action_probs = clf.predict_proba(phi(state).reshape(1, -1))\n",
        "        action = np.argmax(action_probs)\n",
        "        \n",
        "        # Take the action and get the next state and reward\n",
        "        next_state, reward, done, info, _ = env.step(action)\n",
        "        \n",
        "        # Update the episode return and current state\n",
        "        episode_return += reward\n",
        "        state = next_state\n",
        "        \n",
        "        if done:\n",
        "            break\n",
        "            \n",
        "    returns.append(episode_return)\n",
        "average_return_mixed250_C1  = sum(returns) / len(returns)\n",
        "  \n",
        "# Print the average return over the 100 episodes\n",
        "print(\"Average Return: \", sum(returns) / len(returns))"
      ],
      "metadata": {
        "colab": {
          "base_uri": "https://localhost:8080/"
        },
        "outputId": "0b53eab7-5454-4b45-a710-0d5b2db35dd6",
        "id": "SN8Bk15lfXSb"
      },
      "execution_count": 103,
      "outputs": [
        {
          "output_type": "stream",
          "name": "stdout",
          "text": [
            "Average Return:  180.4\n"
          ]
        }
      ]
    },
    {
      "cell_type": "markdown",
      "source": [
        "#### C=0.01"
      ],
      "metadata": {
        "id": "ztXDvjasmqCO"
      }
    },
    {
      "cell_type": "code",
      "source": [
        "X = np.vstack([np.hstack((t[0])) for episode in mixed_data250 for t in episode])\n",
        "y = np.hstack([t[1] for episode in mixed_data250 for t in episode])\n",
        "# shuffle_idx = np.random.permutation(X.shape[0])\n",
        "# X = X[shuffle_idx]\n",
        "# y = y[shuffle_idx]"
      ],
      "metadata": {
        "colab": {
          "base_uri": "https://localhost:8080/"
        },
        "outputId": "d97605d8-c10b-47b9-c662-4bc47e2866a0",
        "id": "r-SLhv8dmqCP"
      },
      "execution_count": 104,
      "outputs": [
        {
          "output_type": "stream",
          "name": "stderr",
          "text": [
            "/usr/local/lib/python3.9/dist-packages/ipykernel/ipkernel.py:283: DeprecationWarning: `should_run_async` will not call `transform_cell` automatically in the future. Please pass the result to `transformed_cell` argument and any exception that happen during thetransform in `preprocessing_exc_tuple` in IPython 7.17 and above.\n",
            "  and should_run_async(code)\n"
          ]
        }
      ]
    },
    {
      "cell_type": "code",
      "source": [
        "clf = LogisticRegression(max_iter=1000,C=0.01).fit(X, y)\n",
        "num_episodes = 100\n",
        "episode_length = 200\n",
        "\n",
        "returns = []\n",
        "\n",
        "for i in range(num_episodes):\n",
        "    state, _ = env.reset()\n",
        "    episode_return = 0\n",
        "    \n",
        "    for t in range(episode_length):\n",
        "        # Get the action from the policy estimator\n",
        "        action_probs = clf.predict_proba(phi(state).reshape(1, -1))\n",
        "        action = np.argmax(action_probs)\n",
        "        \n",
        "        # Take the action and get the next state and reward\n",
        "        next_state, reward, done, info, _ = env.step(action)\n",
        "        \n",
        "        # Update the episode return and current state\n",
        "        episode_return += reward\n",
        "        state = next_state\n",
        "        \n",
        "        if done:\n",
        "            break\n",
        "            \n",
        "    returns.append(episode_return)\n",
        "average_return_mixed250_C01  = sum(returns) / len(returns)\n",
        "  \n",
        "# Print the average return over the 100 episodes\n",
        "print(\"Average Return: \", sum(returns) / len(returns))"
      ],
      "metadata": {
        "colab": {
          "base_uri": "https://localhost:8080/"
        },
        "outputId": "c527391c-7b3c-485d-e49a-7308126be15e",
        "id": "GGuEdjYWmqCP"
      },
      "execution_count": 105,
      "outputs": [
        {
          "output_type": "stream",
          "name": "stdout",
          "text": [
            "Average Return:  182.33\n"
          ]
        }
      ]
    },
    {
      "cell_type": "markdown",
      "source": [
        "###  Mixed dataset 500 episodes"
      ],
      "metadata": {
        "id": "MJzEDKljmxGH"
      }
    },
    {
      "cell_type": "markdown",
      "source": [
        "#### C=0.1"
      ],
      "metadata": {
        "id": "PUKkcbYHmxGH"
      }
    },
    {
      "cell_type": "code",
      "source": [
        "X = np.vstack([np.hstack((t[0])) for episode in mixed_data500 for t in episode])\n",
        "y = np.hstack([t[1] for episode in mixed_data500 for t in episode])\n",
        "# shuffle_idx = np.random.permutation(X.shape[0])\n",
        "# X = X[shuffle_idx]\n",
        "# y = y[shuffle_idx]"
      ],
      "metadata": {
        "colab": {
          "base_uri": "https://localhost:8080/"
        },
        "id": "8RRp91QAf2vJ",
        "outputId": "9a8df536-7d72-4518-eec5-2556617e9e81"
      },
      "execution_count": 106,
      "outputs": [
        {
          "output_type": "stream",
          "name": "stderr",
          "text": [
            "/usr/local/lib/python3.9/dist-packages/ipykernel/ipkernel.py:283: DeprecationWarning: `should_run_async` will not call `transform_cell` automatically in the future. Please pass the result to `transformed_cell` argument and any exception that happen during thetransform in `preprocessing_exc_tuple` in IPython 7.17 and above.\n",
            "  and should_run_async(code)\n"
          ]
        }
      ]
    },
    {
      "cell_type": "code",
      "source": [
        "clf = LogisticRegression(max_iter=1000,C=0.1).fit(X, y)\n",
        "num_episodes = 100\n",
        "episode_length = 200\n",
        "\n",
        "returns = []\n",
        "\n",
        "for i in range(num_episodes):\n",
        "    state, _ = env.reset()\n",
        "    episode_return = 0\n",
        "    done = False\n",
        "    while not done:\n",
        "        # Get the action from the policy estimator\n",
        "        action_probs = clf.predict_proba(phi(state).reshape(1, -1))\n",
        "        action = np.argmax(action_probs)\n",
        "        \n",
        "        # Take the action and get the next state and reward\n",
        "        next_state, reward, done, info, _ = env.step(action)\n",
        "        \n",
        "        # Update the episode return and current state\n",
        "        episode_return += reward\n",
        "        state = next_state\n",
        "  \n",
        "            \n",
        "    returns.append(episode_return)\n",
        "average_return_mixed500_C1  = sum(returns) / len(returns)\n",
        "    \n",
        "# Print the average return over the 100 episodes\n",
        "print(\"Average Return: \", sum(returns) / len(returns))"
      ],
      "metadata": {
        "colab": {
          "base_uri": "https://localhost:8080/"
        },
        "outputId": "e1440b37-d946-4939-e7f9-30e30a01d337",
        "id": "3f6TWPPhf28L"
      },
      "execution_count": 107,
      "outputs": [
        {
          "output_type": "stream",
          "name": "stdout",
          "text": [
            "Average Return:  195.47\n"
          ]
        }
      ]
    },
    {
      "cell_type": "markdown",
      "source": [
        "#### C=0.01"
      ],
      "metadata": {
        "id": "Lx_X_zGJm4WE"
      }
    },
    {
      "cell_type": "code",
      "source": [
        "X = np.vstack([np.hstack((t[0])) for episode in mixed_data500 for t in episode])\n",
        "y = np.hstack([t[1] for episode in mixed_data500 for t in episode])\n",
        "# shuffle_idx = np.random.permutation(X.shape[0])\n",
        "# X = X[shuffle_idx]\n",
        "# y = y[shuffle_idx]"
      ],
      "metadata": {
        "colab": {
          "base_uri": "https://localhost:8080/"
        },
        "outputId": "ad5720ad-1342-465b-f08f-2f57cbd6a38b",
        "id": "-UKdVRH-m4WF"
      },
      "execution_count": 108,
      "outputs": [
        {
          "output_type": "stream",
          "name": "stderr",
          "text": [
            "/usr/local/lib/python3.9/dist-packages/ipykernel/ipkernel.py:283: DeprecationWarning: `should_run_async` will not call `transform_cell` automatically in the future. Please pass the result to `transformed_cell` argument and any exception that happen during thetransform in `preprocessing_exc_tuple` in IPython 7.17 and above.\n",
            "  and should_run_async(code)\n"
          ]
        }
      ]
    },
    {
      "cell_type": "code",
      "source": [
        "clf = LogisticRegression(max_iter=1000,C=0.01).fit(X, y)\n",
        "num_episodes = 100\n",
        "episode_length = 200\n",
        "\n",
        "returns = []\n",
        "\n",
        "for i in range(num_episodes):\n",
        "    state, _ = env.reset()\n",
        "    episode_return = 0\n",
        "    done = False\n",
        "    while not done:\n",
        "        # Get the action from the policy estimator\n",
        "        action_probs = clf.predict_proba(phi(state).reshape(1, -1))\n",
        "        action = np.argmax(action_probs)\n",
        "        \n",
        "        # Take the action and get the next state and reward\n",
        "        next_state, reward, done, info, _ = env.step(action)\n",
        "        \n",
        "        # Update the episode return and current state\n",
        "        episode_return += reward\n",
        "        state = next_state\n",
        "  \n",
        "            \n",
        "    returns.append(episode_return)\n",
        "average_return_mixed500_C01  = sum(returns) / len(returns)\n",
        "    \n",
        "# Print the average return over the 100 episodes\n",
        "print(\"Average Return: \", sum(returns) / len(returns))"
      ],
      "metadata": {
        "colab": {
          "base_uri": "https://localhost:8080/"
        },
        "outputId": "23acf3a3-cf2e-4e91-afb0-25baf38dbbb0",
        "id": "v4AOzABmm4WF"
      },
      "execution_count": 109,
      "outputs": [
        {
          "output_type": "stream",
          "name": "stdout",
          "text": [
            "Average Return:  196.75\n"
          ]
        }
      ]
    },
    {
      "cell_type": "markdown",
      "source": [
        "## Bar chart for the logistic regression"
      ],
      "metadata": {
        "id": "Xs-rIOkBIvBJ"
      }
    },
    {
      "cell_type": "code",
      "source": [
        "import pandas as pd \n",
        "import matplotlib.pyplot as plt"
      ],
      "metadata": {
        "id": "NjKxD9DF_Dls",
        "colab": {
          "base_uri": "https://localhost:8080/"
        },
        "outputId": "14ab37a2-92a9-4b77-9155-fc5cc19c0db7"
      },
      "execution_count": 110,
      "outputs": [
        {
          "output_type": "stream",
          "name": "stderr",
          "text": [
            "/usr/local/lib/python3.9/dist-packages/ipykernel/ipkernel.py:283: DeprecationWarning: `should_run_async` will not call `transform_cell` automatically in the future. Please pass the result to `transformed_cell` argument and any exception that happen during thetransform in `preprocessing_exc_tuple` in IPython 7.17 and above.\n",
            "  and should_run_async(code)\n"
          ]
        }
      ]
    },
    {
      "cell_type": "code",
      "source": [
        "avg=[average_return_random100_C1,average_return_random250_C1,average_return_random500_C1,average_return_mixed100_C1,average_return_mixed250_C1,average_return_mixed500_C1,average_return_expert100_C1, average_return_expert250_C1, average_return_expert500_C1]"
      ],
      "metadata": {
        "id": "vCiKNiwlqdJV"
      },
      "execution_count": 111,
      "outputs": []
    },
    {
      "cell_type": "code",
      "source": [
        "\n",
        "import pandas as pd\n",
        "import matplotlib.pyplot as plt\n",
        "\n",
        "# Define the data\n",
        "avg = [average_return_random100_C1,average_return_random250_C1,average_return_random500_C1,average_return_mixed100_C1,average_return_mixed250_C1,average_return_mixed500_C1,average_return_expert100_C1, average_return_expert250_C1, average_return_expert500_C1]\n",
        "data = ['Random data100','Random data250','Random data500','Mixed data100','Mixed data250','Mixed data500','Expertdata100', 'Expertdata250', 'Expertdata500']\n",
        "\n",
        "# Create a DataFrame from the data\n",
        "df = pd.DataFrame({'data': data, 'Average return': avg})\n",
        "\n",
        "# Calculate the standard deviation of the 'Average return' column\n",
        "std = df['Average return'].std()\n",
        "\n",
        "# Create the plot\n",
        "ax = df.plot.bar(x='data', y='Average return', yerr=std, rot=0, figsize=(14, 5))\n",
        "\n",
        "# Set x-label to an empty string\n",
        "plt.xlabel('')\n",
        "\n",
        "# Add a title to the plot\n",
        "plt.title('Average Return for logistic regression with C=0.1')\n",
        "\n",
        "plt.show()\n"
      ],
      "metadata": {
        "id": "QZJde0kBklYg",
        "colab": {
          "base_uri": "https://localhost:8080/",
          "height": 456
        },
        "outputId": "e9863e2b-a3b6-486e-827a-0ae5ca87eb7e"
      },
      "execution_count": 112,
      "outputs": [
        {
          "output_type": "display_data",
          "data": {
            "text/plain": [
              "<Figure size 1400x500 with 1 Axes>"
            ],
            "image/png": "[encoded data removed]"
          },
          "metadata": {}
        }
      ]
    },
    {
      "cell_type": "code",
      "source": [
        "df = pd.DataFrame({'data':['Random data100','Random data250','Random data500','Mixed data100','Mixed data250','Mixed data500','Expertdata100', 'Expertdata250', 'Expertdata500'], 'Average return':[average_return_random100_C01,average_return_random250_C01,average_return_random500_C01,average_return_mixed100_C01,average_return_mixed250_C01,average_return_mixed500_C01,average_return_expert100_C01, average_return_expert250_C01, average_return_expert500_C01]})\n",
        "# Create a DataFrame from the data\n",
        "df = pd.DataFrame({'data': data, 'Average return': avg})\n",
        "\n",
        "# Calculate the standard deviation of the 'Average return' column\n",
        "std = df['Average return'].std()\n",
        "\n",
        "# Create the plot\n",
        "ax = df.plot.bar(x='data', y='Average return', yerr=std, rot=0, figsize=(14, 5))\n",
        "\n",
        "# Set x-label to an empty string\n",
        "plt.xlabel('')\n",
        "# Add a title to the plot\n",
        "plt.title('Average Return for logistic regression with C=0.01')\n",
        "plt.show()\n"
      ],
      "metadata": {
        "colab": {
          "base_uri": "https://localhost:8080/",
          "height": 456
        },
        "id": "DmMJbJbWptbg",
        "outputId": "2fc7bca7-3a12-4182-e976-e78629eb2c66"
      },
      "execution_count": 114,
      "outputs": [
        {
          "output_type": "display_data",
          "data": {
            "text/plain": [
              "<Figure size 1400x500 with 1 Axes>"
            ],
            "image/png": "[encoded data removed]"
          },
          "metadata": {}
        }
      ]
    },
    {
      "cell_type": "markdown",
      "source": [
        "# Fitted q learning\n"
      ],
      "metadata": {
        "id": "xxKpDYW25WgY"
      }
    },
    {
      "cell_type": "markdown",
      "source": [
        "## Expert dataset"
      ],
      "metadata": {
        "id": "B0V5iLGCQbr5"
      }
    },
    {
      "cell_type": "markdown",
      "source": [
        "### Expert dataset 100 episodes"
      ],
      "metadata": {
        "id": "eoiESjQqQf4Z"
      }
    },
    {
      "cell_type": "code",
      "source": [
        "# Set learning rates\n",
        "lr = 0.001\n",
        "gamma = 0.99\n",
        "weights = np.random.uniform(low=-.001, high=.001, size=(phi.num_features, env.action_space.n))\n",
        "threshold = 1e-2\n",
        "epsilon = 1e-2 # threshold for difference between consecutive MSEs\n",
        "mse_list=[]\n",
        "# Train Q function with fitted Q learning\n",
        "prev_mse = np.inf\n",
        "for epoch in tqdm(range(100)):\n",
        "    mse = 0  # initialize mean squared error to zero for each epoch\n",
        "    \n",
        "    for episode in expert_dataset100:\n",
        "        grad = np.zeros((phi.num_features, env.action_space.n))  # initialize gradient to zero for each epoch\n",
        "\n",
        "        y =  np.zeros((len(episode), env.action_space.n))   # initialize target values for Q-function update\n",
        "        q_pred_all = np.zeros((len(episode), env.action_space.n))  # initialize predictions for all time steps in episode\n",
        "        for t in range(len(episode)):\n",
        "            state, action, reward, next_state, done = episode[t]\n",
        "            q_next = next_state.dot(weights)\n",
        "            Q_next = np.max(q_next) if not done else 0  # set Q_next to 0 if episode has ended\n",
        "\n",
        "            y[t,:] = reward + gamma * Q_next\n",
        "\n",
        "            q_pred = state.dot(weights)\n",
        "            q_pred_all[t, :] = q_pred  # accumulate predictions for current time step\n",
        "\n",
        "            error = q_pred[action] - y[t,:][action]\n",
        "            grad[:, action] += state * error  # accumulate gradient for current time step\n",
        "\n",
        "        weights -= lr * grad  # update weights after each epoch \n",
        "\n",
        "        mse = np.mean((y - q_pred_all)**2)  # compute mean squared error over all time steps in the episode\n",
        "        mse_list.append(mse)  \n",
        "        \n",
        "    if abs(mse - prev_mse) < epsilon:\n",
        "        print(f\"Training stopped at epoch {epoch+1}\")\n",
        "        break\n",
        "    else:\n",
        "        prev_mse = mse\n"
      ],
      "metadata": {
        "colab": {
          "base_uri": "https://localhost:8080/"
        },
        "id": "9RvNPurrYRjW",
        "outputId": "7224f340-de28-49ce-aee3-3d9ee4d164bd"
      },
      "execution_count": 115,
      "outputs": [
        {
          "output_type": "stream",
          "name": "stderr",
          "text": [
            " 50%|█████     | 50/100 [00:16<00:16,  3.11it/s]"
          ]
        },
        {
          "output_type": "stream",
          "name": "stdout",
          "text": [
            "Training stopped at epoch 51\n"
          ]
        },
        {
          "output_type": "stream",
          "name": "stderr",
          "text": [
            "\n"
          ]
        }
      ]
    },
    {
      "cell_type": "code",
      "source": [
        "\n",
        "total_rewards = 0\n",
        "for episode in range(100):\n",
        "    state,_ = env.reset()\n",
        "    state_bins = phi(state)\n",
        "    done = False\n",
        "    t=0\n",
        "    while not done:\n",
        "        q_value = state_bins.dot(weights)\n",
        "        action = np.argmax(q_value)\n",
        "        next_state, reward, done, info,_ = env.step(action)\n",
        "        total_rewards += reward\n",
        "        next_state_bins = phi(next_state)\n",
        "        state_bins = next_state_bins\n",
        "        t+=1\n",
        "average_reward_expert_100_C1 = total_rewards / 100\n",
        "print(\"Average reward: \", average_reward_expert_100_C1)"
      ],
      "metadata": {
        "colab": {
          "base_uri": "https://localhost:8080/"
        },
        "outputId": "59126bd9-466b-4517-d21e-6d8d37455c39",
        "id": "jKNO_WS8vm7Y"
      },
      "execution_count": 116,
      "outputs": [
        {
          "output_type": "stream",
          "name": "stdout",
          "text": [
            "Average reward:  152.48\n"
          ]
        }
      ]
    },
    {
      "cell_type": "code",
      "source": [
        "# Set learning rates\n",
        "lr = 0.01\n",
        "gamma = 0.99\n",
        "weights = np.random.uniform(low=-.001, high=.001, size=(phi.num_features, env.action_space.n))\n",
        "threshold = 1e-2\n",
        "epsilon = 1e-2 # threshold for difference between consecutive MSEs\n",
        "mse_list=[]\n",
        "# Train Q function with fitted Q learning\n",
        "prev_mse = np.inf\n",
        "for epoch in tqdm(range(100)):\n",
        "    mse = 0  # initialize mean squared error to zero for each epoch\n",
        "    \n",
        "    for episode in expert_dataset100:\n",
        "        grad = np.zeros((phi.num_features, env.action_space.n))  # initialize gradient to zero for each epoch\n",
        "\n",
        "        y =  np.zeros((len(episode), env.action_space.n))   # initialize target values for Q-function update\n",
        "        q_pred_all = np.zeros((len(episode), env.action_space.n))  # initialize predictions for all time steps in episode\n",
        "        for t in range(len(episode)):\n",
        "            state, action, reward, next_state, done = episode[t]\n",
        "            q_next = next_state.dot(weights)\n",
        "            Q_next = np.max(q_next) if not done else 0  # set Q_next to 0 if episode has ended\n",
        "\n",
        "            y[t,:] = reward + gamma * Q_next\n",
        "\n",
        "            q_pred = state.dot(weights)\n",
        "            q_pred_all[t, :] = q_pred  # accumulate predictions for current time step\n",
        "\n",
        "            error = q_pred[action] - y[t,:][action]\n",
        "            grad[:, action] += state * error  # accumulate gradient for current time step\n",
        "\n",
        "        weights -= lr * grad  # update weights after each epoch \n",
        "\n",
        "        mse = np.mean((y - q_pred_all)**2)  # compute mean squared error over all time steps in the episode\n",
        "        mse_list.append(mse)  \n",
        "        \n",
        "    if abs(mse - prev_mse) < epsilon:\n",
        "        print(f\"Training stopped at epoch {epoch+1}\")\n",
        "        break\n",
        "    else:\n",
        "        prev_mse = mse\n",
        "\n",
        "\n",
        "total_rewards = 0\n",
        "for episode in range(100):\n",
        "    state,_ = env.reset()\n",
        "    state_bins = phi(state)\n",
        "    done = False\n",
        "    t=0\n",
        "    while not done:\n",
        "        q_value = state_bins.dot(weights)\n",
        "        action = np.argmax(q_value)\n",
        "        next_state, reward, done, info,_ = env.step(action)\n",
        "        total_rewards += reward\n",
        "        next_state_bins = phi(next_state)\n",
        "        state_bins = next_state_bins\n",
        "        t+=1\n",
        "average_reward_expert_100_C01 = total_rewards / 100\n",
        "print(\"Average reward: \", average_reward_expert_100_C01)"
      ],
      "metadata": {
        "colab": {
          "base_uri": "https://localhost:8080/"
        },
        "id": "d40cTCSuNK3G",
        "outputId": "4cc70a34-98dc-4084-c270-0180d2c29e24"
      },
      "execution_count": 117,
      "outputs": [
        {
          "output_type": "stream",
          "name": "stderr",
          "text": [
            "100%|██████████| 100/100 [00:30<00:00,  3.32it/s]\n"
          ]
        },
        {
          "output_type": "stream",
          "name": "stdout",
          "text": [
            "Average reward:  45.54\n"
          ]
        }
      ]
    },
    {
      "cell_type": "markdown",
      "source": [
        "### Expert dataset 250 episodes"
      ],
      "metadata": {
        "id": "yx7WPn2WQ7Pq"
      }
    },
    {
      "cell_type": "code",
      "source": [
        "# Set learning rates\n",
        "lr = 0.001\n",
        "gamma = 0.99\n",
        "weights = np.random.uniform(low=-.001, high=.001, size=(phi.num_features, env.action_space.n))\n",
        "threshold = 1e-2\n",
        "epsilon = 1e-2 # threshold for difference between consecutive MSEs\n",
        "mse_list=[]\n",
        "# Train Q function with fitted Q learning\n",
        "prev_mse = np.inf\n",
        "for epoch in tqdm(range(100)):\n",
        "    mse = 0  # initialize mean squared error to zero for each epoch\n",
        "    \n",
        "    for episode in expert_dataset250:\n",
        "        grad = np.zeros((phi.num_features, env.action_space.n))  # initialize gradient to zero for each epoch\n",
        "\n",
        "        y =  np.zeros((len(episode), env.action_space.n))   # initialize target values for Q-function update\n",
        "        q_pred_all = np.zeros((len(episode), env.action_space.n))  # initialize predictions for all time steps in episode\n",
        "        for t in range(len(episode)):\n",
        "            state, action, reward, next_state, done = episode[t]\n",
        "            q_next = next_state.dot(weights)\n",
        "            Q_next = np.max(q_next) if not done else 0  # set Q_next to 0 if episode has ended\n",
        "\n",
        "            y[t,:] = reward + gamma * Q_next\n",
        "\n",
        "            q_pred = state.dot(weights)\n",
        "            q_pred_all[t, :] = q_pred  # accumulate predictions for current time step\n",
        "\n",
        "            error = q_pred[action] - y[t,:][action]\n",
        "            grad[:, action] += state * error  # accumulate gradient for current time step\n",
        "\n",
        "        weights -= lr * grad  # update weights after each epoch \n",
        "\n",
        "        mse = np.mean((y - q_pred_all)**2)  # compute mean squared error over all time steps in the episode\n",
        "        mse_list.append(mse)  \n",
        "        \n",
        "    if abs(mse - prev_mse) < epsilon:\n",
        "        print(f\"Training stopped at epoch {epoch+1}\")\n",
        "        break\n",
        "    else:\n",
        "        prev_mse = mse\n"
      ],
      "metadata": {
        "colab": {
          "base_uri": "https://localhost:8080/"
        },
        "outputId": "eb513808-2e38-4225-d173-f762dfc4be4a",
        "id": "VcQP75-Av2UZ"
      },
      "execution_count": 118,
      "outputs": [
        {
          "output_type": "stream",
          "name": "stderr",
          "text": [
            " 25%|██▌       | 25/100 [00:17<00:51,  1.45it/s]"
          ]
        },
        {
          "output_type": "stream",
          "name": "stdout",
          "text": [
            "Training stopped at epoch 26\n"
          ]
        },
        {
          "output_type": "stream",
          "name": "stderr",
          "text": [
            "\n"
          ]
        }
      ]
    },
    {
      "cell_type": "code",
      "source": [
        "\n",
        "total_rewards = 0\n",
        "for episode in range(100):\n",
        "    state,_ = env.reset()\n",
        "    state_bins = phi(state)\n",
        "    done = False\n",
        "    t=0\n",
        "    while not done:\n",
        "        q_value = state_bins.dot(weights)\n",
        "        action = np.argmax(q_value)\n",
        "        next_state, reward, done, info,_ = env.step(action)\n",
        "        total_rewards += reward\n",
        "        next_state_bins = phi(next_state)\n",
        "        state_bins = next_state_bins\n",
        "        t+=1\n",
        "average_reward_expert_250_C1 = total_rewards / 100\n",
        "print(\"Average reward: \", average_reward_expert_250_C1)"
      ],
      "metadata": {
        "colab": {
          "base_uri": "https://localhost:8080/"
        },
        "outputId": "d9eef058-d584-4b67-c2ab-52a272dd6f44",
        "id": "f6W-VP3FkkNH"
      },
      "execution_count": 119,
      "outputs": [
        {
          "output_type": "stream",
          "name": "stdout",
          "text": [
            "Average reward:  190.56\n"
          ]
        }
      ]
    },
    {
      "cell_type": "code",
      "source": [
        "# Set learning rates\n",
        "lr = 0.01\n",
        "gamma = 0.99\n",
        "weights = np.random.uniform(low=-.001, high=.001, size=(phi.num_features, env.action_space.n))\n",
        "threshold = 1e-2\n",
        "epsilon = 1e-2 # threshold for difference between consecutive MSEs\n",
        "mse_list=[]\n",
        "# Train Q function with fitted Q learning\n",
        "prev_mse = np.inf\n",
        "for epoch in tqdm(range(100)):\n",
        "    mse = 0  # initialize mean squared error to zero for each epoch\n",
        "    \n",
        "    for episode in expert_dataset250:\n",
        "        grad = np.zeros((phi.num_features, env.action_space.n))  # initialize gradient to zero for each epoch\n",
        "\n",
        "        y =  np.zeros((len(episode), env.action_space.n))   # initialize target values for Q-function update\n",
        "        q_pred_all = np.zeros((len(episode), env.action_space.n))  # initialize predictions for all time steps in episode\n",
        "        for t in range(len(episode)):\n",
        "            state, action, reward, next_state, done = episode[t]\n",
        "            q_next = next_state.dot(weights)\n",
        "            Q_next = np.max(q_next) if not done else 0  # set Q_next to 0 if episode has ended\n",
        "\n",
        "            y[t,:] = reward + gamma * Q_next\n",
        "\n",
        "            q_pred = state.dot(weights)\n",
        "            q_pred_all[t, :] = q_pred  # accumulate predictions for current time step\n",
        "\n",
        "            error = q_pred[action] - y[t,:][action]\n",
        "            grad[:, action] += state * error  # accumulate gradient for current time step\n",
        "\n",
        "        weights -= lr * grad  # update weights after each epoch \n",
        "\n",
        "        mse = np.mean((y - q_pred_all)**2)  # compute mean squared error over all time steps in the episode\n",
        "        mse_list.append(mse)  \n",
        "        \n",
        "    if abs(mse - prev_mse) < epsilon:\n",
        "        print(f\"Training stopped at epoch {epoch+1}\")\n",
        "        break\n",
        "    else:\n",
        "        prev_mse = mse\n",
        "\n",
        "\n",
        "total_rewards = 0\n",
        "for episode in range(100):\n",
        "    state,_ = env.reset()\n",
        "    state_bins = phi(state)\n",
        "    done = False\n",
        "    t=0\n",
        "    while not done:\n",
        "        q_value = state_bins.dot(weights)\n",
        "        action = np.argmax(q_value)\n",
        "        next_state, reward, done, info,_ = env.step(action)\n",
        "        total_rewards += reward\n",
        "        next_state_bins = phi(next_state)\n",
        "        state_bins = next_state_bins\n",
        "        t+=1\n",
        "average_reward_expert_250_C001 = total_rewards / 100\n",
        "print(\"Average reward: \", average_reward_expert_250_C001)"
      ],
      "metadata": {
        "colab": {
          "base_uri": "https://localhost:8080/"
        },
        "id": "dIMavgu9Nksw",
        "outputId": "cb00e58f-9066-428b-9d9a-87b4399359d8"
      },
      "execution_count": 120,
      "outputs": [
        {
          "output_type": "stream",
          "name": "stderr",
          "text": [
            " 57%|█████▋    | 57/100 [00:22<00:14,  2.91it/s]/usr/local/lib/python3.9/dist-packages/numpy/core/_methods.py:179: RuntimeWarning: overflow encountered in reduce\n",
            "  ret = umr_sum(arr, axis, dtype, out, keepdims, where=where)\n",
            "<ipython-input-120-350e68117658>:33: RuntimeWarning: overflow encountered in square\n",
            "  mse = np.mean((y - q_pred_all)**2)  # compute mean squared error over all time steps in the episode\n",
            " 58%|█████▊    | 58/100 [00:22<00:15,  2.79it/s]<ipython-input-120-350e68117658>:36: RuntimeWarning: invalid value encountered in double_scalars\n",
            "  if abs(mse - prev_mse) < epsilon:\n",
            "100%|██████████| 100/100 [00:37<00:00,  2.64it/s]\n"
          ]
        },
        {
          "output_type": "stream",
          "name": "stdout",
          "text": [
            "Average reward:  27.83\n"
          ]
        }
      ]
    },
    {
      "cell_type": "markdown",
      "source": [
        "### Expert dataset 500 episodes"
      ],
      "metadata": {
        "id": "xew9gsgXRE_N"
      }
    },
    {
      "cell_type": "code",
      "source": [],
      "metadata": {
        "id": "K8kosI26xeS3"
      },
      "execution_count": null,
      "outputs": []
    },
    {
      "cell_type": "code",
      "source": [
        "# Set learning rates\n",
        "lr = 0.001\n",
        "gamma = 0.99\n",
        "weights = np.random.uniform(low=-.001, high=.001, size=(phi.num_features, env.action_space.n))\n",
        "threshold = 1e-2\n",
        "epsilon = 1e-2 # threshold for difference between consecutive MSEs\n",
        "\n",
        "# Train Q function with fitted Q learning\n",
        "prev_mse = np.inf\n",
        "for epoch in tqdm(range(100)):\n",
        "    mse = 0  # initialize mean squared error to zero for each epoch\n",
        "    \n",
        "    for episode in expert_dataset500:\n",
        "        grad = np.zeros((phi.num_features, env.action_space.n))  # initialize gradient to zero for each epoch\n",
        "\n",
        "        y =  np.zeros((len(episode), env.action_space.n))   # initialize target values for Q-function update\n",
        "        q_pred_all = np.zeros((len(episode), env.action_space.n))  # initialize predictions for all time steps in episode\n",
        "        for t in range(len(episode)):\n",
        "            state, action, reward, next_state, done = episode[t]\n",
        "            q_next = next_state.dot(weights)\n",
        "            Q_next = np.max(q_next) if not done else 0  # set Q_next to 0 if episode has ended\n",
        "\n",
        "            y[t,:] = reward + gamma * Q_next\n",
        "\n",
        "            q_pred = state.dot(weights)\n",
        "            q_pred_all[t, :] = q_pred  # accumulate predictions for current time step\n",
        "\n",
        "            error = q_pred[action] - y[t,:][action]\n",
        "            grad[:, action] += state * error  # accumulate gradient for current time step\n",
        "\n",
        "        weights -= lr * grad  # update weights after each epoch \n",
        "\n",
        "        mse = np.mean((y - q_pred_all)**2)  # compute mean squared error over all time steps in the episode\n",
        "        mse_list.append(mse)  # store MSE in list for plotting later\n",
        "        \n",
        "    if abs(mse - prev_mse) < epsilon:\n",
        "        print(f\"Training stopped at epoch {epoch+1}\")\n",
        "        break\n",
        "    else:\n",
        "        prev_mse = mse\n"
      ],
      "metadata": {
        "colab": {
          "base_uri": "https://localhost:8080/"
        },
        "outputId": "21259323-70cb-4ecd-e618-7498546e1e82",
        "id": "ifT_U4uMxeed"
      },
      "execution_count": 121,
      "outputs": [
        {
          "output_type": "stream",
          "name": "stderr",
          "text": [
            " 17%|█▋        | 17/100 [00:15<01:13,  1.13it/s]"
          ]
        },
        {
          "output_type": "stream",
          "name": "stdout",
          "text": [
            "Training stopped at epoch 18\n"
          ]
        },
        {
          "output_type": "stream",
          "name": "stderr",
          "text": [
            "\n"
          ]
        }
      ]
    },
    {
      "cell_type": "code",
      "source": [
        "\n",
        "total_rewards = 0\n",
        "for episode in range(100):\n",
        "    state,_ = env.reset()\n",
        "    state_bins = phi(state)\n",
        "    done = False\n",
        "    t=0\n",
        "    while not done:\n",
        "        q_value = state_bins.dot(weights)\n",
        "        action = np.argmax(q_value)\n",
        "        next_state, reward, done, info,_ = env.step(action)\n",
        "        total_rewards += reward\n",
        "        next_state_bins = phi(next_state)\n",
        "        state_bins = next_state_bins\n",
        "        t+=1\n",
        "average_reward_expert_500C001 = total_rewards / 100\n",
        "print(\"Average reward: \", average_reward_expert_500C001)"
      ],
      "metadata": {
        "colab": {
          "base_uri": "https://localhost:8080/"
        },
        "outputId": "ae1346c1-1682-4e8f-ede5-814c4f15090b",
        "id": "1LhFTSi2xeee"
      },
      "execution_count": 122,
      "outputs": [
        {
          "output_type": "stream",
          "name": "stdout",
          "text": [
            "Average reward:  205.84\n"
          ]
        }
      ]
    },
    {
      "cell_type": "code",
      "source": [
        "# Set learning rates\n",
        "lr = 0.01\n",
        "gamma = 0.99\n",
        "weights = np.random.uniform(low=-.001, high=.001, size=(phi.num_features, env.action_space.n))\n",
        "threshold = 1e-2\n",
        "epsilon = 1e-2 # threshold for difference between consecutive MSEs\n",
        "\n",
        "# Train Q function with fitted Q learning\n",
        "prev_mse = np.inf\n",
        "for epoch in tqdm(range(100)):\n",
        "    mse = 0  # initialize mean squared error to zero for each epoch\n",
        "    \n",
        "    for episode in expert_dataset500:\n",
        "        grad = np.zeros((phi.num_features, env.action_space.n))  # initialize gradient to zero for each epoch\n",
        "\n",
        "        y =  np.zeros((len(episode), env.action_space.n))   # initialize target values for Q-function update\n",
        "        q_pred_all = np.zeros((len(episode), env.action_space.n))  # initialize predictions for all time steps in episode\n",
        "        for t in range(len(episode)):\n",
        "            state, action, reward, next_state, done = episode[t]\n",
        "            q_next = next_state.dot(weights)\n",
        "            Q_next = np.max(q_next) if not done else 0  # set Q_next to 0 if episode has ended\n",
        "\n",
        "            y[t,:] = reward + gamma * Q_next\n",
        "\n",
        "            q_pred = state.dot(weights)\n",
        "            q_pred_all[t, :] = q_pred  # accumulate predictions for current time step\n",
        "\n",
        "            error = q_pred[action] - y[t,:][action]\n",
        "            grad[:, action] += state * error  # accumulate gradient for current time step\n",
        "\n",
        "        weights -= lr * grad  # update weights after each epoch \n",
        "\n",
        "        mse = np.mean((y - q_pred_all)**2)  # compute mean squared error over all time steps in the episode\n",
        "        mse_list.append(mse)  # store MSE in list for plotting later\n",
        "        \n",
        "    if abs(mse - prev_mse) < epsilon:\n",
        "        print(f\"Training stopped at epoch {epoch+1}\")\n",
        "        break\n",
        "    else:\n",
        "        prev_mse = mse\n",
        "\n",
        "\n",
        "total_rewards = 0\n",
        "for episode in range(100):\n",
        "    state,_ = env.reset()\n",
        "    state_bins = phi(state)\n",
        "    done = False\n",
        "    t=0\n",
        "    while not done:\n",
        "        q_value = state_bins.dot(weights)\n",
        "        action = np.argmax(q_value)\n",
        "        next_state, reward, done, info,_ = env.step(action)\n",
        "        total_rewards += reward\n",
        "        next_state_bins = phi(next_state)\n",
        "        state_bins = next_state_bins\n",
        "        t+=1\n",
        "average_reward_expert_500_C1 = total_rewards / 100\n",
        "print(\"Average reward: \", average_reward_expert_500_C1)\n"
      ],
      "metadata": {
        "id": "38soxPIaxhpW",
        "colab": {
          "base_uri": "https://localhost:8080/"
        },
        "outputId": "6fbc2760-be88-4f3d-fd68-2b37d467eac2"
      },
      "execution_count": 123,
      "outputs": [
        {
          "output_type": "stream",
          "name": "stderr",
          "text": [
            " 25%|██▌       | 25/100 [00:20<01:11,  1.05it/s]<ipython-input-123-49d363aab3ab>:33: RuntimeWarning: overflow encountered in square\n",
            "  mse = np.mean((y - q_pred_all)**2)  # compute mean squared error over all time steps in the episode\n",
            " 26%|██▌       | 26/100 [00:21<01:05,  1.13it/s]<ipython-input-123-49d363aab3ab>:36: RuntimeWarning: invalid value encountered in double_scalars\n",
            "  if abs(mse - prev_mse) < epsilon:\n",
            " 50%|█████     | 50/100 [00:42<00:44,  1.13it/s]<ipython-input-123-49d363aab3ab>:29: RuntimeWarning: overflow encountered in add\n",
            "  grad[:, action] += state * error  # accumulate gradient for current time step\n",
            "<ipython-input-123-49d363aab3ab>:29: RuntimeWarning: invalid value encountered in multiply\n",
            "  grad[:, action] += state * error  # accumulate gradient for current time step\n",
            "<ipython-input-123-49d363aab3ab>:28: RuntimeWarning: invalid value encountered in double_scalars\n",
            "  error = q_pred[action] - y[t,:][action]\n",
            "<ipython-input-123-49d363aab3ab>:33: RuntimeWarning: invalid value encountered in subtract\n",
            "  mse = np.mean((y - q_pred_all)**2)  # compute mean squared error over all time steps in the episode\n",
            "100%|██████████| 100/100 [01:25<00:00,  1.17it/s]"
          ]
        },
        {
          "output_type": "stream",
          "name": "stdout",
          "text": [
            "Average reward:  9.27\n"
          ]
        },
        {
          "output_type": "stream",
          "name": "stderr",
          "text": [
            "\n"
          ]
        }
      ]
    },
    {
      "cell_type": "code",
      "source": [
        "import pandas as pd\n",
        "\n",
        "df = pd.DataFrame({'data':['Expert data100 LR=0.001','Expert data100 LR=0.01','Expert data250 LR=0.001','Expert data250 LR=0.01','Expert data500 LR=0.001','Expert data500 LR=0.01'], 'Average return':[average_reward_expert_100_C1,average_reward_expert_100_C01,average_reward_expert_250_C1,average_reward_expert_250_C001,average_reward_expert_500C001,average_reward_expert_500_C1]})\n",
        "ax = df.plot.bar(x='data', y='Average return', rot=0, figsize=(14,5))\n",
        "# Set x-label to an empty string\n",
        "plt.xlabel('')\n",
        "\n",
        "# Add a title to the plot\n",
        "plt.title('Average Return for expert data with fitted q learning')\n",
        "plt.show()"
      ],
      "metadata": {
        "colab": {
          "base_uri": "https://localhost:8080/",
          "height": 457
        },
        "id": "cEDUlpA6THy7",
        "outputId": "4b5409dd-9f2f-4367-d7b8-95820ba5fa4b"
      },
      "execution_count": 124,
      "outputs": [
        {
          "output_type": "display_data",
          "data": {
            "text/plain": [
              "<Figure size 1400x500 with 1 Axes>"
            ],
            "image/png": "[encoded data removed]"
          },
          "metadata": {}
        }
      ]
    },
    {
      "cell_type": "code",
      "source": [
        "\n",
        "# Define the data\n",
        "data = [\n",
        "    ('Expert data100 LR=0.001', average_reward_expert_100_C1),\n",
        "    ('Expert data100 LR=0.01', average_reward_expert_100_C01),\n",
        "    ('Expert data250 LR=0.001', average_reward_expert_250_C1),\n",
        "    ('Expert data250 LR=0.01', average_reward_expert_250_C001),\n",
        "    ('Expert data500 LR=0.001', average_reward_expert_500C001),\n",
        "    ('Expert data500 LR=0.01', average_reward_expert_500_C1)\n",
        "]\n",
        "\n",
        "# Create a DataFrame from the data\n",
        "df = pd.DataFrame(data, columns=['data', 'Average return'])\n",
        "\n",
        "# Calculate the standard deviation of the 'Average return' column\n",
        "std = df['Average return'].std()\n",
        "\n",
        "# Create the plot\n",
        "ax = df.plot.bar(x='data', y='Average return', yerr=std, capsize=4, rot=0, figsize=(14, 5))\n",
        "\n",
        "# Set x-label to an empty string\n",
        "plt.xlabel('')\n",
        "\n",
        "# Add a title to the plot\n",
        "plt.title('Average Return for expert data with fitted q learning')\n",
        "\n",
        "plt.show()"
      ],
      "metadata": {
        "colab": {
          "base_uri": "https://localhost:8080/",
          "height": 456
        },
        "id": "jl_Gi5d2q3fS",
        "outputId": "9b8c5bc9-45fd-4d25-8eac-1ad4d76aa893"
      },
      "execution_count": 125,
      "outputs": [
        {
          "output_type": "display_data",
          "data": {
            "text/plain": [
              "<Figure size 1400x500 with 1 Axes>"
            ],
            "image/png": "[encoded data removed]"
          },
          "metadata": {}
        }
      ]
    },
    {
      "cell_type": "markdown",
      "source": [
        "## Random dataset "
      ],
      "metadata": {
        "id": "k100RYB0xp3a"
      }
    },
    {
      "cell_type": "markdown",
      "source": [
        "### Random dataset 100 episodes\n"
      ],
      "metadata": {
        "id": "C1iqRqrCxseF"
      }
    },
    {
      "cell_type": "code",
      "source": [
        "# Set learning rates\n",
        "lr = 0.001\n",
        "gamma = 0.99\n",
        "weights = np.random.uniform(low=-.001, high=.001, size=(phi.num_features, env.action_space.n))\n",
        "threshold = 1e-2\n",
        "epsilon = 1e-2 # threshold for difference between consecutive MSEs\n",
        "\n",
        "# Train Q function with fitted Q learning\n",
        "prev_mse = np.inf\n",
        "for epoch in tqdm(range(100)):\n",
        "    mse = 0  # initialize mean squared error to zero for each epoch\n",
        "    \n",
        "    for episode in random_dataset100:\n",
        "        grad = np.zeros((phi.num_features, env.action_space.n))  # initialize gradient to zero for each epoch\n",
        "\n",
        "        y =  np.zeros((len(episode), env.action_space.n))   # initialize target values for Q-function update\n",
        "        q_pred_all = np.zeros((len(episode), env.action_space.n))  # initialize predictions for all time steps in episode\n",
        "        for t in range(len(episode)):\n",
        "            state, action, reward, next_state, done = episode[t]\n",
        "            q_next = next_state.dot(weights)\n",
        "            Q_next = np.max(q_next) if not done else 0  # set Q_next to 0 if episode has ended\n",
        "\n",
        "            y[t,:] = reward + gamma * Q_next\n",
        "\n",
        "            q_pred = state.dot(weights)\n",
        "            q_pred_all[t, :] = q_pred  # accumulate predictions for current time step\n",
        "\n",
        "            error = q_pred[action] - y[t,:][action]\n",
        "            grad[:, action] += state * error  # accumulate gradient for current time step\n",
        "\n",
        "        weights -= lr * grad  # update weights after each epoch \n",
        "\n",
        "        mse = np.mean((y - q_pred_all)**2)  # compute mean squared error over all time steps in the episode\n",
        "        mse_list.append(mse)  # store MSE in list for plotting later\n",
        "        \n",
        "    if abs(mse - prev_mse) < epsilon:\n",
        "        print(f\"Training stopped at epoch {epoch+1}\")\n",
        "        break\n",
        "    else:\n",
        "        prev_mse = mse\n"
      ],
      "metadata": {
        "colab": {
          "base_uri": "https://localhost:8080/"
        },
        "outputId": "3341bc89-31a9-44b8-e795-0dccb0ef3530",
        "id": "h0r1IMznye2f"
      },
      "execution_count": 130,
      "outputs": [
        {
          "output_type": "stream",
          "name": "stderr",
          "text": [
            "100%|██████████| 100/100 [00:07<00:00, 12.66it/s]\n"
          ]
        }
      ]
    },
    {
      "cell_type": "code",
      "source": [
        "\n",
        "total_rewards = 0\n",
        "for episode in range(100):\n",
        "    state,_ = env.reset()\n",
        "    state_bins = phi(state)\n",
        "    done = False\n",
        "    t=0\n",
        "    while not done:\n",
        "        q_value = state_bins.dot(weights)\n",
        "        action = np.argmax(q_value)\n",
        "        next_state, reward, done, info,_ = env.step(action)\n",
        "        total_rewards += reward\n",
        "        next_state_bins = phi(next_state)\n",
        "        state_bins = next_state_bins\n",
        "        t+=1\n",
        "average_reward_random_100_001 = total_rewards / 100\n",
        "print(\"Average reward: \", average_reward_random_100_001)"
      ],
      "metadata": {
        "colab": {
          "base_uri": "https://localhost:8080/"
        },
        "outputId": "b6dac0d5-9559-4b3a-a435-0656f2a44d6d",
        "id": "CQUNr3e3ye2g"
      },
      "execution_count": 131,
      "outputs": [
        {
          "output_type": "stream",
          "name": "stdout",
          "text": [
            "Average reward:  187.37\n"
          ]
        }
      ]
    },
    {
      "cell_type": "code",
      "source": [
        "# Set learning rates\n",
        "lr = 0.01\n",
        "gamma = 0.99\n",
        "weights = np.random.uniform(low=-.001, high=.001, size=(phi.num_features, env.action_space.n))\n",
        "threshold = 1e-2\n",
        "epsilon = 1e-2 # threshold for difference between consecutive MSEs\n",
        "\n",
        "# Train Q function with fitted Q learning\n",
        "prev_mse = np.inf\n",
        "for epoch in tqdm(range(100)):\n",
        "    mse = 0  # initialize mean squared error to zero for each epoch\n",
        "    \n",
        "    for episode in random_dataset100:\n",
        "        grad = np.zeros((phi.num_features, env.action_space.n))  # initialize gradient to zero for each epoch\n",
        "\n",
        "        y =  np.zeros((len(episode), env.action_space.n))   # initialize target values for Q-function update\n",
        "        q_pred_all = np.zeros((len(episode), env.action_space.n))  # initialize predictions for all time steps in episode\n",
        "        for t in range(len(episode)):\n",
        "            state, action, reward, next_state, done = episode[t]\n",
        "            q_next = next_state.dot(weights)\n",
        "            Q_next = np.max(q_next) if not done else 0  # set Q_next to 0 if episode has ended\n",
        "\n",
        "            y[t,:] = reward + gamma * Q_next\n",
        "\n",
        "            q_pred = state.dot(weights)\n",
        "            q_pred_all[t, :] = q_pred  # accumulate predictions for current time step\n",
        "\n",
        "            error = q_pred[action] - y[t,:][action]\n",
        "            grad[:, action] += state * error  # accumulate gradient for current time step\n",
        "\n",
        "        weights -= lr * grad  # update weights after each epoch \n",
        "\n",
        "        mse = np.mean((y - q_pred_all)**2)  # compute mean squared error over all time steps in the episode\n",
        "        mse_list.append(mse)  # store MSE in list for plotting later\n",
        "        \n",
        "    if abs(mse - prev_mse) < epsilon:\n",
        "        print(f\"Training stopped at epoch {epoch+1}\")\n",
        "        break\n",
        "    else:\n",
        "        prev_mse = mse\n",
        "\n",
        "\n",
        "total_rewards = 0\n",
        "for episode in range(100):\n",
        "    state,_ = env.reset()\n",
        "    state_bins = phi(state)\n",
        "    done = False\n",
        "    t=0\n",
        "    while not done:\n",
        "        q_value = state_bins.dot(weights)\n",
        "        action = np.argmax(q_value)\n",
        "        next_state, reward, done, info,_ = env.step(action)\n",
        "        total_rewards += reward\n",
        "        next_state_bins = phi(next_state)\n",
        "        state_bins = next_state_bins\n",
        "        t+=1\n",
        "average_reward_random_100_01 = total_rewards / 100\n",
        "print(\"Average reward: \", average_reward_random_100_01)"
      ],
      "metadata": {
        "colab": {
          "base_uri": "https://localhost:8080/"
        },
        "id": "FoySNwLCYw4p",
        "outputId": "dd17eb7b-a04b-4dfa-9cc8-b41985090a66"
      },
      "execution_count": 132,
      "outputs": [
        {
          "output_type": "stream",
          "name": "stderr",
          "text": [
            " 57%|█████▋    | 57/100 [00:02<00:01, 24.17it/s]\n"
          ]
        },
        {
          "output_type": "stream",
          "name": "stdout",
          "text": [
            "Training stopped at epoch 58\n",
            "Average reward:  88.38\n"
          ]
        }
      ]
    },
    {
      "cell_type": "markdown",
      "source": [
        "### Random dataset 250 episodes"
      ],
      "metadata": {
        "id": "5hH4mO-3yhY2"
      }
    },
    {
      "cell_type": "code",
      "source": [
        "# Set learning rates\n",
        "lr = 0.001\n",
        "gamma = 0.99\n",
        "weights = np.random.uniform(low=-.001, high=.001, size=(phi.num_features, env.action_space.n))\n",
        "threshold = 1e-2\n",
        "epsilon = 1e-2 # threshold for difference between consecutive MSEs\n",
        "\n",
        "# Train Q function with fitted Q learning\n",
        "prev_mse = np.inf\n",
        "for epoch in tqdm(range(100)):\n",
        "    mse = 0  # initialize mean squared error to zero for each epoch\n",
        "    \n",
        "    for episode in random_dataset250:\n",
        "        grad = np.zeros((phi.num_features, env.action_space.n))  # initialize gradient to zero for each epoch\n",
        "\n",
        "        y =  np.zeros((len(episode), env.action_space.n))   # initialize target values for Q-function update\n",
        "        q_pred_all = np.zeros((len(episode), env.action_space.n))  # initialize predictions for all time steps in episode\n",
        "        for t in range(len(episode)):\n",
        "            state, action, reward, next_state, done = episode[t]\n",
        "            q_next = next_state.dot(weights)\n",
        "            Q_next = np.max(q_next) if not done else 0  # set Q_next to 0 if episode has ended\n",
        "\n",
        "            y[t,:] = reward + gamma * Q_next\n",
        "\n",
        "            q_pred = state.dot(weights)\n",
        "            q_pred_all[t, :] = q_pred  # accumulate predictions for current time step\n",
        "\n",
        "            error = q_pred[action] - y[t,:][action]\n",
        "            grad[:, action] += state * error  # accumulate gradient for current time step\n",
        "\n",
        "        weights -= lr * grad  # update weights after each epoch \n",
        "\n",
        "        mse = np.mean((y - q_pred_all)**2)  # compute mean squared error over all time steps in the episode\n",
        "        mse_list.append(mse)  # store MSE in list for plotting later\n",
        "        \n",
        "    if abs(mse - prev_mse) < epsilon:\n",
        "        print(f\"Training stopped at epoch {epoch+1}\")\n",
        "        break\n",
        "    else:\n",
        "        prev_mse = mse\n"
      ],
      "metadata": {
        "colab": {
          "base_uri": "https://localhost:8080/"
        },
        "outputId": "f7f4ea7e-f998-4a42-b8f8-7ca54d8a21b0",
        "id": "7hxVXJDlx01Y"
      },
      "execution_count": 133,
      "outputs": [
        {
          "output_type": "stream",
          "name": "stderr",
          "text": [
            "100%|██████████| 100/100 [00:10<00:00,  9.23it/s]\n"
          ]
        }
      ]
    },
    {
      "cell_type": "code",
      "source": [
        "\n",
        "total_rewards = 0\n",
        "for episode in range(100):\n",
        "    state,_ = env.reset()\n",
        "    state_bins = phi(state)\n",
        "    done = False\n",
        "    t=0\n",
        "    while not done:\n",
        "        q_value = state_bins.dot(weights)\n",
        "        action = np.argmax(q_value)\n",
        "        next_state, reward, done, info,_ = env.step(action)\n",
        "        total_rewards += reward\n",
        "        next_state_bins = phi(next_state)\n",
        "        state_bins = next_state_bins\n",
        "        t+=1\n",
        "average_reward_random_250_001 = total_rewards / 100\n",
        "print(\"Average reward: \", average_reward_random_250_001)"
      ],
      "metadata": {
        "colab": {
          "base_uri": "https://localhost:8080/"
        },
        "outputId": "05a58207-fb68-41e0-f26d-381cdc34fea5",
        "id": "3KzXbU3Ix01Y"
      },
      "execution_count": 134,
      "outputs": [
        {
          "output_type": "stream",
          "name": "stdout",
          "text": [
            "Average reward:  140.22\n"
          ]
        }
      ]
    },
    {
      "cell_type": "code",
      "source": [
        "# Set learning rates\n",
        "lr = 0.01\n",
        "gamma = 0.99\n",
        "weights = np.random.uniform(low=-.001, high=.001, size=(phi.num_features, env.action_space.n))\n",
        "threshold = 1e-2\n",
        "epsilon = 1e-2 # threshold for difference between consecutive MSEs\n",
        "\n",
        "# Train Q function with fitted Q learning\n",
        "prev_mse = np.inf\n",
        "for epoch in tqdm(range(100)):\n",
        "    mse = 0  # initialize mean squared error to zero for each epoch\n",
        "    \n",
        "    for episode in random_dataset250:\n",
        "        grad = np.zeros((phi.num_features, env.action_space.n))  # initialize gradient to zero for each epoch\n",
        "\n",
        "        y =  np.zeros((len(episode), env.action_space.n))   # initialize target values for Q-function update\n",
        "        q_pred_all = np.zeros((len(episode), env.action_space.n))  # initialize predictions for all time steps in episode\n",
        "        for t in range(len(episode)):\n",
        "            state, action, reward, next_state, done = episode[t]\n",
        "            q_next = next_state.dot(weights)\n",
        "            Q_next = np.max(q_next) if not done else 0  # set Q_next to 0 if episode has ended\n",
        "\n",
        "            y[t,:] = reward + gamma * Q_next\n",
        "\n",
        "            q_pred = state.dot(weights)\n",
        "            q_pred_all[t, :] = q_pred  # accumulate predictions for current time step\n",
        "\n",
        "            error = q_pred[action] - y[t,:][action]\n",
        "            grad[:, action] += state * error  # accumulate gradient for current time step\n",
        "\n",
        "        weights -= lr * grad  # update weights after each epoch \n",
        "\n",
        "        mse = np.mean((y - q_pred_all)**2)  # compute mean squared error over all time steps in the episode\n",
        "        mse_list.append(mse)  # store MSE in list for plotting later\n",
        "        \n",
        "    if abs(mse - prev_mse) < epsilon:\n",
        "        print(f\"Training stopped at epoch {epoch+1}\")\n",
        "        break\n",
        "    else:\n",
        "        prev_mse = mse\n",
        "\n",
        "\n",
        "total_rewards = 0\n",
        "for episode in range(100):\n",
        "    state,_ = env.reset()\n",
        "    state_bins = phi(state)\n",
        "    done = False\n",
        "    t=0\n",
        "    while not done:\n",
        "        q_value = state_bins.dot(weights)\n",
        "        action = np.argmax(q_value)\n",
        "        next_state, reward, done, info,_ = env.step(action)\n",
        "        total_rewards += reward\n",
        "        next_state_bins = phi(next_state)\n",
        "        state_bins = next_state_bins\n",
        "        t+=1\n",
        "average_reward_random_250_01 = total_rewards / 100\n",
        "print(\"Average reward: \", average_reward_random_250_01)"
      ],
      "metadata": {
        "id": "S7xiKxMHyogF",
        "colab": {
          "base_uri": "https://localhost:8080/"
        },
        "outputId": "81965f82-720a-4e30-b95b-b04f4432abf4"
      },
      "execution_count": 135,
      "outputs": [
        {
          "output_type": "stream",
          "name": "stderr",
          "text": [
            " 40%|████      | 40/100 [00:03<00:05, 10.47it/s]\n"
          ]
        },
        {
          "output_type": "stream",
          "name": "stdout",
          "text": [
            "Training stopped at epoch 41\n",
            "Average reward:  84.75\n"
          ]
        }
      ]
    },
    {
      "cell_type": "markdown",
      "source": [
        "### Random dataset 500 episodes"
      ],
      "metadata": {
        "id": "yQXeK4gDypev"
      }
    },
    {
      "cell_type": "code",
      "source": [
        "# Set learning rates\n",
        "lr = 0.0001\n",
        "gamma = 0.99\n",
        "weights = np.random.uniform(low=-.001, high=.001, size=(phi.num_features, env.action_space.n))\n",
        "threshold = 1e-2\n",
        "epsilon = 1e-2 # threshold for difference between consecutive MSEs\n",
        "\n",
        "# Train Q function with fitted Q learning\n",
        "prev_mse = np.inf\n",
        "for epoch in tqdm(range(100)):\n",
        "    mse = 0  # initialize mean squared error to zero for each epoch\n",
        "    \n",
        "    for episode in random_dataset500:\n",
        "        grad = np.zeros((phi.num_features, env.action_space.n))  # initialize gradient to zero for each epoch\n",
        "\n",
        "        y =  np.zeros((len(episode), env.action_space.n))   # initialize target values for Q-function update\n",
        "        q_pred_all = np.zeros((len(episode), env.action_space.n))  # initialize predictions for all time steps in episode\n",
        "        for t in range(len(episode)):\n",
        "            state, action, reward, next_state, done = episode[t]\n",
        "            q_next = next_state.dot(weights)\n",
        "            Q_next = np.max(q_next) if not done else 0  # set Q_next to 0 if episode has ended\n",
        "\n",
        "            y[t,:] = reward + gamma * Q_next\n",
        "\n",
        "            q_pred = state.dot(weights)\n",
        "            q_pred_all[t, :] = q_pred  # accumulate predictions for current time step\n",
        "\n",
        "            error = q_pred[action] - y[t,:][action]\n",
        "            grad[:, action] += state * error  # accumulate gradient for current time step\n",
        "\n",
        "        weights -= lr * grad  # update weights after each epoch \n",
        "\n",
        "        mse = np.mean((y - q_pred_all)**2)  # compute mean squared error over all time steps in the episode\n",
        "        mse_list.append(mse)  # store MSE in list for plotting later\n",
        "        \n",
        "    if abs(mse - prev_mse) < epsilon:\n",
        "        print(f\"Training stopped at epoch {epoch+1}\")\n",
        "        break\n",
        "    else:\n",
        "        prev_mse = mse\n"
      ],
      "metadata": {
        "colab": {
          "base_uri": "https://localhost:8080/"
        },
        "outputId": "a8d232de-2bad-4241-f93b-bf41e0a84588",
        "id": "wnLsHo1Xyosd"
      },
      "execution_count": 141,
      "outputs": [
        {
          "output_type": "stream",
          "name": "stderr",
          "text": [
            "100%|██████████| 100/100 [00:39<00:00,  2.53it/s]\n"
          ]
        }
      ]
    },
    {
      "cell_type": "code",
      "source": [
        "\n",
        "total_rewards = 0\n",
        "for episode in range(100):\n",
        "    state,_ = env.reset()\n",
        "    state_bins = phi(state)\n",
        "    done = False\n",
        "    t=0\n",
        "    while not done:\n",
        "        q_value = state_bins.dot(weights)\n",
        "        action = np.argmax(q_value)\n",
        "        next_state, reward, done, info,_ = env.step(action)\n",
        "        total_rewards += reward\n",
        "        next_state_bins = phi(next_state)\n",
        "        state_bins = next_state_bins\n",
        "        t+=1\n",
        "average_reward_random_500_001 = total_rewards / 100\n",
        "print(\"Average reward: \", average_reward_random_500_001)"
      ],
      "metadata": {
        "colab": {
          "base_uri": "https://localhost:8080/"
        },
        "outputId": "2f632502-ac5f-4b7c-df53-ac69cad9d014",
        "id": "bIb2yg-2yosd"
      },
      "execution_count": 145,
      "outputs": [
        {
          "output_type": "stream",
          "name": "stdout",
          "text": [
            "Average reward:  139.24\n"
          ]
        }
      ]
    },
    {
      "cell_type": "code",
      "source": [
        "# Set learning rates\n",
        "lr = 0.01\n",
        "gamma = 0.99\n",
        "weights = np.random.uniform(low=-.001, high=.001, size=(phi.num_features, env.action_space.n))\n",
        "threshold = 1e-2\n",
        "epsilon = 1e-2 # threshold for difference between consecutive MSEs\n",
        "\n",
        "# Train Q function with fitted Q learning\n",
        "prev_mse = np.inf\n",
        "for epoch in tqdm(range(100)):\n",
        "    mse = 0  # initialize mean squared error to zero for each epoch\n",
        "    \n",
        "    for episode in random_dataset500:\n",
        "        grad = np.zeros((phi.num_features, env.action_space.n))  # initialize gradient to zero for each epoch\n",
        "\n",
        "        y =  np.zeros((len(episode), env.action_space.n))   # initialize target values for Q-function update\n",
        "        q_pred_all = np.zeros((len(episode), env.action_space.n))  # initialize predictions for all time steps in episode\n",
        "        for t in range(len(episode)):\n",
        "            state, action, reward, next_state, done = episode[t]\n",
        "            q_next = next_state.dot(weights)\n",
        "            Q_next = np.max(q_next) if not done else 0  # set Q_next to 0 if episode has ended\n",
        "\n",
        "            y[t,:] = reward + gamma * Q_next\n",
        "\n",
        "            q_pred = state.dot(weights)\n",
        "            q_pred_all[t, :] = q_pred  # accumulate predictions for current time step\n",
        "\n",
        "            error = q_pred[action] - y[t,:][action]\n",
        "            grad[:, action] += state * error  # accumulate gradient for current time step\n",
        "\n",
        "        weights -= lr * grad  # update weights after each epoch \n",
        "\n",
        "        mse = np.mean((y - q_pred_all)**2)  # compute mean squared error over all time steps in the episode\n",
        "        mse_list.append(mse)  # store MSE in list for plotting later\n",
        "        \n",
        "    if abs(mse - prev_mse) < epsilon:\n",
        "        print(f\"Training stopped at epoch {epoch+1}\")\n",
        "        break\n",
        "    else:\n",
        "        prev_mse = mse\n",
        "\n",
        "\n",
        "total_rewards = 0\n",
        "for episode in range(100):\n",
        "    state,_ = env.reset()\n",
        "    state_bins = phi(state)\n",
        "    done = False\n",
        "    t=0\n",
        "    while not done:\n",
        "        q_value = state_bins.dot(weights)\n",
        "        action = np.argmax(q_value)\n",
        "        next_state, reward, done, info,_ = env.step(action)\n",
        "        total_rewards += reward\n",
        "        next_state_bins = phi(next_state)\n",
        "        state_bins = next_state_bins\n",
        "        t+=1\n",
        "average_reward_random_500_01 = total_rewards / 100\n",
        "print(\"Average reward: \", average_reward_random_500_01)"
      ],
      "metadata": {
        "id": "SH52HK9Nzj1O",
        "colab": {
          "base_uri": "https://localhost:8080/"
        },
        "outputId": "e3221265-3654-4fdb-81b6-19e0beba0a64"
      },
      "execution_count": 143,
      "outputs": [
        {
          "output_type": "stream",
          "name": "stderr",
          "text": [
            " 16%|█▌        | 16/100 [00:06<00:31,  2.63it/s]"
          ]
        },
        {
          "output_type": "stream",
          "name": "stdout",
          "text": [
            "Training stopped at epoch 17\n"
          ]
        },
        {
          "output_type": "stream",
          "name": "stderr",
          "text": [
            "\n"
          ]
        },
        {
          "output_type": "stream",
          "name": "stdout",
          "text": [
            "Average reward:  143.28\n"
          ]
        }
      ]
    },
    {
      "cell_type": "code",
      "source": [
        "df = pd.DataFrame({'data':['Random data100 LR=0.001','Random data100 LR=0.01','Random data250 LR=0.001','Random data250 LR=0.01','Random data500 LR=0.001','Random data500 LR=0.01'], 'Average return':[average_reward_random_100_001,average_reward_random_100_01,average_reward_random_250_001,average_reward_random_250_01,average_reward_random_500_001,average_reward_random_500_01]})\n"
      ],
      "metadata": {
        "id": "wA0yWmkkssN2"
      },
      "execution_count": 139,
      "outputs": []
    },
    {
      "cell_type": "code",
      "source": [
        "import pandas as pd\n",
        "import numpy as np\n",
        "import matplotlib.pyplot as plt\n",
        "\n",
        "# Define the data\n",
        "data = ['Random data100 LR=0.001', 'Random data100 LR=0.01', 'Random data250 LR=0.001', 'Random data250 LR=0.01', 'Random data500 LR=0.001', 'Random data500 LR=0.01']\n",
        "average_return = [average_reward_random_100_001, average_reward_random_100_01, average_reward_random_250_001, average_reward_random_250_01, average_reward_random_500_001, average_reward_random_500_01]\n",
        "n = 100 # number of episodes\n",
        "\n",
        "# Calculate standard error\n",
        "std_dev = np.std(average_return)\n",
        "standard_error = std_dev / np.sqrt(n)\n",
        "\n",
        "# Create a DataFrame with the data and standard error\n",
        "df = pd.DataFrame({'data': data, 'Average return': average_return, 'Standard error': [standard_error]*6})\n",
        "\n",
        "# Plot the bar chart with error bars\n",
        "ax = df.plot.bar(x='data', y='Average return', yerr='Standard error', rot=0, figsize=(15,5))\n",
        "\n",
        "# Set x-label to an empty string\n",
        "plt.xlabel('')\n",
        "\n",
        "# Add a title to the plot\n",
        "plt.title('Average Return for random data with fitted q learning')\n",
        "\n",
        "plt.show()\n",
        "\n"
      ],
      "metadata": {
        "colab": {
          "base_uri": "https://localhost:8080/",
          "height": 429
        },
        "id": "ZUBYlPW-sJRA",
        "outputId": "8076bdef-a838-4029-c4a2-c73678510a81"
      },
      "execution_count": 147,
      "outputs": [
        {
          "output_type": "display_data",
          "data": {
            "text/plain": [
              "<Figure size 1500x500 with 1 Axes>"
            ],
            "image/png": "[encoded data removed]"
          },
          "metadata": {}
        }
      ]
    },
    {
      "cell_type": "markdown",
      "source": [
        "## Mixed dataset"
      ],
      "metadata": {
        "id": "v0vKF6xxzJd2"
      }
    },
    {
      "cell_type": "markdown",
      "source": [
        "### Mixed dataset 100 episodes"
      ],
      "metadata": {
        "id": "0inITxLKzNgd"
      }
    },
    {
      "cell_type": "code",
      "source": [
        "# Set learning rates\n",
        "lr = 0.001\n",
        "gamma = 0.99\n",
        "weights = np.random.uniform(low=-.001, high=.001, size=(phi.num_features, env.action_space.n))\n",
        "threshold = 1e-2\n",
        "epsilon = 1e-2 # threshold for difference between consecutive MSEs\n",
        "mse_list=[]\n",
        "# Train Q function with fitted Q learning\n",
        "prev_mse = np.inf\n",
        "for epoch in tqdm(range(100)):\n",
        "    mse = 0  # initialize mean squared error to zero for each epoch\n",
        "    \n",
        "    for episode in mixed_data100:\n",
        "        grad = np.zeros((phi.num_features, env.action_space.n))  # initialize gradient to zero for each epoch\n",
        "\n",
        "        y =  np.zeros((len(episode), env.action_space.n))   # initialize target values for Q-function update\n",
        "        q_pred_all = np.zeros((len(episode), env.action_space.n))  # initialize predictions for all time steps in episode\n",
        "        for t in range(len(episode)):\n",
        "            state, action, reward, next_state, done = episode[t]\n",
        "            q_next = next_state.dot(weights)\n",
        "            Q_next = np.max(q_next) if not done else 0  # set Q_next to 0 if episode has ended\n",
        "\n",
        "            y[t,:] = reward + gamma * Q_next\n",
        "\n",
        "            q_pred = state.dot(weights)\n",
        "            q_pred_all[t, :] = q_pred  # accumulate predictions for current time step\n",
        "\n",
        "            error = q_pred[action] - y[t,:][action]\n",
        "            grad[:, action] += state * error  # accumulate gradient for current time step\n",
        "\n",
        "        weights -= lr * grad  # update weights after each epoch \n",
        "\n",
        "        mse = np.mean((y - q_pred_all)**2)  # compute mean squared error over all time steps in the episode\n",
        "        mse_list.append(mse)  \n",
        "        \n",
        "    if abs(mse - prev_mse) < epsilon:\n",
        "        print(f\"Training stopped at epoch {epoch+1}\")\n",
        "        break\n",
        "    else:\n",
        "        prev_mse = mse\n",
        "\n",
        "\n",
        "total_rewards = 0\n",
        "for episode in range(100):\n",
        "    state,_ = env.reset()\n",
        "    state_bins = phi(state)\n",
        "    done = False\n",
        "    t=0\n",
        "    while not done:\n",
        "        q_value = state_bins.dot(weights)\n",
        "        action = np.argmax(q_value)\n",
        "        next_state, reward, done, info,_ = env.step(action)\n",
        "        total_rewards += reward\n",
        "        next_state_bins = phi(next_state)\n",
        "        state_bins = next_state_bins\n",
        "        t+=1\n",
        "average_reward_mixed_100_001 = total_rewards / 100\n",
        "print(\"Average reward: \", average_reward_mixed_100_001)"
      ],
      "metadata": {
        "colab": {
          "base_uri": "https://localhost:8080/"
        },
        "id": "zr_LFh4QVoQJ",
        "outputId": "53f8a9f9-a4fb-4cc2-a22a-73942cb66385"
      },
      "execution_count": 149,
      "outputs": [
        {
          "output_type": "stream",
          "name": "stderr",
          "text": [
            " 69%|██████▉   | 69/100 [00:23<00:10,  2.93it/s]"
          ]
        },
        {
          "output_type": "stream",
          "name": "stdout",
          "text": [
            "Training stopped at epoch 70\n"
          ]
        },
        {
          "output_type": "stream",
          "name": "stderr",
          "text": [
            "\n"
          ]
        },
        {
          "output_type": "stream",
          "name": "stdout",
          "text": [
            "Average reward:  162.3\n"
          ]
        }
      ]
    },
    {
      "cell_type": "code",
      "source": [
        "# Set learning rates\n",
        "lr = 0.01\n",
        "gamma = 0.99\n",
        "weights = np.random.uniform(low=-.001, high=.001, size=(phi.num_features, env.action_space.n))\n",
        "threshold = 1e-2\n",
        "epsilon = 1e-2 # threshold for difference between consecutive MSEs\n",
        "\n",
        "# Train Q function with fitted Q learning\n",
        "prev_mse = np.inf\n",
        "for epoch in tqdm(range(100)):\n",
        "    mse = 0  # initialize mean squared error to zero for each epoch\n",
        "    \n",
        "    for episode in mixed_data100:\n",
        "        grad = np.zeros((phi.num_features, env.action_space.n))  # initialize gradient to zero for each epoch\n",
        "\n",
        "        y =  np.zeros((len(episode), env.action_space.n))   # initialize target values for Q-function update\n",
        "        q_pred_all = np.zeros((len(episode), env.action_space.n))  # initialize predictions for all time steps in episode\n",
        "        for t in range(len(episode)):\n",
        "            state, action, reward, next_state, done = episode[t]\n",
        "            q_next = next_state.dot(weights)\n",
        "            Q_next = np.max(q_next) if not done else 0  # set Q_next to 0 if episode has ended\n",
        "\n",
        "            y[t,:] = reward + gamma * Q_next\n",
        "\n",
        "            q_pred = state.dot(weights)\n",
        "            q_pred_all[t, :] = q_pred  # accumulate predictions for current time step\n",
        "\n",
        "            error = q_pred[action] - y[t,:][action]\n",
        "            grad[:, action] += state * error  # accumulate gradient for current time step\n",
        "\n",
        "        weights -= lr * grad  # update weights after each epoch \n",
        "\n",
        "        mse = np.mean((y - q_pred_all)**2)  # compute mean squared error over all time steps in the episode\n",
        "        mse_list.append(mse)  # store MSE in list for plotting later\n",
        "        \n",
        "    if abs(mse - prev_mse) < epsilon:\n",
        "        print(f\"Training stopped at epoch {epoch+1}\")\n",
        "        break\n",
        "    else:\n",
        "        prev_mse = mse\n",
        "\n",
        "\n",
        "total_rewards = 0\n",
        "for episode in range(100):\n",
        "    state,_ = env.reset()\n",
        "    state_bins = phi(state)\n",
        "    done = False\n",
        "    t=0\n",
        "    while not done:\n",
        "        q_value = state_bins.dot(weights)\n",
        "        action = np.argmax(q_value)\n",
        "        next_state, reward, done, info,_ = env.step(action)\n",
        "        total_rewards += reward\n",
        "        next_state_bins = phi(next_state)\n",
        "        state_bins = next_state_bins\n",
        "        t+=1\n",
        "average_reward_mixed_100_01 = total_rewards / 100\n",
        "print(\"Average reward: \", average_reward_mixed_100_01)"
      ],
      "metadata": {
        "colab": {
          "base_uri": "https://localhost:8080/"
        },
        "id": "lVRI5KAAY-3i",
        "outputId": "e5ced4f6-4af2-4a79-e1c1-68abc10dd6ac"
      },
      "execution_count": 150,
      "outputs": [
        {
          "output_type": "stream",
          "name": "stderr",
          "text": [
            "100%|██████████| 100/100 [00:29<00:00,  3.35it/s]\n"
          ]
        },
        {
          "output_type": "stream",
          "name": "stdout",
          "text": [
            "Average reward:  34.24\n"
          ]
        }
      ]
    },
    {
      "cell_type": "markdown",
      "source": [
        "### Mixed dataset 250 episodes"
      ],
      "metadata": {
        "id": "E_s7htYPzT5u"
      }
    },
    {
      "cell_type": "code",
      "source": [
        "# Set learning rates\n",
        "lr = 0.001\n",
        "gamma = 0.99\n",
        "weights = np.random.uniform(low=-.001, high=.001, size=(phi.num_features, env.action_space.n))\n",
        "threshold = 1e-2\n",
        "epsilon = 1e-2 # threshold for difference between consecutive MSEs\n",
        "mse_list=[]\n",
        "# Train Q function with fitted Q learning\n",
        "prev_mse = np.inf\n",
        "for epoch in tqdm(range(100)):\n",
        "    mse = 0  # initialize mean squared error to zero for each epoch\n",
        "    \n",
        "    for episode in mixed_data250:\n",
        "        grad = np.zeros((phi.num_features, env.action_space.n))  # initialize gradient to zero for each epoch\n",
        "\n",
        "        y =  np.zeros((len(episode), env.action_space.n))   # initialize target values for Q-function update\n",
        "        q_pred_all = np.zeros((len(episode), env.action_space.n))  # initialize predictions for all time steps in episode\n",
        "        for t in range(len(episode)):\n",
        "            state, action, reward, next_state, done = episode[t]\n",
        "            q_next = next_state.dot(weights)\n",
        "            Q_next = np.max(q_next) if not done else 0  # set Q_next to 0 if episode has ended\n",
        "\n",
        "            y[t,:] = reward + gamma * Q_next\n",
        "\n",
        "            q_pred = state.dot(weights)\n",
        "            q_pred_all[t, :] = q_pred  # accumulate predictions for current time step\n",
        "\n",
        "            error = q_pred[action] - y[t,:][action]\n",
        "            grad[:, action] += state * error  # accumulate gradient for current time step\n",
        "\n",
        "        weights -= lr * grad  # update weights after each epoch \n",
        "\n",
        "        mse = np.mean((y - q_pred_all)**2)  # compute mean squared error over all time steps in the episode\n",
        "        mse_list.append(mse)  \n",
        "        \n",
        "    if abs(mse - prev_mse) < epsilon:\n",
        "        print(f\"Training stopped at epoch {epoch+1}\")\n",
        "        break\n",
        "    else:\n",
        "        prev_mse = mse\n",
        "\n",
        "\n",
        "total_rewards = 0\n",
        "for episode in range(100):\n",
        "    state,_ = env.reset()\n",
        "    state_bins = phi(state)\n",
        "    done = False\n",
        "    t=0\n",
        "    while not done:\n",
        "        q_value = state_bins.dot(weights)\n",
        "        action = np.argmax(q_value)\n",
        "        next_state, reward, done, info,_ = env.step(action)\n",
        "        total_rewards += reward\n",
        "        next_state_bins = phi(next_state)\n",
        "        state_bins = next_state_bins\n",
        "        t+=1\n",
        "average_reward_mixed_250_001 = total_rewards / 100\n",
        "print(\"Average reward: \", average_reward_mixed_250_001)"
      ],
      "metadata": {
        "colab": {
          "base_uri": "https://localhost:8080/"
        },
        "id": "iD4H6sKAV9MJ",
        "outputId": "fb10a849-be90-40dd-fe79-40beac4eb0db"
      },
      "execution_count": 151,
      "outputs": [
        {
          "output_type": "stream",
          "name": "stderr",
          "text": [
            " 58%|█████▊    | 58/100 [00:18<00:13,  3.05it/s]\n"
          ]
        },
        {
          "output_type": "stream",
          "name": "stdout",
          "text": [
            "Training stopped at epoch 59\n",
            "Average reward:  150.5\n"
          ]
        }
      ]
    },
    {
      "cell_type": "code",
      "source": [
        "# Set learning rates\n",
        "lr = 0.01\n",
        "gamma = 0.99\n",
        "weights = np.random.uniform(low=-.001, high=.001, size=(phi.num_features, env.action_space.n))\n",
        "threshold = 1e-2\n",
        "epsilon = 1e-2 # threshold for difference between consecutive MSEs\n",
        "\n",
        "# Train Q function with fitted Q learning\n",
        "prev_mse = np.inf\n",
        "for epoch in tqdm(range(100)):\n",
        "    mse = 0  # initialize mean squared error to zero for each epoch\n",
        "    \n",
        "    for episode in mixed_data250:\n",
        "        grad = np.zeros((phi.num_features, env.action_space.n))  # initialize gradient to zero for each epoch\n",
        "\n",
        "        y =  np.zeros((len(episode), env.action_space.n))   # initialize target values for Q-function update\n",
        "        q_pred_all = np.zeros((len(episode), env.action_space.n))  # initialize predictions for all time steps in episode\n",
        "        for t in range(len(episode)):\n",
        "            state, action, reward, next_state, done = episode[t]\n",
        "            q_next = next_state.dot(weights)\n",
        "            Q_next = np.max(q_next) if not done else 0  # set Q_next to 0 if episode has ended\n",
        "\n",
        "            y[t,:] = reward + gamma * Q_next\n",
        "\n",
        "            q_pred = state.dot(weights)\n",
        "            q_pred_all[t, :] = q_pred  # accumulate predictions for current time step\n",
        "\n",
        "            error = q_pred[action] - y[t,:][action]\n",
        "            grad[:, action] += state * error  # accumulate gradient for current time step\n",
        "\n",
        "        weights -= lr * grad  # update weights after each epoch \n",
        "\n",
        "        mse = np.mean((y - q_pred_all)**2)  # compute mean squared error over all time steps in the episode\n",
        "        mse_list.append(mse)  # store MSE in list for plotting later\n",
        "        \n",
        "    if abs(mse - prev_mse) < epsilon:\n",
        "        print(f\"Training stopped at epoch {epoch+1}\")\n",
        "        break\n",
        "    else:\n",
        "        prev_mse = mse\n",
        "\n",
        "\n",
        "total_rewards = 0\n",
        "for episode in range(100):\n",
        "    state,_ = env.reset()\n",
        "    state_bins = phi(state)\n",
        "    done = False\n",
        "    t=0\n",
        "    while not done:\n",
        "        q_value = state_bins.dot(weights)\n",
        "        action = np.argmax(q_value)\n",
        "        next_state, reward, done, info,_ = env.step(action)\n",
        "        total_rewards += reward\n",
        "        next_state_bins = phi(next_state)\n",
        "        state_bins = next_state_bins\n",
        "        t+=1\n",
        "average_reward_mixed_250_01 = total_rewards / 100\n",
        "print(\"Average reward: \", average_reward_mixed_250_01)"
      ],
      "metadata": {
        "colab": {
          "base_uri": "https://localhost:8080/"
        },
        "id": "QC3KHkseZCHh",
        "outputId": "2d7c87a9-90d3-4566-b523-ae409b3870a1"
      },
      "execution_count": 152,
      "outputs": [
        {
          "output_type": "stream",
          "name": "stderr",
          "text": [
            " 98%|█████████▊| 98/100 [00:35<00:00,  3.41it/s]/usr/local/lib/python3.9/dist-packages/numpy/core/_methods.py:179: RuntimeWarning: overflow encountered in reduce\n",
            "  ret = umr_sum(arr, axis, dtype, out, keepdims, where=where)\n",
            "<ipython-input-152-c734b0acef11>:33: RuntimeWarning: overflow encountered in square\n",
            "  mse = np.mean((y - q_pred_all)**2)  # compute mean squared error over all time steps in the episode\n",
            " 99%|█████████▉| 99/100 [00:35<00:00,  3.26it/s]<ipython-input-152-c734b0acef11>:36: RuntimeWarning: invalid value encountered in double_scalars\n",
            "  if abs(mse - prev_mse) < epsilon:\n",
            "100%|██████████| 100/100 [00:36<00:00,  2.77it/s]"
          ]
        },
        {
          "output_type": "stream",
          "name": "stdout",
          "text": [
            "Average reward:  15.31\n"
          ]
        },
        {
          "output_type": "stream",
          "name": "stderr",
          "text": [
            "\n"
          ]
        }
      ]
    },
    {
      "cell_type": "markdown",
      "source": [
        "### Mixed dataset 500 episodes"
      ],
      "metadata": {
        "id": "hbTh4gjBzXjG"
      }
    },
    {
      "cell_type": "code",
      "source": [],
      "metadata": {
        "id": "BnuejWjabpOt"
      },
      "execution_count": 152,
      "outputs": []
    },
    {
      "cell_type": "code",
      "source": [
        "# Set learning rates\n",
        "lr = 0.001\n",
        "gamma = 0.99\n",
        "weights = np.random.uniform(low=-.001, high=.001, size=(phi.num_features, env.action_space.n))\n",
        "threshold = 1e-2\n",
        "epsilon = 1e-2 # threshold for difference between consecutive MSEs\n",
        "mse_list=[]\n",
        "# Train Q function with fitted Q learning\n",
        "prev_mse = np.inf\n",
        "for epoch in tqdm(range(100)):\n",
        "    mse = 0  # initialize mean squared error to zero for each epoch\n",
        "    \n",
        "    for episode in mixed_data500:\n",
        "        grad = np.zeros((phi.num_features, env.action_space.n))  # initialize gradient to zero for each epoch\n",
        "\n",
        "        y =  np.zeros((len(episode), env.action_space.n))   # initialize target values for Q-function update\n",
        "        q_pred_all = np.zeros((len(episode), env.action_space.n))  # initialize predictions for all time steps in episode\n",
        "        for t in range(len(episode)):\n",
        "            state, action, reward, next_state, done = episode[t]\n",
        "            q_next = next_state.dot(weights)\n",
        "            Q_next = np.max(q_next) if not done else 0  # set Q_next to 0 if episode has ended\n",
        "\n",
        "            y[t,:] = reward + gamma * Q_next\n",
        "\n",
        "            q_pred = state.dot(weights)\n",
        "            q_pred_all[t, :] = q_pred  # accumulate predictions for current time step\n",
        "\n",
        "            error = q_pred[action] - y[t,:][action]\n",
        "            grad[:, action] += state * error  # accumulate gradient for current time step\n",
        "\n",
        "        weights -= lr * grad  # update weights after each epoch \n",
        "\n",
        "        mse = np.mean((y - q_pred_all)**2)  # compute mean squared error over all time steps in the episode\n",
        "        mse_list.append(mse)  \n",
        "        \n",
        "    if abs(mse - prev_mse) < epsilon:\n",
        "        print(f\"Training stopped at epoch {epoch+1}\")\n",
        "        break\n",
        "    else:\n",
        "        prev_mse = mse\n",
        "\n",
        "\n",
        "total_rewards = 0\n",
        "for episode in range(100):\n",
        "    state,_ = env.reset()\n",
        "    state_bins = phi(state)\n",
        "    done = False\n",
        "    t=0\n",
        "    while not done:\n",
        "        q_value = state_bins.dot(weights)\n",
        "        action = np.argmax(q_value)\n",
        "        next_state, reward, done, info,_ = env.step(action)\n",
        "        total_rewards += reward\n",
        "        next_state_bins = phi(next_state)\n",
        "        state_bins = next_state_bins\n",
        "        t+=1\n",
        "average_reward_mixed_500_001 = total_rewards / 100\n",
        "print(\"Average reward: \", average_reward_mixed_500_001)"
      ],
      "metadata": {
        "colab": {
          "base_uri": "https://localhost:8080/"
        },
        "id": "htyxcdAHWEet",
        "outputId": "36924d25-14cc-40e1-e7d9-ceaa4822e0c8"
      },
      "execution_count": 153,
      "outputs": [
        {
          "output_type": "stream",
          "name": "stderr",
          "text": [
            " 26%|██▌       | 26/100 [00:22<01:03,  1.17it/s]"
          ]
        },
        {
          "output_type": "stream",
          "name": "stdout",
          "text": [
            "Training stopped at epoch 27\n"
          ]
        },
        {
          "output_type": "stream",
          "name": "stderr",
          "text": [
            "\n"
          ]
        },
        {
          "output_type": "stream",
          "name": "stdout",
          "text": [
            "Average reward:  196.72\n"
          ]
        }
      ]
    },
    {
      "cell_type": "code",
      "source": [],
      "metadata": {
        "id": "-lEgXffhbp_O"
      },
      "execution_count": 153,
      "outputs": []
    },
    {
      "cell_type": "code",
      "source": [
        "# Set learning rates\n",
        "lr = 0.01\n",
        "gamma = 0.99\n",
        "weights = np.random.uniform(low=-.001, high=.001, size=(phi.num_features, env.action_space.n))\n",
        "threshold = 1e-2\n",
        "epsilon = 1e-2 # threshold for difference between consecutive MSEs\n",
        "\n",
        "# Train Q function with fitted Q learning\n",
        "prev_mse = np.inf\n",
        "for epoch in tqdm(range(100)):\n",
        "    mse = 0  # initialize mean squared error to zero for each epoch\n",
        "    \n",
        "    for episode in mixed_data500:\n",
        "        grad = np.zeros((phi.num_features, env.action_space.n))  # initialize gradient to zero for each epoch\n",
        "\n",
        "        y =  np.zeros((len(episode), env.action_space.n))   # initialize target values for Q-function update\n",
        "        q_pred_all = np.zeros((len(episode), env.action_space.n))  # initialize predictions for all time steps in episode\n",
        "        for t in range(len(episode)):\n",
        "            state, action, reward, next_state, done = episode[t]\n",
        "            q_next = next_state.dot(weights)\n",
        "            Q_next = np.max(q_next) if not done else 0  # set Q_next to 0 if episode has ended\n",
        "\n",
        "            y[t,:] = reward + gamma * Q_next\n",
        "\n",
        "            q_pred = state.dot(weights)\n",
        "            q_pred_all[t, :] = q_pred  # accumulate predictions for current time step\n",
        "\n",
        "            error = q_pred[action] - y[t,:][action]\n",
        "            grad[:, action] += state * error  # accumulate gradient for current time step\n",
        "\n",
        "        weights -= lr * grad  # update weights after each epoch \n",
        "\n",
        "        mse = np.mean((y - q_pred_all)**2)  # compute mean squared error over all time steps in the episode\n",
        "        mse_list.append(mse)  # store MSE in list for plotting later\n",
        "        \n",
        "    if abs(mse - prev_mse) < epsilon:\n",
        "        print(f\"Training stopped at epoch {epoch+1}\")\n",
        "        break\n",
        "    else:\n",
        "        prev_mse = mse\n",
        "\n",
        "\n",
        "total_rewards = 0\n",
        "for episode in range(100):\n",
        "    state,_ = env.reset()\n",
        "    state_bins = phi(state)\n",
        "    done = False\n",
        "    t=0\n",
        "    while not done:\n",
        "        q_value = state_bins.dot(weights)\n",
        "        action = np.argmax(q_value)\n",
        "        next_state, reward, done, info,_ = env.step(action)\n",
        "        total_rewards += reward\n",
        "        next_state_bins = phi(next_state)\n",
        "        state_bins = next_state_bins\n",
        "        t+=1\n",
        "average_reward_mixed_500_01 = total_rewards / 100\n",
        "print(\"Average reward: \", average_reward_mixed_500_01)"
      ],
      "metadata": {
        "colab": {
          "base_uri": "https://localhost:8080/"
        },
        "id": "hjLu05jvZF3o",
        "outputId": "d07b8e7c-2486-426a-85bf-aea435fc64b9"
      },
      "execution_count": 154,
      "outputs": [
        {
          "output_type": "stream",
          "name": "stderr",
          "text": [
            " 45%|████▌     | 45/100 [00:40<00:55,  1.01s/it]<ipython-input-154-c8b433fdaa83>:33: RuntimeWarning: overflow encountered in square\n",
            "  mse = np.mean((y - q_pred_all)**2)  # compute mean squared error over all time steps in the episode\n",
            " 46%|████▌     | 46/100 [00:41<00:52,  1.03it/s]<ipython-input-154-c8b433fdaa83>:36: RuntimeWarning: invalid value encountered in double_scalars\n",
            "  if abs(mse - prev_mse) < epsilon:\n",
            " 92%|█████████▏| 92/100 [01:17<00:05,  1.58it/s]<ipython-input-154-c8b433fdaa83>:29: RuntimeWarning: overflow encountered in add\n",
            "  grad[:, action] += state * error  # accumulate gradient for current time step\n",
            "100%|██████████| 100/100 [01:21<00:00,  1.22it/s]"
          ]
        },
        {
          "output_type": "stream",
          "name": "stdout",
          "text": [
            "Average reward:  9.39\n"
          ]
        },
        {
          "output_type": "stream",
          "name": "stderr",
          "text": [
            "\n"
          ]
        }
      ]
    },
    {
      "cell_type": "code",
      "source": [
        "import pandas as pd\n",
        "\n",
        "data = ['Mixed data100 LR=0.001', 'Mixed data100 LR=0.01', 'Mixed data250 LR=0.001', 'Mixed data250 LR=0.01', 'Mixed data500 LR=0.001', 'Mixed data500 LR=0.01']\n",
        "average_returns = [average_reward_mixed_100_001, average_reward_mixed_100_01, average_reward_mixed_250_001, average_reward_mixed_250_01, average_reward_mixed_500_001, average_reward_mixed_500_01]\n",
        "\n",
        "std_dev = np.std(average_returns)\n",
        "std_err = std_dev / np.sqrt(len(average_returns))\n",
        "\n",
        "df = pd.DataFrame({'data': data, 'Average return': average_returns, 'Std dev': [std_dev]*len(data), 'Std err': [std_err]*len(data)})\n",
        "\n",
        "ax = df.plot.bar(x='data', y='Average return', yerr='Std err', rot=0, figsize=(14,5))\n",
        "\n",
        "# Set x-label to an empty string\n",
        "plt.xlabel('')\n",
        "\n",
        "plt.title('Average Return for mixed data with fitted q learning')\n",
        "\n",
        "# Show the plot\n",
        "plt.show()\n",
        "\n",
        "\n",
        "\n"
      ],
      "metadata": {
        "colab": {
          "base_uri": "https://localhost:8080/",
          "height": 488
        },
        "id": "bb2gd9vUbq--",
        "outputId": "71100196-f451-41a4-b251-fc039f5c0c05"
      },
      "execution_count": 157,
      "outputs": [
        {
          "output_type": "display_data",
          "data": {
            "text/plain": [
              "<Figure size 1400x500 with 1 Axes>"
            ],
            "image/png": "[encoded data removed]"
          },
          "metadata": {}
        }
      ]
    },
    {
      "cell_type": "code",
      "source": [
        "import pandas as pd\n",
        "import matplotlib.pyplot as plt\n",
        "\n",
        "\n",
        "\n",
        "average_return_random = sum(sum([r for _, _, r, _, _ in ep]) for ep in random_dataset100) / len(random_dataset100)\n",
        "# print(average_return_random)\n",
        "average_return_mixed = sum(sum([r for _, _, r, _, _ in ep]) for ep in mixed_data100) / len(mixed_data100)\n",
        "average_return_expert = sum(sum([r for _, _, r, _, _ in ep]) for ep in expert_dataset100) / len(expert_dataset100)\n",
        "\n",
        "avg = [average_return_random, average_return_mixed, average_return_expert]\n",
        "data = ['Random', 'Mixed', 'Expert']\n",
        "\n",
        "# Create a DataFrame from the data\n",
        "df = pd.DataFrame({'Policy': data, 'Average Return': avg})\n",
        "\n",
        "# Calculate the standard deviation of the 'Average Return' column\n",
        "std = df['Average Return'].std()\n",
        "\n",
        "# Create the plot\n",
        "ax = df.plot.bar(x='Policy', y='Average Return', yerr=std, rot=0, figsize=(14, 5))\n",
        "\n",
        "# Add horizontal lines for the average return of the expert and random policy\n",
        "plt.axhline(y=average_return_expert, color='r', linestyle='--', label='Expert Average Return')\n",
        "plt.axhline(y=average_return_random, color='g', linestyle='--', label='Random Average Return')\n",
        "\n",
        "# Set x-label to an empty string\n",
        "plt.xlabel('')\n",
        "\n",
        "# Add a title to the plot\n",
        "plt.title('Average Return for data size 100')\n",
        "\n",
        "# Add a legend to the plot\n",
        "plt.legend()\n",
        "\n",
        "plt.show()\n"
      ],
      "metadata": {
        "colab": {
          "base_uri": "https://localhost:8080/",
          "height": 505
        },
        "id": "T_v2aXl-0BS7",
        "outputId": "e88e5727-dac6-4a66-f570-3368ea2fbefc"
      },
      "execution_count": 201,
      "outputs": [
        {
          "output_type": "stream",
          "name": "stdout",
          "text": [
            "22.03\n"
          ]
        },
        {
          "output_type": "display_data",
          "data": {
            "text/plain": [
              "<Figure size 1400x500 with 1 Axes>"
            ],
            "image/png": "[encoded data removed]"
          },
          "metadata": {}
        }
      ]
    },
    {
      "cell_type": "code",
      "source": [
        "import pandas as pd\n",
        "import matplotlib.pyplot as plt\n",
        "\n",
        "\n",
        "\n",
        "average_return_random = sum(sum([r for _, _, r, _, _ in ep]) for ep in random_dataset250) / len(random_dataset250)\n",
        "# print(average_return_random)\n",
        "average_return_mixed = sum(sum([r for _, _, r, _, _ in ep]) for ep in mixed_data250) / len(mixed_data250)\n",
        "average_return_expert = sum(sum([r for _, _, r, _, _ in ep]) for ep in expert_dataset250) / len(expert_dataset250)\n",
        "\n",
        "avg = [average_return_random, average_return_mixed, average_return_expert]\n",
        "data = ['Random', 'Mixed', 'Expert']\n",
        "\n",
        "# Create a DataFrame from the data\n",
        "df = pd.DataFrame({'Policy': data, 'Average Return': avg})\n",
        "\n",
        "# Calculate the standard deviation of the 'Average Return' column\n",
        "std = df['Average Return'].std()\n",
        "\n",
        "# Create the plot\n",
        "ax = df.plot.bar(x='Policy', y='Average Return', yerr=std, rot=0, figsize=(14, 5))\n",
        "\n",
        "# Add horizontal lines for the average return of the expert and random policy\n",
        "plt.axhline(y=average_return_expert, color='r', linestyle='--', label='Expert Average Return')\n",
        "plt.axhline(y=average_return_random, color='g', linestyle='--', label='Random Average Return')\n",
        "\n",
        "# Set x-label to an empty string\n",
        "plt.xlabel('')\n",
        "\n",
        "# Add a title to the plot\n",
        "plt.title('Average Return for data size 250')\n",
        "\n",
        "# Add a legend to the plot\n",
        "plt.legend()\n",
        "\n",
        "plt.show()\n"
      ],
      "metadata": {
        "colab": {
          "base_uri": "https://localhost:8080/",
          "height": 488
        },
        "id": "UuR0bo_D053P",
        "outputId": "49b42225-a542-422b-a42b-44794f93dea4"
      },
      "execution_count": 202,
      "outputs": [
        {
          "output_type": "display_data",
          "data": {
            "text/plain": [
              "<Figure size 1400x500 with 1 Axes>"
            ],
            "image/png": "[encoded data removed]"
          },
          "metadata": {}
        }
      ]
    },
    {
      "cell_type": "code",
      "source": [
        "import pandas as pd\n",
        "import matplotlib.pyplot as plt\n",
        "\n",
        "\n",
        "\n",
        "average_return_random = sum(sum([r for _, _, r, _, _ in ep]) for ep in random_dataset500) / len(random_dataset500)\n",
        "# print(average_return_random)\n",
        "average_return_mixed = sum(sum([r for _, _, r, _, _ in ep]) for ep in mixed_data500) / len(mixed_data500)\n",
        "average_return_expert = sum(sum([r for _, _, r, _, _ in ep]) for ep in expert_dataset500) / len(expert_dataset500)\n",
        "\n",
        "avg = [average_return_random, average_return_mixed, average_return_expert]\n",
        "data = ['Random', 'Mixed', 'Expert']\n",
        "\n",
        "# Create a DataFrame from the data\n",
        "df = pd.DataFrame({'Policy': data, 'Average Return': avg})\n",
        "\n",
        "# Calculate the standard deviation of the 'Average Return' column\n",
        "std = df['Average Return'].std()\n",
        "\n",
        "# Create the plot\n",
        "ax = df.plot.bar(x='Policy', y='Average Return', yerr=std, rot=0, figsize=(14, 5))\n",
        "\n",
        "# Add horizontal lines for the average return of the expert and random policy\n",
        "plt.axhline(y=average_return_expert, color='r', linestyle='--', label='Expert Average Return')\n",
        "plt.axhline(y=average_return_random, color='g', linestyle='--', label='Random Average Return')\n",
        "\n",
        "# Set x-label to an empty string\n",
        "plt.xlabel('')\n",
        "\n",
        "# Add a title to the plot\n",
        "plt.title('Average Return for data size 500')\n",
        "\n",
        "# Add a legend to the plot\n",
        "plt.legend()\n",
        "\n",
        "plt.show()"
      ],
      "metadata": {
        "colab": {
          "base_uri": "https://localhost:8080/",
          "height": 456
        },
        "id": "9acmP2aR1Ixs",
        "outputId": "7d9f3dc0-d105-47cc-b5f3-50a97fd0a28e"
      },
      "execution_count": 203,
      "outputs": [
        {
          "output_type": "display_data",
          "data": {
            "text/plain": [
              "<Figure size 1400x500 with 1 Axes>"
            ],
            "image/png": "[encoded data removed]"
          },
          "metadata": {}
        }
      ]
    },
    {
      "cell_type": "markdown",
      "source": [
        "# Report"
      ],
      "metadata": {
        "id": "ziFgcQwQPkPU"
      }
    },
    {
      "cell_type": "markdown",
      "source": [
        "\n",
        "\\\n",
        "We implemented two algorithms to solve the cart pole problem. The first was a logistic regression perceptron to imitate the cart enviroment. The second was an on-policy Q-learning implementation. The two implementations were tested with nine datasets.  \n",
        "\n",
        "The datasets were divided into three sizes and compositions. The sizes were 100, 250, and 500 episodes. The three compositions were drawn from (1) an expert agent, the greedy Q-learning policy, (2) a random agent, and a (3) a 50-50 split of random and expert.\n",
        "\n",
        "\n",
        "* The stopping condition for both algorithms was the built in 'done' value returned from the step() method of the cart-pole enviroment.\n",
        "\n",
        "\n",
        "* The agents run with random data performed the worst, and agents with expert data the best. The surprising result was the mixed data performed almost as well as the expert data. From this, we conclude that both algorithms, fitted Q-learning, are quite robust to noise in the data. This noise is in the form of exploration, or random actions. We can conclude that fitted Q learning is a viable algorithm to apply when our dataset contains a large amount of exploration, or noisy, data.\n",
        "\n",
        "\n",
        "\n",
        "\n",
        "* With the increase of dataset size, we have multiple training examples to train the model on. Hence the performance is better for dataset size 500 comparing to dataset 250 and 100. This is conveyed from the horizontal lines plotted for the different dataset sizes for the expert and random policies above.\n",
        "\n",
        "* The algorithms did slightly outperform the policies on which they were trained on for mixed and expert, but were about the same for the random policy.\n",
        "\n",
        "\n",
        "* Fitted q learning with learning rate 0.001 has reached the maximum average rewards for the three sizes of datasets under three different conditions.\n",
        "\n",
        "* For logistic regression algorithm, C=0.01 has also outperformed C=0.1.\n",
        "\n",
        "* The expert policy outperformed the two other policies ( mixed and random) for both algorithms which is certainly what we expected.\n",
        "\n",
        "\n",
        "* The stopping condition for the training of fitted q learning algorithm was built upon the Mean squared error. The idea is to monitor the MSE between the predicted Q-values and the target Q-values during the training process. During the training process, the agent updates its Q-values using the current estimate of the target Q-values. The goal is to minimize the difference between the predicted Q-values and the target Q-values. If the MSE between the predicted and target Q-values stops decreasing or become stable, it indicates that the algorithm has reached a plateau or is overfitting the data. Therefore, we decided to stop the training.\n",
        "\n"
      ],
      "metadata": {
        "id": "ge1kAioiPtZg"
      }
    },
    {
      "cell_type": "markdown",
      "source": [
        "# MLP"
      ],
      "metadata": {
        "id": "Dt51exh7wX6-"
      }
    },
    {
      "cell_type": "code",
      "source": [
        "X = np.vstack([np.hstack((t[0])) for episode in random_dataset100 for t in episode])\n",
        "y = np.hstack([t[1] for episode in random_dataset100 for t in episode])"
      ],
      "metadata": {
        "colab": {
          "base_uri": "https://localhost:8080/"
        },
        "outputId": "24586781-3acb-4059-aa54-2205daefa637",
        "id": "pf1SSjRuwds2"
      },
      "execution_count": 171,
      "outputs": [
        {
          "output_type": "stream",
          "name": "stderr",
          "text": [
            "/usr/local/lib/python3.9/dist-packages/ipykernel/ipkernel.py:283: DeprecationWarning: `should_run_async` will not call `transform_cell` automatically in the future. Please pass the result to `transformed_cell` argument and any exception that happen during thetransform in `preprocessing_exc_tuple` in IPython 7.17 and above.\n",
            "  and should_run_async(code)\n"
          ]
        }
      ]
    },
    {
      "cell_type": "code",
      "source": [
        "from sklearn.neural_network import MLPClassifier\n",
        "from sklearn.model_selection import train_test_split\n",
        "\n",
        "\n",
        "# Define the MLP model\n",
        "mlp = MLPClassifier(hidden_layer_sizes=(100,), activation='relu', solver='adam', max_iter=500)\n",
        "\n",
        "# Train the MLP model\n",
        "mlp.fit(X, y)\n",
        "\n"
      ],
      "metadata": {
        "colab": {
          "base_uri": "https://localhost:8080/",
          "height": 74
        },
        "id": "3zHgeX8bdn9X",
        "outputId": "55da0557-330c-4d9d-b10c-7c0e91db2789"
      },
      "execution_count": 172,
      "outputs": [
        {
          "output_type": "execute_result",
          "data": {
            "text/plain": [
              "MLPClassifier(max_iter=500)"
            ],
            "text/html": [
              "<style>#sk-container-id-4 {color: black;background-color: white;}#sk-container-id-4 pre{padding: 0;}#sk-container-id-4 div.sk-toggleable {background-color: white;}#sk-container-id-4 label.sk-toggleable__label {cursor: pointer;display: block;width: 100%;margin-bottom: 0;padding: 0.3em;box-sizing: border-box;text-align: center;}#sk-container-id-4 label.sk-toggleable__label-arrow:before {content: \"▸\";float: left;margin-right: 0.25em;color: #696969;}#sk-container-id-4 label.sk-toggleable__label-arrow:hover:before {color: black;}#sk-container-id-4 div.sk-estimator:hover label.sk-toggleable__label-arrow:before {color: black;}#sk-container-id-4 div.sk-toggleable__content {max-height: 0;max-width: 0;overflow: hidden;text-align: left;background-color: #f0f8ff;}#sk-container-id-4 div.sk-toggleable__content pre {margin: 0.2em;color: black;border-radius: 0.25em;background-color: #f0f8ff;}#sk-container-id-4 input.sk-toggleable__control:checked~div.sk-toggleable__content {max-height: 200px;max-width: 100%;overflow: auto;}#sk-container-id-4 input.sk-toggleable__control:checked~label.sk-toggleable__label-arrow:before {content: \"▾\";}#sk-container-id-4 div.sk-estimator input.sk-toggleable__control:checked~label.sk-toggleable__label {background-color: #d4ebff;}#sk-container-id-4 div.sk-label input.sk-toggleable__control:checked~label.sk-toggleable__label {background-color: #d4ebff;}#sk-container-id-4 input.sk-hidden--visually {border: 0;clip: rect(1px 1px 1px 1px);clip: rect(1px, 1px, 1px, 1px);height: 1px;margin: -1px;overflow: hidden;padding: 0;position: absolute;width: 1px;}#sk-container-id-4 div.sk-estimator {font-family: monospace;background-color: #f0f8ff;border: 1px dotted black;border-radius: 0.25em;box-sizing: border-box;margin-bottom: 0.5em;}#sk-container-id-4 div.sk-estimator:hover {background-color: #d4ebff;}#sk-container-id-4 div.sk-parallel-item::after {content: \"\";width: 100%;border-bottom: 1px solid gray;flex-grow: 1;}#sk-container-id-4 div.sk-label:hover label.sk-toggleable__label {background-color: #d4ebff;}#sk-container-id-4 div.sk-serial::before {content: \"\";position: absolute;border-left: 1px solid gray;box-sizing: border-box;top: 0;bottom: 0;left: 50%;z-index: 0;}#sk-container-id-4 div.sk-serial {display: flex;flex-direction: column;align-items: center;background-color: white;padding-right: 0.2em;padding-left: 0.2em;position: relative;}#sk-container-id-4 div.sk-item {position: relative;z-index: 1;}#sk-container-id-4 div.sk-parallel {display: flex;align-items: stretch;justify-content: center;background-color: white;position: relative;}#sk-container-id-4 div.sk-item::before, #sk-container-id-4 div.sk-parallel-item::before {content: \"\";position: absolute;border-left: 1px solid gray;box-sizing: border-box;top: 0;bottom: 0;left: 50%;z-index: -1;}#sk-container-id-4 div.sk-parallel-item {display: flex;flex-direction: column;z-index: 1;position: relative;background-color: white;}#sk-container-id-4 div.sk-parallel-item:first-child::after {align-self: flex-end;width: 50%;}#sk-container-id-4 div.sk-parallel-item:last-child::after {align-self: flex-start;width: 50%;}#sk-container-id-4 div.sk-parallel-item:only-child::after {width: 0;}#sk-container-id-4 div.sk-dashed-wrapped {border: 1px dashed gray;margin: 0 0.4em 0.5em 0.4em;box-sizing: border-box;padding-bottom: 0.4em;background-color: white;}#sk-container-id-4 div.sk-label label {font-family: monospace;font-weight: bold;display: inline-block;line-height: 1.2em;}#sk-container-id-4 div.sk-label-container {text-align: center;}#sk-container-id-4 div.sk-container {/* jupyter's `normalize.less` sets `[hidden] { display: none; }` but bootstrap.min.css set `[hidden] { display: none !important; }` so we also need the `!important` here to be able to override the default hidden behavior on the sphinx rendered scikit-learn.org. See: https://github.com/scikit-learn/scikit-learn/issues/21755 */display: inline-block !important;position: relative;}#sk-container-id-4 div.sk-text-repr-fallback {display: none;}</style><div id=\"sk-container-id-4\" class=\"sk-top-container\"><div class=\"sk-text-repr-fallback\"><pre>MLPClassifier(max_iter=500)</pre><b>In a Jupyter environment, please rerun this cell to show the HTML representation or trust the notebook. <br />On GitHub, the HTML representation is unable to render, please try loading this page with nbviewer.org.</b></div><div class=\"sk-container\" hidden><div class=\"sk-item\"><div class=\"sk-estimator sk-toggleable\"><input class=\"sk-toggleable__control sk-hidden--visually\" id=\"sk-estimator-id-4\" type=\"checkbox\" checked><label for=\"sk-estimator-id-4\" class=\"sk-toggleable__label sk-toggleable__label-arrow\">MLPClassifier</label><div class=\"sk-toggleable__content\"><pre>MLPClassifier(max_iter=500)</pre></div></div></div></div></div>"
            ]
          },
          "metadata": {},
          "execution_count": 172
        }
      ]
    },
    {
      "cell_type": "code",
      "source": [
        "num_episodes = 100\n",
        "episode_length = 200\n",
        "\n",
        "returns = []\n",
        "\n",
        "for i in range(num_episodes):\n",
        "    state,_= env.reset()\n",
        "    episode_return = 0\n",
        "    \n",
        "    for t in range(episode_length):\n",
        "        # Get the action from the policy estimator\n",
        "        action_probs = mlp.predict_proba(phi(state).reshape(1, -1))\n",
        "        action = np.argmax(action_probs)\n",
        "        \n",
        "        # Take the action and get the next state and reward\n",
        "        next_state, reward, done, info,_ = env.step(action)\n",
        "        \n",
        "        # Update the episode return and current state\n",
        "        episode_return += reward\n",
        "        state = next_state\n",
        "        \n",
        "        if done:\n",
        "            break\n",
        "            \n",
        "    returns.append(episode_return)\n",
        "average_return_random100=   sum(returns) / len(returns)\n",
        "# Print the average return over the 100 episodes\n",
        "print(\"Average Return: \",  sum(returns) / len(returns))\n",
        "\n",
        "\n"
      ],
      "metadata": {
        "colab": {
          "base_uri": "https://localhost:8080/"
        },
        "outputId": "9c398b58-97cf-4bb5-9a60-8d09abe766c0",
        "id": "uCdVMTemwds3"
      },
      "execution_count": 173,
      "outputs": [
        {
          "output_type": "stream",
          "name": "stderr",
          "text": [
            "/usr/local/lib/python3.9/dist-packages/ipykernel/ipkernel.py:283: DeprecationWarning: `should_run_async` will not call `transform_cell` automatically in the future. Please pass the result to `transformed_cell` argument and any exception that happen during thetransform in `preprocessing_exc_tuple` in IPython 7.17 and above.\n",
            "  and should_run_async(code)\n"
          ]
        },
        {
          "output_type": "stream",
          "name": "stdout",
          "text": [
            "Average Return:  21.29\n"
          ]
        }
      ]
    },
    {
      "cell_type": "code",
      "source": [],
      "metadata": {
        "colab": {
          "base_uri": "https://localhost:8080/"
        },
        "id": "W-6r93C4wgG-",
        "outputId": "72db74ce-02d9-4c4f-fbe2-0288720265c8"
      },
      "execution_count": 173,
      "outputs": [
        {
          "output_type": "stream",
          "name": "stderr",
          "text": [
            "/usr/local/lib/python3.9/dist-packages/ipykernel/ipkernel.py:283: DeprecationWarning: `should_run_async` will not call `transform_cell` automatically in the future. Please pass the result to `transformed_cell` argument and any exception that happen during thetransform in `preprocessing_exc_tuple` in IPython 7.17 and above.\n",
            "  and should_run_async(code)\n"
          ]
        }
      ]
    },
    {
      "cell_type": "code",
      "source": [
        "X = np.vstack([np.hstack((t[0])) for episode in random_dataset250 for t in episode])\n",
        "y = np.hstack([t[1] for episode in random_dataset250 for t in episode])"
      ],
      "metadata": {
        "id": "lkTG3MLtwhXZ"
      },
      "execution_count": 174,
      "outputs": []
    },
    {
      "cell_type": "code",
      "source": [
        "from sklearn.neural_network import MLPClassifier\n",
        "from sklearn.model_selection import train_test_split\n",
        "\n",
        "mlp = MLPClassifier(hidden_layer_sizes=(100,), activation='relu', solver='adam', max_iter=500)\n",
        "\n",
        "# Train the MLP model\n",
        "mlp.fit(X, y)\n",
        "\n"
      ],
      "metadata": {
        "colab": {
          "base_uri": "https://localhost:8080/",
          "height": 74
        },
        "outputId": "7d4cf931-ef01-4dae-dc0a-fc8be0286d08",
        "id": "XVn_a4fdwhXZ"
      },
      "execution_count": 175,
      "outputs": [
        {
          "output_type": "execute_result",
          "data": {
            "text/plain": [
              "MLPClassifier(max_iter=500)"
            ],
            "text/html": [
              "<style>#sk-container-id-5 {color: black;background-color: white;}#sk-container-id-5 pre{padding: 0;}#sk-container-id-5 div.sk-toggleable {background-color: white;}#sk-container-id-5 label.sk-toggleable__label {cursor: pointer;display: block;width: 100%;margin-bottom: 0;padding: 0.3em;box-sizing: border-box;text-align: center;}#sk-container-id-5 label.sk-toggleable__label-arrow:before {content: \"▸\";float: left;margin-right: 0.25em;color: #696969;}#sk-container-id-5 label.sk-toggleable__label-arrow:hover:before {color: black;}#sk-container-id-5 div.sk-estimator:hover label.sk-toggleable__label-arrow:before {color: black;}#sk-container-id-5 div.sk-toggleable__content {max-height: 0;max-width: 0;overflow: hidden;text-align: left;background-color: #f0f8ff;}#sk-container-id-5 div.sk-toggleable__content pre {margin: 0.2em;color: black;border-radius: 0.25em;background-color: #f0f8ff;}#sk-container-id-5 input.sk-toggleable__control:checked~div.sk-toggleable__content {max-height: 200px;max-width: 100%;overflow: auto;}#sk-container-id-5 input.sk-toggleable__control:checked~label.sk-toggleable__label-arrow:before {content: \"▾\";}#sk-container-id-5 div.sk-estimator input.sk-toggleable__control:checked~label.sk-toggleable__label {background-color: #d4ebff;}#sk-container-id-5 div.sk-label input.sk-toggleable__control:checked~label.sk-toggleable__label {background-color: #d4ebff;}#sk-container-id-5 input.sk-hidden--visually {border: 0;clip: rect(1px 1px 1px 1px);clip: rect(1px, 1px, 1px, 1px);height: 1px;margin: -1px;overflow: hidden;padding: 0;position: absolute;width: 1px;}#sk-container-id-5 div.sk-estimator {font-family: monospace;background-color: #f0f8ff;border: 1px dotted black;border-radius: 0.25em;box-sizing: border-box;margin-bottom: 0.5em;}#sk-container-id-5 div.sk-estimator:hover {background-color: #d4ebff;}#sk-container-id-5 div.sk-parallel-item::after {content: \"\";width: 100%;border-bottom: 1px solid gray;flex-grow: 1;}#sk-container-id-5 div.sk-label:hover label.sk-toggleable__label {background-color: #d4ebff;}#sk-container-id-5 div.sk-serial::before {content: \"\";position: absolute;border-left: 1px solid gray;box-sizing: border-box;top: 0;bottom: 0;left: 50%;z-index: 0;}#sk-container-id-5 div.sk-serial {display: flex;flex-direction: column;align-items: center;background-color: white;padding-right: 0.2em;padding-left: 0.2em;position: relative;}#sk-container-id-5 div.sk-item {position: relative;z-index: 1;}#sk-container-id-5 div.sk-parallel {display: flex;align-items: stretch;justify-content: center;background-color: white;position: relative;}#sk-container-id-5 div.sk-item::before, #sk-container-id-5 div.sk-parallel-item::before {content: \"\";position: absolute;border-left: 1px solid gray;box-sizing: border-box;top: 0;bottom: 0;left: 50%;z-index: -1;}#sk-container-id-5 div.sk-parallel-item {display: flex;flex-direction: column;z-index: 1;position: relative;background-color: white;}#sk-container-id-5 div.sk-parallel-item:first-child::after {align-self: flex-end;width: 50%;}#sk-container-id-5 div.sk-parallel-item:last-child::after {align-self: flex-start;width: 50%;}#sk-container-id-5 div.sk-parallel-item:only-child::after {width: 0;}#sk-container-id-5 div.sk-dashed-wrapped {border: 1px dashed gray;margin: 0 0.4em 0.5em 0.4em;box-sizing: border-box;padding-bottom: 0.4em;background-color: white;}#sk-container-id-5 div.sk-label label {font-family: monospace;font-weight: bold;display: inline-block;line-height: 1.2em;}#sk-container-id-5 div.sk-label-container {text-align: center;}#sk-container-id-5 div.sk-container {/* jupyter's `normalize.less` sets `[hidden] { display: none; }` but bootstrap.min.css set `[hidden] { display: none !important; }` so we also need the `!important` here to be able to override the default hidden behavior on the sphinx rendered scikit-learn.org. See: https://github.com/scikit-learn/scikit-learn/issues/21755 */display: inline-block !important;position: relative;}#sk-container-id-5 div.sk-text-repr-fallback {display: none;}</style><div id=\"sk-container-id-5\" class=\"sk-top-container\"><div class=\"sk-text-repr-fallback\"><pre>MLPClassifier(max_iter=500)</pre><b>In a Jupyter environment, please rerun this cell to show the HTML representation or trust the notebook. <br />On GitHub, the HTML representation is unable to render, please try loading this page with nbviewer.org.</b></div><div class=\"sk-container\" hidden><div class=\"sk-item\"><div class=\"sk-estimator sk-toggleable\"><input class=\"sk-toggleable__control sk-hidden--visually\" id=\"sk-estimator-id-5\" type=\"checkbox\" checked><label for=\"sk-estimator-id-5\" class=\"sk-toggleable__label sk-toggleable__label-arrow\">MLPClassifier</label><div class=\"sk-toggleable__content\"><pre>MLPClassifier(max_iter=500)</pre></div></div></div></div></div>"
            ]
          },
          "metadata": {},
          "execution_count": 175
        }
      ]
    },
    {
      "cell_type": "code",
      "source": [
        "num_episodes = 100\n",
        "episode_length = 200\n",
        "\n",
        "returns = []\n",
        "\n",
        "for i in range(num_episodes):\n",
        "    state,_= env.reset()\n",
        "    episode_return = 0\n",
        "    \n",
        "    for t in range(episode_length):\n",
        "        # Get the action from the policy estimator\n",
        "        action_probs = mlp.predict_proba(phi(state).reshape(1, -1))\n",
        "        action = np.argmax(action_probs)\n",
        "        \n",
        "        # Take the action and get the next state and reward\n",
        "        next_state, reward, done, info,_ = env.step(action)\n",
        "        \n",
        "        # Update the episode return and current state\n",
        "        episode_return += reward\n",
        "        state = next_state\n",
        "        \n",
        "        if done:\n",
        "            break\n",
        "            \n",
        "    returns.append(episode_return)\n",
        "average_return_random250=   sum(returns) / len(returns)\n",
        "# Print the average return over the 100 episodes\n",
        "print(\"Average Return: \",  sum(returns) / len(returns))\n",
        "\n",
        "\n"
      ],
      "metadata": {
        "colab": {
          "base_uri": "https://localhost:8080/"
        },
        "outputId": "47aae6f2-afd6-4d17-eb56-d5a63accf4cd",
        "id": "neqvQC35whXZ"
      },
      "execution_count": 176,
      "outputs": [
        {
          "output_type": "stream",
          "name": "stderr",
          "text": [
            "/usr/local/lib/python3.9/dist-packages/ipykernel/ipkernel.py:283: DeprecationWarning: `should_run_async` will not call `transform_cell` automatically in the future. Please pass the result to `transformed_cell` argument and any exception that happen during thetransform in `preprocessing_exc_tuple` in IPython 7.17 and above.\n",
            "  and should_run_async(code)\n"
          ]
        },
        {
          "output_type": "stream",
          "name": "stdout",
          "text": [
            "Average Return:  29.23\n"
          ]
        }
      ]
    },
    {
      "cell_type": "code",
      "source": [],
      "metadata": {
        "colab": {
          "base_uri": "https://localhost:8080/"
        },
        "id": "ZsPfKXTDwlNV",
        "outputId": "59bf454a-d6fb-4ec5-a304-417af51d7106"
      },
      "execution_count": 176,
      "outputs": [
        {
          "output_type": "stream",
          "name": "stderr",
          "text": [
            "/usr/local/lib/python3.9/dist-packages/ipykernel/ipkernel.py:283: DeprecationWarning: `should_run_async` will not call `transform_cell` automatically in the future. Please pass the result to `transformed_cell` argument and any exception that happen during thetransform in `preprocessing_exc_tuple` in IPython 7.17 and above.\n",
            "  and should_run_async(code)\n"
          ]
        }
      ]
    },
    {
      "cell_type": "code",
      "source": [
        "X = np.vstack([np.hstack((t[0])) for episode in random_dataset500 for t in episode])\n",
        "y = np.hstack([t[1] for episode in random_dataset500 for t in episode])"
      ],
      "metadata": {
        "id": "BM8Ui-jlwla-"
      },
      "execution_count": 177,
      "outputs": []
    },
    {
      "cell_type": "code",
      "source": [
        "from sklearn.neural_network import MLPClassifier\n",
        "from sklearn.model_selection import train_test_split\n",
        "\n",
        "\n",
        "# Define the MLP model\n",
        "mlp = MLPClassifier(hidden_layer_sizes=(100,), activation='relu', solver='adam', max_iter=500)\n",
        "\n",
        "# Train the MLP model\n",
        "mlp.fit(X, y)\n",
        "\n"
      ],
      "metadata": {
        "colab": {
          "base_uri": "https://localhost:8080/",
          "height": 74
        },
        "outputId": "1242ce3c-a204-4c3d-ae26-325a4fe62ede",
        "id": "8CcTi4Mywla_"
      },
      "execution_count": 178,
      "outputs": [
        {
          "output_type": "execute_result",
          "data": {
            "text/plain": [
              "MLPClassifier(max_iter=500)"
            ],
            "text/html": [
              "<style>#sk-container-id-6 {color: black;background-color: white;}#sk-container-id-6 pre{padding: 0;}#sk-container-id-6 div.sk-toggleable {background-color: white;}#sk-container-id-6 label.sk-toggleable__label {cursor: pointer;display: block;width: 100%;margin-bottom: 0;padding: 0.3em;box-sizing: border-box;text-align: center;}#sk-container-id-6 label.sk-toggleable__label-arrow:before {content: \"▸\";float: left;margin-right: 0.25em;color: #696969;}#sk-container-id-6 label.sk-toggleable__label-arrow:hover:before {color: black;}#sk-container-id-6 div.sk-estimator:hover label.sk-toggleable__label-arrow:before {color: black;}#sk-container-id-6 div.sk-toggleable__content {max-height: 0;max-width: 0;overflow: hidden;text-align: left;background-color: #f0f8ff;}#sk-container-id-6 div.sk-toggleable__content pre {margin: 0.2em;color: black;border-radius: 0.25em;background-color: #f0f8ff;}#sk-container-id-6 input.sk-toggleable__control:checked~div.sk-toggleable__content {max-height: 200px;max-width: 100%;overflow: auto;}#sk-container-id-6 input.sk-toggleable__control:checked~label.sk-toggleable__label-arrow:before {content: \"▾\";}#sk-container-id-6 div.sk-estimator input.sk-toggleable__control:checked~label.sk-toggleable__label {background-color: #d4ebff;}#sk-container-id-6 div.sk-label input.sk-toggleable__control:checked~label.sk-toggleable__label {background-color: #d4ebff;}#sk-container-id-6 input.sk-hidden--visually {border: 0;clip: rect(1px 1px 1px 1px);clip: rect(1px, 1px, 1px, 1px);height: 1px;margin: -1px;overflow: hidden;padding: 0;position: absolute;width: 1px;}#sk-container-id-6 div.sk-estimator {font-family: monospace;background-color: #f0f8ff;border: 1px dotted black;border-radius: 0.25em;box-sizing: border-box;margin-bottom: 0.5em;}#sk-container-id-6 div.sk-estimator:hover {background-color: #d4ebff;}#sk-container-id-6 div.sk-parallel-item::after {content: \"\";width: 100%;border-bottom: 1px solid gray;flex-grow: 1;}#sk-container-id-6 div.sk-label:hover label.sk-toggleable__label {background-color: #d4ebff;}#sk-container-id-6 div.sk-serial::before {content: \"\";position: absolute;border-left: 1px solid gray;box-sizing: border-box;top: 0;bottom: 0;left: 50%;z-index: 0;}#sk-container-id-6 div.sk-serial {display: flex;flex-direction: column;align-items: center;background-color: white;padding-right: 0.2em;padding-left: 0.2em;position: relative;}#sk-container-id-6 div.sk-item {position: relative;z-index: 1;}#sk-container-id-6 div.sk-parallel {display: flex;align-items: stretch;justify-content: center;background-color: white;position: relative;}#sk-container-id-6 div.sk-item::before, #sk-container-id-6 div.sk-parallel-item::before {content: \"\";position: absolute;border-left: 1px solid gray;box-sizing: border-box;top: 0;bottom: 0;left: 50%;z-index: -1;}#sk-container-id-6 div.sk-parallel-item {display: flex;flex-direction: column;z-index: 1;position: relative;background-color: white;}#sk-container-id-6 div.sk-parallel-item:first-child::after {align-self: flex-end;width: 50%;}#sk-container-id-6 div.sk-parallel-item:last-child::after {align-self: flex-start;width: 50%;}#sk-container-id-6 div.sk-parallel-item:only-child::after {width: 0;}#sk-container-id-6 div.sk-dashed-wrapped {border: 1px dashed gray;margin: 0 0.4em 0.5em 0.4em;box-sizing: border-box;padding-bottom: 0.4em;background-color: white;}#sk-container-id-6 div.sk-label label {font-family: monospace;font-weight: bold;display: inline-block;line-height: 1.2em;}#sk-container-id-6 div.sk-label-container {text-align: center;}#sk-container-id-6 div.sk-container {/* jupyter's `normalize.less` sets `[hidden] { display: none; }` but bootstrap.min.css set `[hidden] { display: none !important; }` so we also need the `!important` here to be able to override the default hidden behavior on the sphinx rendered scikit-learn.org. See: https://github.com/scikit-learn/scikit-learn/issues/21755 */display: inline-block !important;position: relative;}#sk-container-id-6 div.sk-text-repr-fallback {display: none;}</style><div id=\"sk-container-id-6\" class=\"sk-top-container\"><div class=\"sk-text-repr-fallback\"><pre>MLPClassifier(max_iter=500)</pre><b>In a Jupyter environment, please rerun this cell to show the HTML representation or trust the notebook. <br />On GitHub, the HTML representation is unable to render, please try loading this page with nbviewer.org.</b></div><div class=\"sk-container\" hidden><div class=\"sk-item\"><div class=\"sk-estimator sk-toggleable\"><input class=\"sk-toggleable__control sk-hidden--visually\" id=\"sk-estimator-id-6\" type=\"checkbox\" checked><label for=\"sk-estimator-id-6\" class=\"sk-toggleable__label sk-toggleable__label-arrow\">MLPClassifier</label><div class=\"sk-toggleable__content\"><pre>MLPClassifier(max_iter=500)</pre></div></div></div></div></div>"
            ]
          },
          "metadata": {},
          "execution_count": 178
        }
      ]
    },
    {
      "cell_type": "code",
      "source": [
        "num_episodes = 100\n",
        "episode_length = 200\n",
        "\n",
        "returns = []\n",
        "\n",
        "for i in range(num_episodes):\n",
        "    state,_= env.reset()\n",
        "    episode_return = 0\n",
        "    \n",
        "    for t in range(episode_length):\n",
        "        # Get the action from the policy estimator\n",
        "        action_probs = mlp.predict_proba(phi(state).reshape(1, -1))\n",
        "        action = np.argmax(action_probs)\n",
        "        \n",
        "        # Take the action and get the next state and reward\n",
        "        next_state, reward, done, info,_ = env.step(action)\n",
        "        \n",
        "        # Update the episode return and current state\n",
        "        episode_return += reward\n",
        "        state = next_state\n",
        "        \n",
        "        if done:\n",
        "            break\n",
        "            \n",
        "    returns.append(episode_return)\n",
        "average_return_random500=   sum(returns) / len(returns)\n",
        "# Print the average return over the 100 episodes\n",
        "print(\"Average Return: \",  sum(returns) / len(returns))\n",
        "\n",
        "\n"
      ],
      "metadata": {
        "colab": {
          "base_uri": "https://localhost:8080/"
        },
        "outputId": "a28a5c38-6955-44a3-9b26-daee80d09c6d",
        "id": "dMNy8OYKwla_"
      },
      "execution_count": 179,
      "outputs": [
        {
          "output_type": "stream",
          "name": "stderr",
          "text": [
            "/usr/local/lib/python3.9/dist-packages/ipykernel/ipkernel.py:283: DeprecationWarning: `should_run_async` will not call `transform_cell` automatically in the future. Please pass the result to `transformed_cell` argument and any exception that happen during thetransform in `preprocessing_exc_tuple` in IPython 7.17 and above.\n",
            "  and should_run_async(code)\n"
          ]
        },
        {
          "output_type": "stream",
          "name": "stdout",
          "text": [
            "Average Return:  60.81\n"
          ]
        }
      ]
    },
    {
      "cell_type": "code",
      "source": [],
      "metadata": {
        "colab": {
          "base_uri": "https://localhost:8080/"
        },
        "id": "HdFRRKFPwrXc",
        "outputId": "c7ddda67-90ac-4e79-ea14-57cead489515"
      },
      "execution_count": 179,
      "outputs": [
        {
          "output_type": "stream",
          "name": "stderr",
          "text": [
            "/usr/local/lib/python3.9/dist-packages/ipykernel/ipkernel.py:283: DeprecationWarning: `should_run_async` will not call `transform_cell` automatically in the future. Please pass the result to `transformed_cell` argument and any exception that happen during thetransform in `preprocessing_exc_tuple` in IPython 7.17 and above.\n",
            "  and should_run_async(code)\n"
          ]
        }
      ]
    },
    {
      "cell_type": "code",
      "source": [
        "from sklearn.neural_network import MLPClassifier\n",
        "from sklearn.model_selection import train_test_split\n",
        "\n",
        "X = np.vstack([np.hstack((t[0])) for episode in expert_dataset100 for t in episode])\n",
        "y = np.hstack([t[1] for episode in expert_dataset100 for t in episode])\n",
        "# Define the MLP model\n",
        "mlp = MLPClassifier(hidden_layer_sizes=(100,), activation='relu', solver='adam', max_iter=500)\n",
        "\n",
        "# Train the MLP model\n",
        "mlp.fit(X, y)\n",
        "\n"
      ],
      "metadata": {
        "colab": {
          "base_uri": "https://localhost:8080/",
          "height": 74
        },
        "outputId": "424e6a7d-a4e1-44de-e7bf-0543fc92e03a",
        "id": "j982wylgwr5h"
      },
      "execution_count": 180,
      "outputs": [
        {
          "output_type": "execute_result",
          "data": {
            "text/plain": [
              "MLPClassifier(max_iter=500)"
            ],
            "text/html": [
              "<style>#sk-container-id-7 {color: black;background-color: white;}#sk-container-id-7 pre{padding: 0;}#sk-container-id-7 div.sk-toggleable {background-color: white;}#sk-container-id-7 label.sk-toggleable__label {cursor: pointer;display: block;width: 100%;margin-bottom: 0;padding: 0.3em;box-sizing: border-box;text-align: center;}#sk-container-id-7 label.sk-toggleable__label-arrow:before {content: \"▸\";float: left;margin-right: 0.25em;color: #696969;}#sk-container-id-7 label.sk-toggleable__label-arrow:hover:before {color: black;}#sk-container-id-7 div.sk-estimator:hover label.sk-toggleable__label-arrow:before {color: black;}#sk-container-id-7 div.sk-toggleable__content {max-height: 0;max-width: 0;overflow: hidden;text-align: left;background-color: #f0f8ff;}#sk-container-id-7 div.sk-toggleable__content pre {margin: 0.2em;color: black;border-radius: 0.25em;background-color: #f0f8ff;}#sk-container-id-7 input.sk-toggleable__control:checked~div.sk-toggleable__content {max-height: 200px;max-width: 100%;overflow: auto;}#sk-container-id-7 input.sk-toggleable__control:checked~label.sk-toggleable__label-arrow:before {content: \"▾\";}#sk-container-id-7 div.sk-estimator input.sk-toggleable__control:checked~label.sk-toggleable__label {background-color: #d4ebff;}#sk-container-id-7 div.sk-label input.sk-toggleable__control:checked~label.sk-toggleable__label {background-color: #d4ebff;}#sk-container-id-7 input.sk-hidden--visually {border: 0;clip: rect(1px 1px 1px 1px);clip: rect(1px, 1px, 1px, 1px);height: 1px;margin: -1px;overflow: hidden;padding: 0;position: absolute;width: 1px;}#sk-container-id-7 div.sk-estimator {font-family: monospace;background-color: #f0f8ff;border: 1px dotted black;border-radius: 0.25em;box-sizing: border-box;margin-bottom: 0.5em;}#sk-container-id-7 div.sk-estimator:hover {background-color: #d4ebff;}#sk-container-id-7 div.sk-parallel-item::after {content: \"\";width: 100%;border-bottom: 1px solid gray;flex-grow: 1;}#sk-container-id-7 div.sk-label:hover label.sk-toggleable__label {background-color: #d4ebff;}#sk-container-id-7 div.sk-serial::before {content: \"\";position: absolute;border-left: 1px solid gray;box-sizing: border-box;top: 0;bottom: 0;left: 50%;z-index: 0;}#sk-container-id-7 div.sk-serial {display: flex;flex-direction: column;align-items: center;background-color: white;padding-right: 0.2em;padding-left: 0.2em;position: relative;}#sk-container-id-7 div.sk-item {position: relative;z-index: 1;}#sk-container-id-7 div.sk-parallel {display: flex;align-items: stretch;justify-content: center;background-color: white;position: relative;}#sk-container-id-7 div.sk-item::before, #sk-container-id-7 div.sk-parallel-item::before {content: \"\";position: absolute;border-left: 1px solid gray;box-sizing: border-box;top: 0;bottom: 0;left: 50%;z-index: -1;}#sk-container-id-7 div.sk-parallel-item {display: flex;flex-direction: column;z-index: 1;position: relative;background-color: white;}#sk-container-id-7 div.sk-parallel-item:first-child::after {align-self: flex-end;width: 50%;}#sk-container-id-7 div.sk-parallel-item:last-child::after {align-self: flex-start;width: 50%;}#sk-container-id-7 div.sk-parallel-item:only-child::after {width: 0;}#sk-container-id-7 div.sk-dashed-wrapped {border: 1px dashed gray;margin: 0 0.4em 0.5em 0.4em;box-sizing: border-box;padding-bottom: 0.4em;background-color: white;}#sk-container-id-7 div.sk-label label {font-family: monospace;font-weight: bold;display: inline-block;line-height: 1.2em;}#sk-container-id-7 div.sk-label-container {text-align: center;}#sk-container-id-7 div.sk-container {/* jupyter's `normalize.less` sets `[hidden] { display: none; }` but bootstrap.min.css set `[hidden] { display: none !important; }` so we also need the `!important` here to be able to override the default hidden behavior on the sphinx rendered scikit-learn.org. See: https://github.com/scikit-learn/scikit-learn/issues/21755 */display: inline-block !important;position: relative;}#sk-container-id-7 div.sk-text-repr-fallback {display: none;}</style><div id=\"sk-container-id-7\" class=\"sk-top-container\"><div class=\"sk-text-repr-fallback\"><pre>MLPClassifier(max_iter=500)</pre><b>In a Jupyter environment, please rerun this cell to show the HTML representation or trust the notebook. <br />On GitHub, the HTML representation is unable to render, please try loading this page with nbviewer.org.</b></div><div class=\"sk-container\" hidden><div class=\"sk-item\"><div class=\"sk-estimator sk-toggleable\"><input class=\"sk-toggleable__control sk-hidden--visually\" id=\"sk-estimator-id-7\" type=\"checkbox\" checked><label for=\"sk-estimator-id-7\" class=\"sk-toggleable__label sk-toggleable__label-arrow\">MLPClassifier</label><div class=\"sk-toggleable__content\"><pre>MLPClassifier(max_iter=500)</pre></div></div></div></div></div>"
            ]
          },
          "metadata": {},
          "execution_count": 180
        }
      ]
    },
    {
      "cell_type": "code",
      "source": [
        "num_episodes = 100\n",
        "episode_length = 200\n",
        "\n",
        "returns = []\n",
        "\n",
        "for i in range(num_episodes):\n",
        "    state,_= env.reset()\n",
        "    episode_return = 0\n",
        "    \n",
        "    for t in range(episode_length):\n",
        "        # Get the action from the policy estimator\n",
        "        action_probs = mlp.predict_proba(phi(state).reshape(1, -1))\n",
        "        action = np.argmax(action_probs)\n",
        "        \n",
        "        # Take the action and get the next state and reward\n",
        "        next_state, reward, done, info,_ = env.step(action)\n",
        "        \n",
        "        # Update the episode return and current state\n",
        "        episode_return += reward\n",
        "        state = next_state\n",
        "        \n",
        "        if done:\n",
        "            break\n",
        "            \n",
        "    returns.append(episode_return)\n",
        "average_return_expert100=   sum(returns) / len(returns)\n",
        "# Print the average return over the 100 episodes\n",
        "print(\"Average Return: \",  sum(returns) / len(returns))\n",
        "\n",
        "\n"
      ],
      "metadata": {
        "colab": {
          "base_uri": "https://localhost:8080/"
        },
        "outputId": "fe67bb47-df73-4c38-9673-43bd187a7475",
        "id": "q_DZQmsrwr5h"
      },
      "execution_count": 181,
      "outputs": [
        {
          "output_type": "stream",
          "name": "stderr",
          "text": [
            "/usr/local/lib/python3.9/dist-packages/ipykernel/ipkernel.py:283: DeprecationWarning: `should_run_async` will not call `transform_cell` automatically in the future. Please pass the result to `transformed_cell` argument and any exception that happen during thetransform in `preprocessing_exc_tuple` in IPython 7.17 and above.\n",
            "  and should_run_async(code)\n"
          ]
        },
        {
          "output_type": "stream",
          "name": "stdout",
          "text": [
            "Average Return:  124.92\n"
          ]
        }
      ]
    },
    {
      "cell_type": "code",
      "source": [],
      "metadata": {
        "colab": {
          "base_uri": "https://localhost:8080/"
        },
        "id": "SRfxBXeTw2es",
        "outputId": "c85c8311-2961-4635-9c74-9ad92e128939"
      },
      "execution_count": 181,
      "outputs": [
        {
          "output_type": "stream",
          "name": "stderr",
          "text": [
            "/usr/local/lib/python3.9/dist-packages/ipykernel/ipkernel.py:283: DeprecationWarning: `should_run_async` will not call `transform_cell` automatically in the future. Please pass the result to `transformed_cell` argument and any exception that happen during thetransform in `preprocessing_exc_tuple` in IPython 7.17 and above.\n",
            "  and should_run_async(code)\n"
          ]
        }
      ]
    },
    {
      "cell_type": "code",
      "source": [
        "from sklearn.neural_network import MLPClassifier\n",
        "from sklearn.model_selection import train_test_split\n",
        "\n",
        "X = np.vstack([np.hstack((t[0])) for episode in expert_dataset250 for t in episode])\n",
        "y = np.hstack([t[1] for episode in expert_dataset250 for t in episode])\n",
        "# Define the MLP model\n",
        "mlp = MLPClassifier(hidden_layer_sizes=(100,), activation='relu', solver='adam', max_iter=500)\n",
        "\n",
        "# Train the MLP model\n",
        "mlp.fit(X, y)\n",
        "\n"
      ],
      "metadata": {
        "colab": {
          "base_uri": "https://localhost:8080/",
          "height": 74
        },
        "outputId": "0c0b5872-79d9-47f1-ae41-e427997a5a9c",
        "id": "2SKqrmZkw3UK"
      },
      "execution_count": 182,
      "outputs": [
        {
          "output_type": "execute_result",
          "data": {
            "text/plain": [
              "MLPClassifier(max_iter=500)"
            ],
            "text/html": [
              "<style>#sk-container-id-8 {color: black;background-color: white;}#sk-container-id-8 pre{padding: 0;}#sk-container-id-8 div.sk-toggleable {background-color: white;}#sk-container-id-8 label.sk-toggleable__label {cursor: pointer;display: block;width: 100%;margin-bottom: 0;padding: 0.3em;box-sizing: border-box;text-align: center;}#sk-container-id-8 label.sk-toggleable__label-arrow:before {content: \"▸\";float: left;margin-right: 0.25em;color: #696969;}#sk-container-id-8 label.sk-toggleable__label-arrow:hover:before {color: black;}#sk-container-id-8 div.sk-estimator:hover label.sk-toggleable__label-arrow:before {color: black;}#sk-container-id-8 div.sk-toggleable__content {max-height: 0;max-width: 0;overflow: hidden;text-align: left;background-color: #f0f8ff;}#sk-container-id-8 div.sk-toggleable__content pre {margin: 0.2em;color: black;border-radius: 0.25em;background-color: #f0f8ff;}#sk-container-id-8 input.sk-toggleable__control:checked~div.sk-toggleable__content {max-height: 200px;max-width: 100%;overflow: auto;}#sk-container-id-8 input.sk-toggleable__control:checked~label.sk-toggleable__label-arrow:before {content: \"▾\";}#sk-container-id-8 div.sk-estimator input.sk-toggleable__control:checked~label.sk-toggleable__label {background-color: #d4ebff;}#sk-container-id-8 div.sk-label input.sk-toggleable__control:checked~label.sk-toggleable__label {background-color: #d4ebff;}#sk-container-id-8 input.sk-hidden--visually {border: 0;clip: rect(1px 1px 1px 1px);clip: rect(1px, 1px, 1px, 1px);height: 1px;margin: -1px;overflow: hidden;padding: 0;position: absolute;width: 1px;}#sk-container-id-8 div.sk-estimator {font-family: monospace;background-color: #f0f8ff;border: 1px dotted black;border-radius: 0.25em;box-sizing: border-box;margin-bottom: 0.5em;}#sk-container-id-8 div.sk-estimator:hover {background-color: #d4ebff;}#sk-container-id-8 div.sk-parallel-item::after {content: \"\";width: 100%;border-bottom: 1px solid gray;flex-grow: 1;}#sk-container-id-8 div.sk-label:hover label.sk-toggleable__label {background-color: #d4ebff;}#sk-container-id-8 div.sk-serial::before {content: \"\";position: absolute;border-left: 1px solid gray;box-sizing: border-box;top: 0;bottom: 0;left: 50%;z-index: 0;}#sk-container-id-8 div.sk-serial {display: flex;flex-direction: column;align-items: center;background-color: white;padding-right: 0.2em;padding-left: 0.2em;position: relative;}#sk-container-id-8 div.sk-item {position: relative;z-index: 1;}#sk-container-id-8 div.sk-parallel {display: flex;align-items: stretch;justify-content: center;background-color: white;position: relative;}#sk-container-id-8 div.sk-item::before, #sk-container-id-8 div.sk-parallel-item::before {content: \"\";position: absolute;border-left: 1px solid gray;box-sizing: border-box;top: 0;bottom: 0;left: 50%;z-index: -1;}#sk-container-id-8 div.sk-parallel-item {display: flex;flex-direction: column;z-index: 1;position: relative;background-color: white;}#sk-container-id-8 div.sk-parallel-item:first-child::after {align-self: flex-end;width: 50%;}#sk-container-id-8 div.sk-parallel-item:last-child::after {align-self: flex-start;width: 50%;}#sk-container-id-8 div.sk-parallel-item:only-child::after {width: 0;}#sk-container-id-8 div.sk-dashed-wrapped {border: 1px dashed gray;margin: 0 0.4em 0.5em 0.4em;box-sizing: border-box;padding-bottom: 0.4em;background-color: white;}#sk-container-id-8 div.sk-label label {font-family: monospace;font-weight: bold;display: inline-block;line-height: 1.2em;}#sk-container-id-8 div.sk-label-container {text-align: center;}#sk-container-id-8 div.sk-container {/* jupyter's `normalize.less` sets `[hidden] { display: none; }` but bootstrap.min.css set `[hidden] { display: none !important; }` so we also need the `!important` here to be able to override the default hidden behavior on the sphinx rendered scikit-learn.org. See: https://github.com/scikit-learn/scikit-learn/issues/21755 */display: inline-block !important;position: relative;}#sk-container-id-8 div.sk-text-repr-fallback {display: none;}</style><div id=\"sk-container-id-8\" class=\"sk-top-container\"><div class=\"sk-text-repr-fallback\"><pre>MLPClassifier(max_iter=500)</pre><b>In a Jupyter environment, please rerun this cell to show the HTML representation or trust the notebook. <br />On GitHub, the HTML representation is unable to render, please try loading this page with nbviewer.org.</b></div><div class=\"sk-container\" hidden><div class=\"sk-item\"><div class=\"sk-estimator sk-toggleable\"><input class=\"sk-toggleable__control sk-hidden--visually\" id=\"sk-estimator-id-8\" type=\"checkbox\" checked><label for=\"sk-estimator-id-8\" class=\"sk-toggleable__label sk-toggleable__label-arrow\">MLPClassifier</label><div class=\"sk-toggleable__content\"><pre>MLPClassifier(max_iter=500)</pre></div></div></div></div></div>"
            ]
          },
          "metadata": {},
          "execution_count": 182
        }
      ]
    },
    {
      "cell_type": "code",
      "source": [
        "num_episodes = 100\n",
        "episode_length = 200\n",
        "\n",
        "returns = []\n",
        "\n",
        "for i in range(num_episodes):\n",
        "    state,_= env.reset()\n",
        "    episode_return = 0\n",
        "    \n",
        "    for t in range(episode_length):\n",
        "        # Get the action from the policy estimator\n",
        "        action_probs = mlp.predict_proba(phi(state).reshape(1, -1))\n",
        "        action = np.argmax(action_probs)\n",
        "        \n",
        "        # Take the action and get the next state and reward\n",
        "        next_state, reward, done, info,_ = env.step(action)\n",
        "        \n",
        "        # Update the episode return and current state\n",
        "        episode_return += reward\n",
        "        state = next_state\n",
        "        \n",
        "        if done:\n",
        "            break\n",
        "            \n",
        "    returns.append(episode_return)\n",
        "average_return_expert250=   sum(returns) / len(returns)\n",
        "# Print the average return over the 100 episodes\n",
        "print(\"Average Return: \",  sum(returns) / len(returns))\n",
        "\n",
        "\n"
      ],
      "metadata": {
        "colab": {
          "base_uri": "https://localhost:8080/"
        },
        "outputId": "00136dfa-a16e-41d3-f434-049828ecbb92",
        "id": "R1KdG7gww3UK"
      },
      "execution_count": 183,
      "outputs": [
        {
          "output_type": "stream",
          "name": "stderr",
          "text": [
            "/usr/local/lib/python3.9/dist-packages/ipykernel/ipkernel.py:283: DeprecationWarning: `should_run_async` will not call `transform_cell` automatically in the future. Please pass the result to `transformed_cell` argument and any exception that happen during thetransform in `preprocessing_exc_tuple` in IPython 7.17 and above.\n",
            "  and should_run_async(code)\n"
          ]
        },
        {
          "output_type": "stream",
          "name": "stdout",
          "text": [
            "Average Return:  182.05\n"
          ]
        }
      ]
    },
    {
      "cell_type": "code",
      "source": [],
      "metadata": {
        "colab": {
          "base_uri": "https://localhost:8080/"
        },
        "id": "S6le1o6Lw8eO",
        "outputId": "798c133c-1ec3-4c52-b53e-9a48265cb1dc"
      },
      "execution_count": 183,
      "outputs": [
        {
          "output_type": "stream",
          "name": "stderr",
          "text": [
            "/usr/local/lib/python3.9/dist-packages/ipykernel/ipkernel.py:283: DeprecationWarning: `should_run_async` will not call `transform_cell` automatically in the future. Please pass the result to `transformed_cell` argument and any exception that happen during thetransform in `preprocessing_exc_tuple` in IPython 7.17 and above.\n",
            "  and should_run_async(code)\n"
          ]
        }
      ]
    },
    {
      "cell_type": "code",
      "source": [
        "X = np.vstack([np.hstack((t[0])) for episode in expert_dataset500 for t in episode])\n",
        "y = np.hstack([t[1] for episode in expert_dataset500 for t in episode])"
      ],
      "metadata": {
        "id": "VQXhvkHww8rM"
      },
      "execution_count": 184,
      "outputs": []
    },
    {
      "cell_type": "code",
      "source": [
        "from sklearn.neural_network import MLPClassifier\n",
        "from sklearn.model_selection import train_test_split\n",
        "\n",
        "\n",
        "# Define the MLP model\n",
        "mlp = MLPClassifier(hidden_layer_sizes=(100,), activation='relu', solver='adam', max_iter=500)\n",
        "\n",
        "# Train the MLP model\n",
        "mlp.fit(X, y)\n",
        "\n"
      ],
      "metadata": {
        "colab": {
          "base_uri": "https://localhost:8080/",
          "height": 74
        },
        "outputId": "00df25a2-a1a2-4832-ca09-dbe47a77534b",
        "id": "tvO4Kmexw8rN"
      },
      "execution_count": 185,
      "outputs": [
        {
          "output_type": "execute_result",
          "data": {
            "text/plain": [
              "MLPClassifier(max_iter=500)"
            ],
            "text/html": [
              "<style>#sk-container-id-9 {color: black;background-color: white;}#sk-container-id-9 pre{padding: 0;}#sk-container-id-9 div.sk-toggleable {background-color: white;}#sk-container-id-9 label.sk-toggleable__label {cursor: pointer;display: block;width: 100%;margin-bottom: 0;padding: 0.3em;box-sizing: border-box;text-align: center;}#sk-container-id-9 label.sk-toggleable__label-arrow:before {content: \"▸\";float: left;margin-right: 0.25em;color: #696969;}#sk-container-id-9 label.sk-toggleable__label-arrow:hover:before {color: black;}#sk-container-id-9 div.sk-estimator:hover label.sk-toggleable__label-arrow:before {color: black;}#sk-container-id-9 div.sk-toggleable__content {max-height: 0;max-width: 0;overflow: hidden;text-align: left;background-color: #f0f8ff;}#sk-container-id-9 div.sk-toggleable__content pre {margin: 0.2em;color: black;border-radius: 0.25em;background-color: #f0f8ff;}#sk-container-id-9 input.sk-toggleable__control:checked~div.sk-toggleable__content {max-height: 200px;max-width: 100%;overflow: auto;}#sk-container-id-9 input.sk-toggleable__control:checked~label.sk-toggleable__label-arrow:before {content: \"▾\";}#sk-container-id-9 div.sk-estimator input.sk-toggleable__control:checked~label.sk-toggleable__label {background-color: #d4ebff;}#sk-container-id-9 div.sk-label input.sk-toggleable__control:checked~label.sk-toggleable__label {background-color: #d4ebff;}#sk-container-id-9 input.sk-hidden--visually {border: 0;clip: rect(1px 1px 1px 1px);clip: rect(1px, 1px, 1px, 1px);height: 1px;margin: -1px;overflow: hidden;padding: 0;position: absolute;width: 1px;}#sk-container-id-9 div.sk-estimator {font-family: monospace;background-color: #f0f8ff;border: 1px dotted black;border-radius: 0.25em;box-sizing: border-box;margin-bottom: 0.5em;}#sk-container-id-9 div.sk-estimator:hover {background-color: #d4ebff;}#sk-container-id-9 div.sk-parallel-item::after {content: \"\";width: 100%;border-bottom: 1px solid gray;flex-grow: 1;}#sk-container-id-9 div.sk-label:hover label.sk-toggleable__label {background-color: #d4ebff;}#sk-container-id-9 div.sk-serial::before {content: \"\";position: absolute;border-left: 1px solid gray;box-sizing: border-box;top: 0;bottom: 0;left: 50%;z-index: 0;}#sk-container-id-9 div.sk-serial {display: flex;flex-direction: column;align-items: center;background-color: white;padding-right: 0.2em;padding-left: 0.2em;position: relative;}#sk-container-id-9 div.sk-item {position: relative;z-index: 1;}#sk-container-id-9 div.sk-parallel {display: flex;align-items: stretch;justify-content: center;background-color: white;position: relative;}#sk-container-id-9 div.sk-item::before, #sk-container-id-9 div.sk-parallel-item::before {content: \"\";position: absolute;border-left: 1px solid gray;box-sizing: border-box;top: 0;bottom: 0;left: 50%;z-index: -1;}#sk-container-id-9 div.sk-parallel-item {display: flex;flex-direction: column;z-index: 1;position: relative;background-color: white;}#sk-container-id-9 div.sk-parallel-item:first-child::after {align-self: flex-end;width: 50%;}#sk-container-id-9 div.sk-parallel-item:last-child::after {align-self: flex-start;width: 50%;}#sk-container-id-9 div.sk-parallel-item:only-child::after {width: 0;}#sk-container-id-9 div.sk-dashed-wrapped {border: 1px dashed gray;margin: 0 0.4em 0.5em 0.4em;box-sizing: border-box;padding-bottom: 0.4em;background-color: white;}#sk-container-id-9 div.sk-label label {font-family: monospace;font-weight: bold;display: inline-block;line-height: 1.2em;}#sk-container-id-9 div.sk-label-container {text-align: center;}#sk-container-id-9 div.sk-container {/* jupyter's `normalize.less` sets `[hidden] { display: none; }` but bootstrap.min.css set `[hidden] { display: none !important; }` so we also need the `!important` here to be able to override the default hidden behavior on the sphinx rendered scikit-learn.org. See: https://github.com/scikit-learn/scikit-learn/issues/21755 */display: inline-block !important;position: relative;}#sk-container-id-9 div.sk-text-repr-fallback {display: none;}</style><div id=\"sk-container-id-9\" class=\"sk-top-container\"><div class=\"sk-text-repr-fallback\"><pre>MLPClassifier(max_iter=500)</pre><b>In a Jupyter environment, please rerun this cell to show the HTML representation or trust the notebook. <br />On GitHub, the HTML representation is unable to render, please try loading this page with nbviewer.org.</b></div><div class=\"sk-container\" hidden><div class=\"sk-item\"><div class=\"sk-estimator sk-toggleable\"><input class=\"sk-toggleable__control sk-hidden--visually\" id=\"sk-estimator-id-9\" type=\"checkbox\" checked><label for=\"sk-estimator-id-9\" class=\"sk-toggleable__label sk-toggleable__label-arrow\">MLPClassifier</label><div class=\"sk-toggleable__content\"><pre>MLPClassifier(max_iter=500)</pre></div></div></div></div></div>"
            ]
          },
          "metadata": {},
          "execution_count": 185
        }
      ]
    },
    {
      "cell_type": "code",
      "source": [
        "num_episodes = 100\n",
        "episode_length = 200\n",
        "\n",
        "returns = []\n",
        "\n",
        "for i in range(num_episodes):\n",
        "    state,_= env.reset()\n",
        "    episode_return = 0\n",
        "    \n",
        "    for t in range(episode_length):\n",
        "        # Get the action from the policy estimator\n",
        "        action_probs = mlp.predict_proba(phi(state).reshape(1, -1))\n",
        "        action = np.argmax(action_probs)\n",
        "        \n",
        "        # Take the action and get the next state and reward\n",
        "        next_state, reward, done, info,_ = env.step(action)\n",
        "        \n",
        "        # Update the episode return and current state\n",
        "        episode_return += reward\n",
        "        state = next_state\n",
        "        \n",
        "        if done:\n",
        "            break\n",
        "            \n",
        "    returns.append(episode_return)\n",
        "average_return_expert500=   sum(returns) / len(returns)\n",
        "# Print the average return over the 100 episodes\n",
        "print(\"Average Return: \",  sum(returns) / len(returns))\n",
        "\n",
        "\n"
      ],
      "metadata": {
        "colab": {
          "base_uri": "https://localhost:8080/"
        },
        "outputId": "a001a352-9912-40fc-84e6-66bc19ffcf60",
        "id": "SQ1yl6Lsw8rN"
      },
      "execution_count": 186,
      "outputs": [
        {
          "output_type": "stream",
          "name": "stderr",
          "text": [
            "/usr/local/lib/python3.9/dist-packages/ipykernel/ipkernel.py:283: DeprecationWarning: `should_run_async` will not call `transform_cell` automatically in the future. Please pass the result to `transformed_cell` argument and any exception that happen during thetransform in `preprocessing_exc_tuple` in IPython 7.17 and above.\n",
            "  and should_run_async(code)\n"
          ]
        },
        {
          "output_type": "stream",
          "name": "stdout",
          "text": [
            "Average Return:  185.53\n"
          ]
        }
      ]
    },
    {
      "cell_type": "code",
      "source": [],
      "metadata": {
        "colab": {
          "base_uri": "https://localhost:8080/"
        },
        "id": "Ayl9NaaAxDQV",
        "outputId": "2d150aa9-e632-41e4-d09e-f7dc2ab1bd5f"
      },
      "execution_count": 186,
      "outputs": [
        {
          "output_type": "stream",
          "name": "stderr",
          "text": [
            "/usr/local/lib/python3.9/dist-packages/ipykernel/ipkernel.py:283: DeprecationWarning: `should_run_async` will not call `transform_cell` automatically in the future. Please pass the result to `transformed_cell` argument and any exception that happen during thetransform in `preprocessing_exc_tuple` in IPython 7.17 and above.\n",
            "  and should_run_async(code)\n"
          ]
        }
      ]
    },
    {
      "cell_type": "code",
      "source": [
        "from sklearn.neural_network import MLPClassifier\n",
        "from sklearn.model_selection import train_test_split\n",
        "\n",
        "X = np.vstack([np.hstack((t[0])) for episode in mixed_data100 for t in episode])\n",
        "y = np.hstack([t[1] for episode in mixed_data100 for t in episode])\n",
        "# Define the MLP model\n",
        "mlp = MLPClassifier(hidden_layer_sizes=(100,), activation='relu', solver='adam', max_iter=500)\n",
        "\n",
        "# Train the MLP model\n",
        "mlp.fit(X, y)\n",
        "\n"
      ],
      "metadata": {
        "colab": {
          "base_uri": "https://localhost:8080/",
          "height": 74
        },
        "outputId": "420370e4-7bcd-4b85-a45f-2fdf48c170f8",
        "id": "tefrttOHxDe8"
      },
      "execution_count": 188,
      "outputs": [
        {
          "output_type": "execute_result",
          "data": {
            "text/plain": [
              "MLPClassifier(max_iter=500)"
            ],
            "text/html": [
              "<style>#sk-container-id-10 {color: black;background-color: white;}#sk-container-id-10 pre{padding: 0;}#sk-container-id-10 div.sk-toggleable {background-color: white;}#sk-container-id-10 label.sk-toggleable__label {cursor: pointer;display: block;width: 100%;margin-bottom: 0;padding: 0.3em;box-sizing: border-box;text-align: center;}#sk-container-id-10 label.sk-toggleable__label-arrow:before {content: \"▸\";float: left;margin-right: 0.25em;color: #696969;}#sk-container-id-10 label.sk-toggleable__label-arrow:hover:before {color: black;}#sk-container-id-10 div.sk-estimator:hover label.sk-toggleable__label-arrow:before {color: black;}#sk-container-id-10 div.sk-toggleable__content {max-height: 0;max-width: 0;overflow: hidden;text-align: left;background-color: #f0f8ff;}#sk-container-id-10 div.sk-toggleable__content pre {margin: 0.2em;color: black;border-radius: 0.25em;background-color: #f0f8ff;}#sk-container-id-10 input.sk-toggleable__control:checked~div.sk-toggleable__content {max-height: 200px;max-width: 100%;overflow: auto;}#sk-container-id-10 input.sk-toggleable__control:checked~label.sk-toggleable__label-arrow:before {content: \"▾\";}#sk-container-id-10 div.sk-estimator input.sk-toggleable__control:checked~label.sk-toggleable__label {background-color: #d4ebff;}#sk-container-id-10 div.sk-label input.sk-toggleable__control:checked~label.sk-toggleable__label {background-color: #d4ebff;}#sk-container-id-10 input.sk-hidden--visually {border: 0;clip: rect(1px 1px 1px 1px);clip: rect(1px, 1px, 1px, 1px);height: 1px;margin: -1px;overflow: hidden;padding: 0;position: absolute;width: 1px;}#sk-container-id-10 div.sk-estimator {font-family: monospace;background-color: #f0f8ff;border: 1px dotted black;border-radius: 0.25em;box-sizing: border-box;margin-bottom: 0.5em;}#sk-container-id-10 div.sk-estimator:hover {background-color: #d4ebff;}#sk-container-id-10 div.sk-parallel-item::after {content: \"\";width: 100%;border-bottom: 1px solid gray;flex-grow: 1;}#sk-container-id-10 div.sk-label:hover label.sk-toggleable__label {background-color: #d4ebff;}#sk-container-id-10 div.sk-serial::before {content: \"\";position: absolute;border-left: 1px solid gray;box-sizing: border-box;top: 0;bottom: 0;left: 50%;z-index: 0;}#sk-container-id-10 div.sk-serial {display: flex;flex-direction: column;align-items: center;background-color: white;padding-right: 0.2em;padding-left: 0.2em;position: relative;}#sk-container-id-10 div.sk-item {position: relative;z-index: 1;}#sk-container-id-10 div.sk-parallel {display: flex;align-items: stretch;justify-content: center;background-color: white;position: relative;}#sk-container-id-10 div.sk-item::before, #sk-container-id-10 div.sk-parallel-item::before {content: \"\";position: absolute;border-left: 1px solid gray;box-sizing: border-box;top: 0;bottom: 0;left: 50%;z-index: -1;}#sk-container-id-10 div.sk-parallel-item {display: flex;flex-direction: column;z-index: 1;position: relative;background-color: white;}#sk-container-id-10 div.sk-parallel-item:first-child::after {align-self: flex-end;width: 50%;}#sk-container-id-10 div.sk-parallel-item:last-child::after {align-self: flex-start;width: 50%;}#sk-container-id-10 div.sk-parallel-item:only-child::after {width: 0;}#sk-container-id-10 div.sk-dashed-wrapped {border: 1px dashed gray;margin: 0 0.4em 0.5em 0.4em;box-sizing: border-box;padding-bottom: 0.4em;background-color: white;}#sk-container-id-10 div.sk-label label {font-family: monospace;font-weight: bold;display: inline-block;line-height: 1.2em;}#sk-container-id-10 div.sk-label-container {text-align: center;}#sk-container-id-10 div.sk-container {/* jupyter's `normalize.less` sets `[hidden] { display: none; }` but bootstrap.min.css set `[hidden] { display: none !important; }` so we also need the `!important` here to be able to override the default hidden behavior on the sphinx rendered scikit-learn.org. See: https://github.com/scikit-learn/scikit-learn/issues/21755 */display: inline-block !important;position: relative;}#sk-container-id-10 div.sk-text-repr-fallback {display: none;}</style><div id=\"sk-container-id-10\" class=\"sk-top-container\"><div class=\"sk-text-repr-fallback\"><pre>MLPClassifier(max_iter=500)</pre><b>In a Jupyter environment, please rerun this cell to show the HTML representation or trust the notebook. <br />On GitHub, the HTML representation is unable to render, please try loading this page with nbviewer.org.</b></div><div class=\"sk-container\" hidden><div class=\"sk-item\"><div class=\"sk-estimator sk-toggleable\"><input class=\"sk-toggleable__control sk-hidden--visually\" id=\"sk-estimator-id-10\" type=\"checkbox\" checked><label for=\"sk-estimator-id-10\" class=\"sk-toggleable__label sk-toggleable__label-arrow\">MLPClassifier</label><div class=\"sk-toggleable__content\"><pre>MLPClassifier(max_iter=500)</pre></div></div></div></div></div>"
            ]
          },
          "metadata": {},
          "execution_count": 188
        }
      ]
    },
    {
      "cell_type": "code",
      "source": [
        "num_episodes = 100\n",
        "episode_length = 200\n",
        "\n",
        "returns = []\n",
        "\n",
        "for i in range(num_episodes):\n",
        "    state,_= env.reset()\n",
        "    episode_return = 0\n",
        "    \n",
        "    for t in range(episode_length):\n",
        "        # Get the action from the policy estimator\n",
        "        action_probs = mlp.predict_proba(phi(state).reshape(1, -1))\n",
        "        action = np.argmax(action_probs)\n",
        "        \n",
        "        # Take the action and get the next state and reward\n",
        "        next_state, reward, done, info,_ = env.step(action)\n",
        "        \n",
        "        # Update the episode return and current state\n",
        "        episode_return += reward\n",
        "        state = next_state\n",
        "        \n",
        "        if done:\n",
        "            break\n",
        "            \n",
        "    returns.append(episode_return)\n",
        "average_return_mixed100=   sum(returns) / len(returns)\n",
        "# Print the average return over the 100 episodes\n",
        "print(\"Average Return: \",  sum(returns) / len(returns))\n",
        "\n",
        "\n"
      ],
      "metadata": {
        "colab": {
          "base_uri": "https://localhost:8080/"
        },
        "outputId": "00103038-94b1-41cb-8355-7aeac1228457",
        "id": "NTIX9TrDxDe9"
      },
      "execution_count": 189,
      "outputs": [
        {
          "output_type": "stream",
          "name": "stderr",
          "text": [
            "/usr/local/lib/python3.9/dist-packages/ipykernel/ipkernel.py:283: DeprecationWarning: `should_run_async` will not call `transform_cell` automatically in the future. Please pass the result to `transformed_cell` argument and any exception that happen during thetransform in `preprocessing_exc_tuple` in IPython 7.17 and above.\n",
            "  and should_run_async(code)\n"
          ]
        },
        {
          "output_type": "stream",
          "name": "stdout",
          "text": [
            "Average Return:  183.97\n"
          ]
        }
      ]
    },
    {
      "cell_type": "code",
      "source": [],
      "metadata": {
        "id": "c835JpTRxHCp"
      },
      "execution_count": null,
      "outputs": []
    },
    {
      "cell_type": "code",
      "source": [
        "from sklearn.neural_network import MLPClassifier\n",
        "from sklearn.model_selection import train_test_split\n",
        "\n",
        "X = np.vstack([np.hstack((t[0])) for episode in mixed_data250 for t in episode])\n",
        "y = np.hstack([t[1] for episode in mixed_data250 for t in episode])\n",
        "# Define the MLP model\n",
        "mlp = MLPClassifier(hidden_layer_sizes=(100,), activation='relu', solver='adam', max_iter=500)\n",
        "\n",
        "# Train the MLP model\n",
        "mlp.fit(X, y)\n",
        "\n"
      ],
      "metadata": {
        "colab": {
          "base_uri": "https://localhost:8080/",
          "height": 74
        },
        "outputId": "66951270-f8d9-4d99-d409-e895001c0d63",
        "id": "_sOHSvfcxHN9"
      },
      "execution_count": 190,
      "outputs": [
        {
          "output_type": "execute_result",
          "data": {
            "text/plain": [
              "MLPClassifier(max_iter=500)"
            ],
            "text/html": [
              "<style>#sk-container-id-11 {color: black;background-color: white;}#sk-container-id-11 pre{padding: 0;}#sk-container-id-11 div.sk-toggleable {background-color: white;}#sk-container-id-11 label.sk-toggleable__label {cursor: pointer;display: block;width: 100%;margin-bottom: 0;padding: 0.3em;box-sizing: border-box;text-align: center;}#sk-container-id-11 label.sk-toggleable__label-arrow:before {content: \"▸\";float: left;margin-right: 0.25em;color: #696969;}#sk-container-id-11 label.sk-toggleable__label-arrow:hover:before {color: black;}#sk-container-id-11 div.sk-estimator:hover label.sk-toggleable__label-arrow:before {color: black;}#sk-container-id-11 div.sk-toggleable__content {max-height: 0;max-width: 0;overflow: hidden;text-align: left;background-color: #f0f8ff;}#sk-container-id-11 div.sk-toggleable__content pre {margin: 0.2em;color: black;border-radius: 0.25em;background-color: #f0f8ff;}#sk-container-id-11 input.sk-toggleable__control:checked~div.sk-toggleable__content {max-height: 200px;max-width: 100%;overflow: auto;}#sk-container-id-11 input.sk-toggleable__control:checked~label.sk-toggleable__label-arrow:before {content: \"▾\";}#sk-container-id-11 div.sk-estimator input.sk-toggleable__control:checked~label.sk-toggleable__label {background-color: #d4ebff;}#sk-container-id-11 div.sk-label input.sk-toggleable__control:checked~label.sk-toggleable__label {background-color: #d4ebff;}#sk-container-id-11 input.sk-hidden--visually {border: 0;clip: rect(1px 1px 1px 1px);clip: rect(1px, 1px, 1px, 1px);height: 1px;margin: -1px;overflow: hidden;padding: 0;position: absolute;width: 1px;}#sk-container-id-11 div.sk-estimator {font-family: monospace;background-color: #f0f8ff;border: 1px dotted black;border-radius: 0.25em;box-sizing: border-box;margin-bottom: 0.5em;}#sk-container-id-11 div.sk-estimator:hover {background-color: #d4ebff;}#sk-container-id-11 div.sk-parallel-item::after {content: \"\";width: 100%;border-bottom: 1px solid gray;flex-grow: 1;}#sk-container-id-11 div.sk-label:hover label.sk-toggleable__label {background-color: #d4ebff;}#sk-container-id-11 div.sk-serial::before {content: \"\";position: absolute;border-left: 1px solid gray;box-sizing: border-box;top: 0;bottom: 0;left: 50%;z-index: 0;}#sk-container-id-11 div.sk-serial {display: flex;flex-direction: column;align-items: center;background-color: white;padding-right: 0.2em;padding-left: 0.2em;position: relative;}#sk-container-id-11 div.sk-item {position: relative;z-index: 1;}#sk-container-id-11 div.sk-parallel {display: flex;align-items: stretch;justify-content: center;background-color: white;position: relative;}#sk-container-id-11 div.sk-item::before, #sk-container-id-11 div.sk-parallel-item::before {content: \"\";position: absolute;border-left: 1px solid gray;box-sizing: border-box;top: 0;bottom: 0;left: 50%;z-index: -1;}#sk-container-id-11 div.sk-parallel-item {display: flex;flex-direction: column;z-index: 1;position: relative;background-color: white;}#sk-container-id-11 div.sk-parallel-item:first-child::after {align-self: flex-end;width: 50%;}#sk-container-id-11 div.sk-parallel-item:last-child::after {align-self: flex-start;width: 50%;}#sk-container-id-11 div.sk-parallel-item:only-child::after {width: 0;}#sk-container-id-11 div.sk-dashed-wrapped {border: 1px dashed gray;margin: 0 0.4em 0.5em 0.4em;box-sizing: border-box;padding-bottom: 0.4em;background-color: white;}#sk-container-id-11 div.sk-label label {font-family: monospace;font-weight: bold;display: inline-block;line-height: 1.2em;}#sk-container-id-11 div.sk-label-container {text-align: center;}#sk-container-id-11 div.sk-container {/* jupyter's `normalize.less` sets `[hidden] { display: none; }` but bootstrap.min.css set `[hidden] { display: none !important; }` so we also need the `!important` here to be able to override the default hidden behavior on the sphinx rendered scikit-learn.org. See: https://github.com/scikit-learn/scikit-learn/issues/21755 */display: inline-block !important;position: relative;}#sk-container-id-11 div.sk-text-repr-fallback {display: none;}</style><div id=\"sk-container-id-11\" class=\"sk-top-container\"><div class=\"sk-text-repr-fallback\"><pre>MLPClassifier(max_iter=500)</pre><b>In a Jupyter environment, please rerun this cell to show the HTML representation or trust the notebook. <br />On GitHub, the HTML representation is unable to render, please try loading this page with nbviewer.org.</b></div><div class=\"sk-container\" hidden><div class=\"sk-item\"><div class=\"sk-estimator sk-toggleable\"><input class=\"sk-toggleable__control sk-hidden--visually\" id=\"sk-estimator-id-11\" type=\"checkbox\" checked><label for=\"sk-estimator-id-11\" class=\"sk-toggleable__label sk-toggleable__label-arrow\">MLPClassifier</label><div class=\"sk-toggleable__content\"><pre>MLPClassifier(max_iter=500)</pre></div></div></div></div></div>"
            ]
          },
          "metadata": {},
          "execution_count": 190
        }
      ]
    },
    {
      "cell_type": "code",
      "source": [
        "num_episodes = 100\n",
        "episode_length = 200\n",
        "\n",
        "returns = []\n",
        "\n",
        "for i in range(num_episodes):\n",
        "    state,_= env.reset()\n",
        "    episode_return = 0\n",
        "    \n",
        "    for t in range(episode_length):\n",
        "        # Get the action from the policy estimator\n",
        "        action_probs = mlp.predict_proba(phi(state).reshape(1, -1))\n",
        "        action = np.argmax(action_probs)\n",
        "        \n",
        "        # Take the action and get the next state and reward\n",
        "        next_state, reward, done, info,_ = env.step(action)\n",
        "        \n",
        "        # Update the episode return and current state\n",
        "        episode_return += reward\n",
        "        state = next_state\n",
        "        \n",
        "        if done:\n",
        "            break\n",
        "            \n",
        "    returns.append(episode_return)\n",
        "average_return_mixed250=   sum(returns) / len(returns)\n",
        "# Print the average return over the 100 episodes\n",
        "print(\"Average Return: \",  sum(returns) / len(returns))\n",
        "\n",
        "\n"
      ],
      "metadata": {
        "colab": {
          "base_uri": "https://localhost:8080/"
        },
        "outputId": "f27b76f6-f603-432e-fa86-f82a4129fb79",
        "id": "j-Qy8RrjxHN9"
      },
      "execution_count": 191,
      "outputs": [
        {
          "output_type": "stream",
          "name": "stderr",
          "text": [
            "/usr/local/lib/python3.9/dist-packages/ipykernel/ipkernel.py:283: DeprecationWarning: `should_run_async` will not call `transform_cell` automatically in the future. Please pass the result to `transformed_cell` argument and any exception that happen during thetransform in `preprocessing_exc_tuple` in IPython 7.17 and above.\n",
            "  and should_run_async(code)\n"
          ]
        },
        {
          "output_type": "stream",
          "name": "stdout",
          "text": [
            "Average Return:  163.92\n"
          ]
        }
      ]
    },
    {
      "cell_type": "code",
      "source": [],
      "metadata": {
        "colab": {
          "base_uri": "https://localhost:8080/"
        },
        "id": "6sl1sLvxxM5c",
        "outputId": "4f5c6f4b-9518-4f87-de57-b70e7fbd6834"
      },
      "execution_count": 191,
      "outputs": [
        {
          "output_type": "stream",
          "name": "stderr",
          "text": [
            "/usr/local/lib/python3.9/dist-packages/ipykernel/ipkernel.py:283: DeprecationWarning: `should_run_async` will not call `transform_cell` automatically in the future. Please pass the result to `transformed_cell` argument and any exception that happen during thetransform in `preprocessing_exc_tuple` in IPython 7.17 and above.\n",
            "  and should_run_async(code)\n"
          ]
        }
      ]
    },
    {
      "cell_type": "code",
      "source": [
        "from sklearn.neural_network import MLPClassifier\n",
        "from sklearn.model_selection import train_test_split\n",
        "\n",
        "X = np.vstack([np.hstack((t[0])) for episode in mixed_data500 for t in episode])\n",
        "y = np.hstack([t[1] for episode in mixed_data500 for t in episode])\n",
        "# Define the MLP model\n",
        "mlp = MLPClassifier(hidden_layer_sizes=(100,), activation='relu', solver='adam', max_iter=500)\n",
        "\n",
        "# Train the MLP model\n",
        "mlp.fit(X, y)\n",
        "\n"
      ],
      "metadata": {
        "colab": {
          "base_uri": "https://localhost:8080/",
          "height": 74
        },
        "outputId": "ed145ae1-add5-4c84-cd5a-2a6fd6829efb",
        "id": "BP6NXmP2xNIK"
      },
      "execution_count": 192,
      "outputs": [
        {
          "output_type": "execute_result",
          "data": {
            "text/plain": [
              "MLPClassifier(max_iter=500)"
            ],
            "text/html": [
              "<style>#sk-container-id-12 {color: black;background-color: white;}#sk-container-id-12 pre{padding: 0;}#sk-container-id-12 div.sk-toggleable {background-color: white;}#sk-container-id-12 label.sk-toggleable__label {cursor: pointer;display: block;width: 100%;margin-bottom: 0;padding: 0.3em;box-sizing: border-box;text-align: center;}#sk-container-id-12 label.sk-toggleable__label-arrow:before {content: \"▸\";float: left;margin-right: 0.25em;color: #696969;}#sk-container-id-12 label.sk-toggleable__label-arrow:hover:before {color: black;}#sk-container-id-12 div.sk-estimator:hover label.sk-toggleable__label-arrow:before {color: black;}#sk-container-id-12 div.sk-toggleable__content {max-height: 0;max-width: 0;overflow: hidden;text-align: left;background-color: #f0f8ff;}#sk-container-id-12 div.sk-toggleable__content pre {margin: 0.2em;color: black;border-radius: 0.25em;background-color: #f0f8ff;}#sk-container-id-12 input.sk-toggleable__control:checked~div.sk-toggleable__content {max-height: 200px;max-width: 100%;overflow: auto;}#sk-container-id-12 input.sk-toggleable__control:checked~label.sk-toggleable__label-arrow:before {content: \"▾\";}#sk-container-id-12 div.sk-estimator input.sk-toggleable__control:checked~label.sk-toggleable__label {background-color: #d4ebff;}#sk-container-id-12 div.sk-label input.sk-toggleable__control:checked~label.sk-toggleable__label {background-color: #d4ebff;}#sk-container-id-12 input.sk-hidden--visually {border: 0;clip: rect(1px 1px 1px 1px);clip: rect(1px, 1px, 1px, 1px);height: 1px;margin: -1px;overflow: hidden;padding: 0;position: absolute;width: 1px;}#sk-container-id-12 div.sk-estimator {font-family: monospace;background-color: #f0f8ff;border: 1px dotted black;border-radius: 0.25em;box-sizing: border-box;margin-bottom: 0.5em;}#sk-container-id-12 div.sk-estimator:hover {background-color: #d4ebff;}#sk-container-id-12 div.sk-parallel-item::after {content: \"\";width: 100%;border-bottom: 1px solid gray;flex-grow: 1;}#sk-container-id-12 div.sk-label:hover label.sk-toggleable__label {background-color: #d4ebff;}#sk-container-id-12 div.sk-serial::before {content: \"\";position: absolute;border-left: 1px solid gray;box-sizing: border-box;top: 0;bottom: 0;left: 50%;z-index: 0;}#sk-container-id-12 div.sk-serial {display: flex;flex-direction: column;align-items: center;background-color: white;padding-right: 0.2em;padding-left: 0.2em;position: relative;}#sk-container-id-12 div.sk-item {position: relative;z-index: 1;}#sk-container-id-12 div.sk-parallel {display: flex;align-items: stretch;justify-content: center;background-color: white;position: relative;}#sk-container-id-12 div.sk-item::before, #sk-container-id-12 div.sk-parallel-item::before {content: \"\";position: absolute;border-left: 1px solid gray;box-sizing: border-box;top: 0;bottom: 0;left: 50%;z-index: -1;}#sk-container-id-12 div.sk-parallel-item {display: flex;flex-direction: column;z-index: 1;position: relative;background-color: white;}#sk-container-id-12 div.sk-parallel-item:first-child::after {align-self: flex-end;width: 50%;}#sk-container-id-12 div.sk-parallel-item:last-child::after {align-self: flex-start;width: 50%;}#sk-container-id-12 div.sk-parallel-item:only-child::after {width: 0;}#sk-container-id-12 div.sk-dashed-wrapped {border: 1px dashed gray;margin: 0 0.4em 0.5em 0.4em;box-sizing: border-box;padding-bottom: 0.4em;background-color: white;}#sk-container-id-12 div.sk-label label {font-family: monospace;font-weight: bold;display: inline-block;line-height: 1.2em;}#sk-container-id-12 div.sk-label-container {text-align: center;}#sk-container-id-12 div.sk-container {/* jupyter's `normalize.less` sets `[hidden] { display: none; }` but bootstrap.min.css set `[hidden] { display: none !important; }` so we also need the `!important` here to be able to override the default hidden behavior on the sphinx rendered scikit-learn.org. See: https://github.com/scikit-learn/scikit-learn/issues/21755 */display: inline-block !important;position: relative;}#sk-container-id-12 div.sk-text-repr-fallback {display: none;}</style><div id=\"sk-container-id-12\" class=\"sk-top-container\"><div class=\"sk-text-repr-fallback\"><pre>MLPClassifier(max_iter=500)</pre><b>In a Jupyter environment, please rerun this cell to show the HTML representation or trust the notebook. <br />On GitHub, the HTML representation is unable to render, please try loading this page with nbviewer.org.</b></div><div class=\"sk-container\" hidden><div class=\"sk-item\"><div class=\"sk-estimator sk-toggleable\"><input class=\"sk-toggleable__control sk-hidden--visually\" id=\"sk-estimator-id-12\" type=\"checkbox\" checked><label for=\"sk-estimator-id-12\" class=\"sk-toggleable__label sk-toggleable__label-arrow\">MLPClassifier</label><div class=\"sk-toggleable__content\"><pre>MLPClassifier(max_iter=500)</pre></div></div></div></div></div>"
            ]
          },
          "metadata": {},
          "execution_count": 192
        }
      ]
    },
    {
      "cell_type": "code",
      "source": [
        "num_episodes = 100\n",
        "episode_length = 200\n",
        "\n",
        "returns = []\n",
        "\n",
        "for i in range(num_episodes):\n",
        "    state,_= env.reset()\n",
        "    episode_return = 0\n",
        "    \n",
        "    for t in range(episode_length):\n",
        "        # Get the action from the policy estimator\n",
        "        action_probs = mlp.predict_proba(phi(state).reshape(1, -1))\n",
        "        action = np.argmax(action_probs)\n",
        "        \n",
        "        # Take the action and get the next state and reward\n",
        "        next_state, reward, done, info,_ = env.step(action)\n",
        "        \n",
        "        # Update the episode return and current state\n",
        "        episode_return += reward\n",
        "        state = next_state\n",
        "        \n",
        "        if done:\n",
        "            break\n",
        "            \n",
        "    returns.append(episode_return)\n",
        "average_return_mixed500=   sum(returns) / len(returns)\n",
        "# Print the average return over the 100 episodes\n",
        "print(\"Average Return: \",  sum(returns) / len(returns))\n",
        "\n",
        "\n"
      ],
      "metadata": {
        "colab": {
          "base_uri": "https://localhost:8080/"
        },
        "outputId": "b1b7be0e-654b-4ddb-f6df-f356b00d53d4",
        "id": "qYDDJPElxNIK"
      },
      "execution_count": 193,
      "outputs": [
        {
          "output_type": "stream",
          "name": "stderr",
          "text": [
            "/usr/local/lib/python3.9/dist-packages/ipykernel/ipkernel.py:283: DeprecationWarning: `should_run_async` will not call `transform_cell` automatically in the future. Please pass the result to `transformed_cell` argument and any exception that happen during thetransform in `preprocessing_exc_tuple` in IPython 7.17 and above.\n",
            "  and should_run_async(code)\n"
          ]
        },
        {
          "output_type": "stream",
          "name": "stdout",
          "text": [
            "Average Return:  181.05\n"
          ]
        }
      ]
    },
    {
      "cell_type": "code",
      "source": [
        "import pandas as pd\n",
        "import matplotlib.pyplot as plt\n",
        "\n",
        "# Define the data\n",
        "avg = [average_return_random100,average_return_random250,average_return_random500,average_return_mixed100,average_return_mixed250,average_return_mixed500,average_return_expert100, average_return_expert250, average_return_expert500]\n",
        "data = ['Random data100','Random data250','Random data500','Mixed data100','Mixed data250','Mixed data500','Expertdata100', 'Expertdata250', 'Expertdata500']\n",
        "\n",
        "# Create a DataFrame from the data\n",
        "df = pd.DataFrame({'data': data, 'Average return': avg})\n",
        "\n",
        "# Calculate the standard deviation of the 'Average return' column\n",
        "std = df['Average return'].std()\n",
        "\n",
        "# Create the plot\n",
        "ax = df.plot.bar(x='data', y='Average return', yerr=std, rot=0, figsize=(14, 5))\n",
        "\n",
        "# Set x-label to an empty string\n",
        "plt.xlabel('')\n",
        "\n",
        "# Add a title to the plot\n",
        "plt.title('Average Return for logistic regression')\n",
        "\n",
        "plt.show()\n"
      ],
      "metadata": {
        "colab": {
          "base_uri": "https://localhost:8080/",
          "height": 523
        },
        "id": "m1RiHFSUzEG8",
        "outputId": "3b8c0f59-882c-4db0-b819-2ef89ce9358a"
      },
      "execution_count": 194,
      "outputs": [
        {
          "output_type": "stream",
          "name": "stderr",
          "text": [
            "/usr/local/lib/python3.9/dist-packages/ipykernel/ipkernel.py:283: DeprecationWarning: `should_run_async` will not call `transform_cell` automatically in the future. Please pass the result to `transformed_cell` argument and any exception that happen during thetransform in `preprocessing_exc_tuple` in IPython 7.17 and above.\n",
            "  and should_run_async(code)\n"
          ]
        },
        {
          "output_type": "display_data",
          "data": {
            "text/plain": [
              "<Figure size 1400x500 with 1 Axes>"
            ],
            "image/png": "[encoded data removed]"
          },
          "metadata": {}
        }
      ]
    },
    {
      "cell_type": "markdown",
      "source": [
        "## Report MLP "
      ],
      "metadata": {
        "id": "GMRN-YFLzrbM"
      }
    },
    {
      "cell_type": "markdown",
      "source": [
        "* As expected expert and mixed policy are close to each other also when using MLP. \n",
        "* MLP shows a lower performance than the previously tested algorithms with higher standard deviation error."
      ],
      "metadata": {
        "id": "Ogwl_PXszvWg"
      }
    },
    {
      "cell_type": "code",
      "source": [],
      "metadata": {
        "id": "mNoBTiwDzuQa"
      },
      "execution_count": null,
      "outputs": []
    }
  ]
}